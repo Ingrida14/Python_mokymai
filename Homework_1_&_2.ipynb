{
 "cells": [
  {
   "attachments": {},
   "cell_type": "markdown",
   "metadata": {},
   "source": [
    "# Namu darbai 1"
   ]
  },
  {
   "cell_type": "code",
   "execution_count": 4,
   "metadata": {},
   "outputs": [
    {
     "name": "stdout",
     "output_type": "stream",
     "text": [
      "['Lietuva', 'Latvija']\n",
      "2\n",
      "['Lietuva', 'Latvija', 'Estija']\n"
     ]
    }
   ],
   "source": [
    "# 1. Deklaruoti list tipo duomenį, gauti jo ilgį, pridėti naują elementą\n",
    "\n",
    "countries = ['Lietuva', 'Latvija']\n",
    "print (countries)\n",
    "print (len(countries) )\n",
    "combined = ['Lietuva', 'Latvija'] + ['Estija']\n",
    "print (combined)"
   ]
  },
  {
   "cell_type": "code",
   "execution_count": 6,
   "metadata": {},
   "outputs": [
    {
     "name": "stdout",
     "output_type": "stream",
     "text": [
      "['Lietuva', 'Latvija', 'Estija']\n",
      "True\n"
     ]
    }
   ],
   "source": [
    "# 2. Patikrinti ar elementas yra jūsų sąraše. Naudoti raktažodį in\n",
    "combined = ['Lietuva', 'Latvija'] + ['Estija']\n",
    "print (combined)\n",
    "print ('Estija' in combined)"
   ]
  },
  {
   "cell_type": "code",
   "execution_count": 4,
   "metadata": {},
   "outputs": [
    {
     "name": "stdout",
     "output_type": "stream",
     "text": [
      "[6, 7, 9, 11, 4, 8]\n",
      "[6, 7, 9, 11, 4]\n",
      "[4, 6, 7, 9, 11]\n",
      "0\n"
     ]
    }
   ],
   "source": [
    "# 3.Sudėti du list’us, išimti paskutinį narį iš sudėto listo, išrikiuoti list’ą, suskaičiuoti kiek yra kokios nors reikšmės įvesčių list’e\n",
    "list_1 = [6,7,9]\n",
    "list_2 = [11,4,8]\n",
    "\n",
    "combined= list_1 + list_2\n",
    "print (combined)\n",
    "combined.pop()\n",
    "print (combined)\n",
    "combined.sort()\n",
    "print (combined)\n",
    "print (combined.count(1) )\n",
    "\n",
    "\n",
    "\n",
    "\n",
    "\n",
    "\n",
    "\n",
    "\n",
    "\n"
   ]
  },
  {
   "attachments": {},
   "cell_type": "markdown",
   "metadata": {},
   "source": [
    "# Namu darbai 2"
   ]
  },
  {
   "cell_type": "code",
   "execution_count": 91,
   "metadata": {},
   "outputs": [
    {
     "name": "stdout",
     "output_type": "stream",
     "text": [
      "[('Pirmadienis', 12), ('Pirmadienis', 13), ('Pirmadienis', 14), ('Pirmadienis', 15), ('Pirmadienis', 16), ('Pirmadienis', 17), ('Treciadienis', 12), ('Treciadienis', 13), ('Treciadienis', 14), ('Treciadienis', 15), ('Treciadienis', 16), ('Treciadienis', 17)]\n"
     ]
    }
   ],
   "source": [
    "# 1. Gaukite visas įmanomas kombinacijas iš šių sąrašų tik tada, jei diena yra arba pirmadienis arba trečiadienis, o valandos yra nuo 12 iki 17, įrašykite jas į list’ą .\n",
    "dienos = ('Pirmadienis', 'Antradienis', 'Treciadienis', 'Ketvirtadienis', 'Penktadienis', 'Sestadienis', 'Sekmadienis')\n",
    "valandos = [10, 11, 12, 13, 14, 15, 16, 17, 18, 19]\n",
    "\n",
    "kombinacijos = []\n",
    "dienos_1 = ('Pirmadienis', 'Treciadienis' )\n",
    "valandos_1 = ( 12, 13, 14, 15, 16, 17 )\n",
    "\n",
    "for diena in dienos_1:\n",
    "    for valanda in valandos_1:\n",
    "        kombinacijos.append ( (diena, valanda) )\n",
    "\n",
    "print (kombinacijos)\n"
   ]
  },
  {
   "cell_type": "code",
   "execution_count": 5,
   "metadata": {},
   "outputs": [
    {
     "name": "stdout",
     "output_type": "stream",
     "text": [
      " 1 =\n",
      " 2 = Fizz\n",
      " 3 = Buzz\n",
      " 4 = Fizz\n",
      " 5 =\n",
      " 6 = FizzBuzz\n",
      " 7 =\n",
      " 8 = Fizz\n",
      " 9 = Buzz\n",
      " 10 = Fizz\n",
      " 11 =\n",
      " 12 = FizzBuzz\n",
      " 13 =\n",
      " 14 = Fizz\n",
      " 15 = Buzz\n",
      " 16 = Fizz\n",
      " 17 =\n",
      " 18 = FizzBuzz\n",
      " 19 =\n",
      " 20 = Fizz\n",
      " 21 = Buzz\n",
      " 22 = Fizz\n",
      " 23 =\n",
      " 24 = FizzBuzz\n",
      " 25 =\n",
      " 26 = Fizz\n",
      " 27 = Buzz\n",
      " 28 = Fizz\n",
      " 29 =\n",
      " 30 = FizzBuzz\n",
      " 31 =\n",
      " 32 = Fizz\n",
      " 33 = Buzz\n",
      " 34 = Fizz\n",
      " 35 =\n",
      " 36 = FizzBuzz\n",
      " 37 =\n",
      " 38 = Fizz\n",
      " 39 = Buzz\n",
      " 40 = Fizz\n",
      " 41 =\n",
      " 42 = FizzBuzz\n",
      " 43 =\n",
      " 44 = Fizz\n",
      " 45 = Buzz\n",
      " 46 = Fizz\n",
      " 47 =\n",
      " 48 = FizzBuzz\n",
      " 49 =\n",
      " 50 = Fizz\n",
      " 51 = Buzz\n",
      " 52 = Fizz\n",
      " 53 =\n",
      " 54 = FizzBuzz\n",
      " 55 =\n",
      " 56 = Fizz\n",
      " 57 = Buzz\n",
      " 58 = Fizz\n",
      " 59 =\n",
      " 60 = FizzBuzz\n",
      " 61 =\n",
      " 62 = Fizz\n",
      " 63 = Buzz\n",
      " 64 = Fizz\n",
      " 65 =\n",
      " 66 = FizzBuzz\n",
      " 67 =\n",
      " 68 = Fizz\n",
      " 69 = Buzz\n",
      " 70 = Fizz\n",
      " 71 =\n",
      " 72 = FizzBuzz\n",
      " 73 =\n",
      " 74 = Fizz\n",
      " 75 = Buzz\n",
      " 76 = Fizz\n",
      " 77 =\n",
      " 78 = FizzBuzz\n",
      " 79 =\n",
      " 80 = Fizz\n",
      " 81 = Buzz\n",
      " 82 = Fizz\n",
      " 83 =\n",
      " 84 = FizzBuzz\n",
      " 85 =\n",
      " 86 = Fizz\n",
      " 87 = Buzz\n",
      " 88 = Fizz\n",
      " 89 =\n",
      " 90 = FizzBuzz\n",
      " 91 =\n",
      " 92 = Fizz\n",
      " 93 = Buzz\n",
      " 94 = Fizz\n",
      " 95 =\n",
      " 96 = FizzBuzz\n",
      " 97 =\n",
      " 98 = Fizz\n",
      " 99 = Buzz\n",
      " 100 = Fizz\n"
     ]
    }
   ],
   "source": [
    "# 2. Iš pirmų 100 skaičių, jeigu skaičius dalinasi iš 2 be liekanos, atspausdinkite ‘Fizz’, jeigu skaičius dalinasi iš 3 be liekanos atspausdinkite ‘Buzz’, jei skaičius dalinasi iš 2 ir 3 be liekanos, atspausdinkite ‘FizzBuzz’\n",
    "\n",
    "for skaicius in range (1,101):\n",
    "    if skaicius % 2 == 0 and skaicius % 3 == 0:\n",
    "        print (f' {skaicius} = FizzBuzz')\n",
    "\n",
    "    elif skaicius % 2 == 0:\n",
    "        print (f' {skaicius} = Fizz')\n",
    "    elif skaicius % 3 == 0:\n",
    "        print (f' {skaicius} = Buzz')\n",
    "    else:\n",
    "        print (f' {skaicius} =')\n",
    "\n",
    "\n",
    "\n",
    "\n",
    "\n",
    "\n",
    "\n",
    "\n",
    "\n",
    "\n"
   ]
  },
  {
   "cell_type": "code",
   "execution_count": 7,
   "metadata": {},
   "outputs": [
    {
     "name": "stdout",
     "output_type": "stream",
     "text": [
      "1\n",
      "2\n",
      "3\n",
      "4\n",
      "6\n",
      "7\n",
      "8\n",
      "9\n",
      "11\n",
      "12\n",
      "13\n",
      "14\n"
     ]
    }
   ],
   "source": [
    "#  Leiskite pasirinkti skaičių, jeigu įvestas skaičius yra daugiau arba lygus 10, einant per skaičius nuo 1 iki pasirinkto skaičiaus, atspausdinkite visus skaičius kurie dalinasi iš 5 su liekana\n",
    "pasirinktas_skaicius = int( input('iveskite skaiciu') )\n",
    "\n",
    "if pasirinktas_skaicius >= 10:\n",
    "    for i in range(1, pasirinktas_skaicius + 1):\n",
    "        if i % 5 != 0:\n",
    "            print(i)\n",
    "else: \n",
    "    print (f'skaicius {pasirinktas_skaicius} mazesnis uz 10')"
   ]
  },
  {
   "cell_type": "code",
   "execution_count": 11,
   "metadata": {},
   "outputs": [
    {
     "name": "stdout",
     "output_type": "stream",
     "text": [
      "[('1', 'labas', 100), ('1', 'labas', 200), ('1', 'labas', 40), ('1', 'labas', 10), ('1', 'vakaras', 100), ('1', 'vakaras', 200), ('1', 'vakaras', 40), ('1', 'vakaras', 10), ('1', 'kokia grazi diena', 100), ('1', 'kokia grazi diena', 200), ('1', 'kokia grazi diena', 40), ('1', 'kokia grazi diena', 10), ('1', 'siandien uz lango', 100), ('1', 'siandien uz lango', 200), ('1', 'siandien uz lango', 40), ('1', 'siandien uz lango', 10), ('1', '10 laipsniu silumos', 100), ('1', '10 laipsniu silumos', 200), ('1', '10 laipsniu silumos', 40), ('1', '10 laipsniu silumos', 10), ('2', 'labas', 100), ('2', 'labas', 200), ('2', 'labas', 40), ('2', 'labas', 10), ('2', 'vakaras', 100), ('2', 'vakaras', 200), ('2', 'vakaras', 40), ('2', 'vakaras', 10), ('2', 'kokia grazi diena', 100), ('2', 'kokia grazi diena', 200), ('2', 'kokia grazi diena', 40), ('2', 'kokia grazi diena', 10), ('2', 'siandien uz lango', 100), ('2', 'siandien uz lango', 200), ('2', 'siandien uz lango', 40), ('2', 'siandien uz lango', 10), ('2', '10 laipsniu silumos', 100), ('2', '10 laipsniu silumos', 200), ('2', '10 laipsniu silumos', 40), ('2', '10 laipsniu silumos', 10), ('3', 'labas', 100), ('3', 'labas', 200), ('3', 'labas', 40), ('3', 'labas', 10), ('3', 'vakaras', 100), ('3', 'vakaras', 200), ('3', 'vakaras', 40), ('3', 'vakaras', 10), ('3', 'kokia grazi diena', 100), ('3', 'kokia grazi diena', 200), ('3', 'kokia grazi diena', 40), ('3', 'kokia grazi diena', 10), ('3', 'siandien uz lango', 100), ('3', 'siandien uz lango', 200), ('3', 'siandien uz lango', 40), ('3', 'siandien uz lango', 10), ('3', '10 laipsniu silumos', 100), ('3', '10 laipsniu silumos', 200), ('3', '10 laipsniu silumos', 40), ('3', '10 laipsniu silumos', 10), ('4', 'labas', 100), ('4', 'labas', 200), ('4', 'labas', 40), ('4', 'labas', 10), ('4', 'vakaras', 100), ('4', 'vakaras', 200), ('4', 'vakaras', 40), ('4', 'vakaras', 10), ('4', 'kokia grazi diena', 100), ('4', 'kokia grazi diena', 200), ('4', 'kokia grazi diena', 40), ('4', 'kokia grazi diena', 10), ('4', 'siandien uz lango', 100), ('4', 'siandien uz lango', 200), ('4', 'siandien uz lango', 40), ('4', 'siandien uz lango', 10), ('4', '10 laipsniu silumos', 100), ('4', '10 laipsniu silumos', 200), ('4', '10 laipsniu silumos', 40), ('4', '10 laipsniu silumos', 10), ('5', 'labas', 100), ('5', 'labas', 200), ('5', 'labas', 40), ('5', 'labas', 10), ('5', 'vakaras', 100), ('5', 'vakaras', 200), ('5', 'vakaras', 40), ('5', 'vakaras', 10), ('5', 'kokia grazi diena', 100), ('5', 'kokia grazi diena', 200), ('5', 'kokia grazi diena', 40), ('5', 'kokia grazi diena', 10), ('5', 'siandien uz lango', 100), ('5', 'siandien uz lango', 200), ('5', 'siandien uz lango', 40), ('5', 'siandien uz lango', 10), ('5', '10 laipsniu silumos', 100), ('5', '10 laipsniu silumos', 200), ('5', '10 laipsniu silumos', 40), ('5', '10 laipsniu silumos', 10)]\n"
     ]
    },
    {
     "data": {
      "text/plain": [
       "[('1', 'labas', 200),\n",
       " ('1', 'vakaras', 200),\n",
       " ('1', 'kokia grazi diena', 200),\n",
       " ('1', 'siandien uz lango', 200),\n",
       " ('1', '10 laipsniu silumos', 200),\n",
       " ('2', 'labas', 200),\n",
       " ('2', 'vakaras', 200),\n",
       " ('2', 'kokia grazi diena', 200),\n",
       " ('2', 'siandien uz lango', 200),\n",
       " ('2', '10 laipsniu silumos', 200),\n",
       " ('3', 'labas', 200),\n",
       " ('3', 'vakaras', 200),\n",
       " ('3', 'kokia grazi diena', 200),\n",
       " ('3', 'siandien uz lango', 200),\n",
       " ('3', '10 laipsniu silumos', 200),\n",
       " ('4', 'labas', 200),\n",
       " ('4', 'vakaras', 200),\n",
       " ('4', 'kokia grazi diena', 200),\n",
       " ('4', 'siandien uz lango', 200),\n",
       " ('4', '10 laipsniu silumos', 200),\n",
       " ('5', 'labas', 200),\n",
       " ('5', 'vakaras', 200),\n",
       " ('5', 'kokia grazi diena', 200),\n",
       " ('5', 'siandien uz lango', 200),\n",
       " ('5', '10 laipsniu silumos', 200),\n",
       " ('1', 'labas', 100),\n",
       " ('1', 'vakaras', 100),\n",
       " ('1', 'kokia grazi diena', 100),\n",
       " ('1', 'siandien uz lango', 100),\n",
       " ('1', '10 laipsniu silumos', 100),\n",
       " ('2', 'labas', 100),\n",
       " ('2', 'vakaras', 100),\n",
       " ('2', 'kokia grazi diena', 100),\n",
       " ('2', 'siandien uz lango', 100),\n",
       " ('2', '10 laipsniu silumos', 100),\n",
       " ('3', 'labas', 100),\n",
       " ('3', 'vakaras', 100),\n",
       " ('3', 'kokia grazi diena', 100),\n",
       " ('3', 'siandien uz lango', 100),\n",
       " ('3', '10 laipsniu silumos', 100),\n",
       " ('4', 'labas', 100),\n",
       " ('4', 'vakaras', 100),\n",
       " ('4', 'kokia grazi diena', 100),\n",
       " ('4', 'siandien uz lango', 100),\n",
       " ('4', '10 laipsniu silumos', 100),\n",
       " ('5', 'labas', 100),\n",
       " ('5', 'vakaras', 100),\n",
       " ('5', 'kokia grazi diena', 100),\n",
       " ('5', 'siandien uz lango', 100),\n",
       " ('5', '10 laipsniu silumos', 100),\n",
       " ('1', 'labas', 40),\n",
       " ('1', 'vakaras', 40),\n",
       " ('1', 'kokia grazi diena', 40),\n",
       " ('1', 'siandien uz lango', 40),\n",
       " ('1', '10 laipsniu silumos', 40),\n",
       " ('2', 'labas', 40),\n",
       " ('2', 'vakaras', 40),\n",
       " ('2', 'kokia grazi diena', 40),\n",
       " ('2', 'siandien uz lango', 40),\n",
       " ('2', '10 laipsniu silumos', 40),\n",
       " ('3', 'labas', 40),\n",
       " ('3', 'vakaras', 40),\n",
       " ('3', 'kokia grazi diena', 40),\n",
       " ('3', 'siandien uz lango', 40),\n",
       " ('3', '10 laipsniu silumos', 40),\n",
       " ('4', 'labas', 40),\n",
       " ('4', 'vakaras', 40),\n",
       " ('4', 'kokia grazi diena', 40),\n",
       " ('4', 'siandien uz lango', 40),\n",
       " ('4', '10 laipsniu silumos', 40),\n",
       " ('5', 'labas', 40),\n",
       " ('5', 'vakaras', 40),\n",
       " ('5', 'kokia grazi diena', 40),\n",
       " ('5', 'siandien uz lango', 40),\n",
       " ('5', '10 laipsniu silumos', 40),\n",
       " ('1', 'labas', 10),\n",
       " ('1', 'vakaras', 10),\n",
       " ('1', 'kokia grazi diena', 10),\n",
       " ('1', 'siandien uz lango', 10),\n",
       " ('1', '10 laipsniu silumos', 10),\n",
       " ('2', 'labas', 10),\n",
       " ('2', 'vakaras', 10),\n",
       " ('2', 'kokia grazi diena', 10),\n",
       " ('2', 'siandien uz lango', 10),\n",
       " ('2', '10 laipsniu silumos', 10),\n",
       " ('3', 'labas', 10),\n",
       " ('3', 'vakaras', 10),\n",
       " ('3', 'kokia grazi diena', 10),\n",
       " ('3', 'siandien uz lango', 10),\n",
       " ('3', '10 laipsniu silumos', 10),\n",
       " ('4', 'labas', 10),\n",
       " ('4', 'vakaras', 10),\n",
       " ('4', 'kokia grazi diena', 10),\n",
       " ('4', 'siandien uz lango', 10),\n",
       " ('4', '10 laipsniu silumos', 10),\n",
       " ('5', 'labas', 10),\n",
       " ('5', 'vakaras', 10),\n",
       " ('5', 'kokia grazi diena', 10),\n",
       " ('5', 'siandien uz lango', 10),\n",
       " ('5', '10 laipsniu silumos', 10)]"
      ]
     },
     "execution_count": 11,
     "metadata": {},
     "output_type": "execute_result"
    }
   ],
   "source": [
    "# 4. Koks yra sąrašo ilgis sudaryto iš pateiktų sąrašų kombinacijų, jeigu norime rasti visas įmanomas reikšmes? Sudėkite visas kombinacijas į sąrašą ir išrikiuokite sąrašą nuo didžiausios iki mažiausios reikšmės. Teks pasidomėti internete kaip galima išrikiuoti tokias kombinacijas.\n",
    "\n",
    "a = ['1','2','3','4','5']\n",
    "b = ['labas', 'vakaras', 'kokia grazi diena', 'siandien uz lango', '10 laipsniu silumos'] \n",
    "c = ['100', '200', 40, 10]\n",
    "\n",
    "c[0] = int(c[0])\n",
    "c[1] = int(c[1])\n",
    "\n",
    "kombinacijos = []\n",
    "for pirmas in a:\n",
    "    for antras in b:\n",
    "        for trecias in c:\n",
    "            kombinacijos.append( (pirmas,antras,trecias) )\n",
    "print (kombinacijos)\n",
    "\n",
    "sorted(kombinacijos, key=lambda x: x[2], reverse=True)\n",
    "\n"
   ]
  }
 ],
 "metadata": {
  "kernelspec": {
   "display_name": "Python 3",
   "language": "python",
   "name": "python3"
  },
  "language_info": {
   "codemirror_mode": {
    "name": "ipython",
    "version": 3
   },
   "file_extension": ".py",
   "mimetype": "text/x-python",
   "name": "python",
   "nbconvert_exporter": "python",
   "pygments_lexer": "ipython3",
   "version": "3.11.1"
  },
  "orig_nbformat": 4,
  "vscode": {
   "interpreter": {
    "hash": "a1127b4b91826d1819a11384393808cd0fa98ab5b681d4aa12f717b76a806d02"
   }
  }
 },
 "nbformat": 4,
 "nbformat_minor": 2
}
