{
 "cells": [
  {
   "attachments": {},
   "cell_type": "markdown",
   "metadata": {},
   "source": [
    "# Mutable and immutable variables"
   ]
  },
  {
   "cell_type": "code",
   "execution_count": 1,
   "metadata": {},
   "outputs": [
    {
     "name": "stdout",
     "output_type": "stream",
     "text": [
      "pries\n",
      "140732287738664\n",
      "140732287738664\n",
      "po\n",
      "140732287738664\n",
      "140732287738824\n",
      "1\n",
      "6\n"
     ]
    }
   ],
   "source": [
    "# immutable variable:\n",
    "a = 1\n",
    "b = a\n",
    "print ('pries')\n",
    "print( id(a) )\n",
    "print( id(b) )\n",
    "b += 5\n",
    "print ('po')\n",
    "print( id(a) )\n",
    "print( id(b) )\n",
    "print (a)\n",
    "print (b)\n"
   ]
  },
  {
   "cell_type": "code",
   "execution_count": 2,
   "metadata": {},
   "outputs": [
    {
     "name": "stdout",
     "output_type": "stream",
     "text": [
      "pries\n",
      "2320210558144\n",
      "2320210558144\n",
      "po\n",
      "2320210558144\n",
      "2320210558144\n",
      "[1, 2, 3, 10]\n",
      "[1, 2, 3, 10]\n"
     ]
    }
   ],
   "source": [
    "# mutable variable:\n",
    "a = [1,2,3]\n",
    "b = a\n",
    "print ('pries')\n",
    "print( id(a) )\n",
    "print( id(b) )\n",
    "b.append(10)\n",
    "print ('po')\n",
    "print( id(a) )\n",
    "print( id(b) )\n",
    "print (a)\n",
    "print (b)"
   ]
  },
  {
   "cell_type": "code",
   "execution_count": 4,
   "metadata": {},
   "outputs": [
    {
     "name": "stdout",
     "output_type": "stream",
     "text": [
      "pries\n",
      "2320210867968\n",
      "2320188363392\n",
      "po\n",
      "2320210867968\n",
      "2320188363392\n",
      "[1, 2, 3]\n",
      "[1, 2, 3, 10]\n"
     ]
    }
   ],
   "source": [
    "# fixing mutable variable #1\n",
    "a = [1,2,3]\n",
    "b = a.copy()\n",
    "print ('pries')\n",
    "print( id(a) )\n",
    "print( id(b) )\n",
    "b.append(10)\n",
    "print ('po')\n",
    "print( id(a) )\n",
    "print( id(b) )\n",
    "print (a)\n",
    "print (b)"
   ]
  },
  {
   "cell_type": "code",
   "execution_count": 3,
   "metadata": {},
   "outputs": [
    {
     "name": "stdout",
     "output_type": "stream",
     "text": [
      "pries\n",
      "2320210866304\n",
      "2320210867136\n",
      "po\n",
      "2320210866304\n",
      "2320210867136\n",
      "[1, 2, ['a', 'b', 'c']]\n",
      "[1, 2, ['a', 'b', 'c']]\n"
     ]
    }
   ],
   "source": [
    "# where fix #1 doesn't work\n",
    "a = [1,2, [ 'a', 'b' ] ]\n",
    "b = a.copy()\n",
    "print ('pries')\n",
    "print( id(a) )\n",
    "print( id(b) )\n",
    "b[-1].append( 'c' )\n",
    "print ('po')\n",
    "print( id(a) )\n",
    "print( id(b) )\n",
    "print (a)\n",
    "print (b)"
   ]
  },
  {
   "cell_type": "code",
   "execution_count": 5,
   "metadata": {},
   "outputs": [
    {
     "name": "stdout",
     "output_type": "stream",
     "text": [
      "pries\n",
      "2320210866240\n",
      "2320210866304\n",
      "po\n",
      "2320210866240\n",
      "2320210866304\n",
      "[1, 2, ['a', 'b']]\n",
      "[1, 2, ['a', 'b', 'c']]\n"
     ]
    }
   ],
   "source": [
    "# fixing mutable variable #2\n",
    "import copy\n",
    "a = [1,2, [ 'a', 'b' ] ]\n",
    "b = copy.deepcopy(a)\n",
    "print ('pries')\n",
    "print( id(a) )\n",
    "print( id(b) )\n",
    "b[-1].append( 'c' )\n",
    "print ('po')\n",
    "print( id(a) )\n",
    "print( id(b) )\n",
    "print (a)\n",
    "print (b)"
   ]
  },
  {
   "attachments": {},
   "cell_type": "markdown",
   "metadata": {},
   "source": [
    "# Tuple"
   ]
  },
  {
   "cell_type": "code",
   "execution_count": 6,
   "metadata": {},
   "outputs": [],
   "source": [
    "my_tuple = ( 1,5,'b')"
   ]
  },
  {
   "cell_type": "code",
   "execution_count": null,
   "metadata": {},
   "outputs": [],
   "source": [
    "print (type(my_tuple) )\n",
    "print (type)"
   ]
  },
  {
   "cell_type": "code",
   "execution_count": null,
   "metadata": {},
   "outputs": [],
   "source": [
    "print (my_tuple)"
   ]
  },
  {
   "cell_type": "code",
   "execution_count": 7,
   "metadata": {},
   "outputs": [
    {
     "name": "stdout",
     "output_type": "stream",
     "text": [
      "5\n"
     ]
    }
   ],
   "source": [
    "print (my_tuple[1])\n",
    "print (my_tupl"
   ]
  },
  {
   "cell_type": "code",
   "execution_count": null,
   "metadata": {},
   "outputs": [],
   "source": [
    "my_tuple = ()"
   ]
  },
  {
   "cell_type": "code",
   "execution_count": 8,
   "metadata": {},
   "outputs": [
    {
     "name": "stdout",
     "output_type": "stream",
     "text": [
      "1\n"
     ]
    }
   ],
   "source": [
    "print (my_tuple.count(1) )"
   ]
  },
  {
   "cell_type": "code",
   "execution_count": 9,
   "metadata": {},
   "outputs": [
    {
     "ename": "ValueError",
     "evalue": "tuple.index(x): x not in tuple",
     "output_type": "error",
     "traceback": [
      "\u001b[1;31m---------------------------------------------------------------------------\u001b[0m",
      "\u001b[1;31mValueError\u001b[0m                                Traceback (most recent call last)",
      "Cell \u001b[1;32mIn[9], line 1\u001b[0m\n\u001b[1;32m----> 1\u001b[0m \u001b[39mprint\u001b[39m (my_tuple\u001b[39m.\u001b[39;49mindex(\u001b[39m54\u001b[39;49m) )\n",
      "\u001b[1;31mValueError\u001b[0m: tuple.index(x): x not in tuple"
     ]
    }
   ],
   "source": [
    "print (my_tuple.index(54) )"
   ]
  },
  {
   "cell_type": "code",
   "execution_count": 12,
   "metadata": {},
   "outputs": [
    {
     "name": "stdout",
     "output_type": "stream",
     "text": [
      "3\n",
      "False\n",
      "True\n"
     ]
    }
   ],
   "source": [
    "print (len(my_tuple) )\n",
    "print ( 100 in my_tuple )\n",
    "print ( 1 in my_tuple)"
   ]
  },
  {
   "cell_type": "code",
   "execution_count": 15,
   "metadata": {},
   "outputs": [
    {
     "name": "stdout",
     "output_type": "stream",
     "text": [
      "[1, 5, 'b']\n",
      "<class 'list'>\n",
      "(1, 5, 'b')\n"
     ]
    }
   ],
   "source": [
    "my_list = list( my_tuple )\n",
    "print (my_list)\n",
    "print (type(my_list) )\n",
    "print (my_tuple)\n",
    "\n",
    "my_tuple"
   ]
  },
  {
   "cell_type": "code",
   "execution_count": 25,
   "metadata": {},
   "outputs": [
    {
     "name": "stdout",
     "output_type": "stream",
     "text": [
      "(1, 2, ['3', 4, 5], [6, [7, 8]])\n",
      "8\n"
     ]
    }
   ],
   "source": [
    "# Uzduotys\n",
    "my_tuple = (1, 2, ['3', 4, 5], [6, [7, (8)]])\n",
    "print (my_tuple)\n",
    "print (my_tuple[3][1][1] )"
   ]
  },
  {
   "cell_type": "code",
   "execution_count": 29,
   "metadata": {},
   "outputs": [
    {
     "name": "stdout",
     "output_type": "stream",
     "text": [
      "[11, [222, 33], 44, 55]\n",
      "(11, [222, 22], 44, 55)\n"
     ]
    }
   ],
   "source": [
    "tuple1 = (11, [222, 33], 44, 55)\n",
    "list1 = list(tuple1)\n",
    "print (list1)\n",
    "list1[1][1] = 22\n",
    "tuple1 = tuple(list1)\n",
    "print(tuple1)"
   ]
  },
  {
   "cell_type": "code",
   "execution_count": 31,
   "metadata": {},
   "outputs": [
    {
     "name": "stdout",
     "output_type": "stream",
     "text": [
      "(11, [222, 22], 44, 55)\n"
     ]
    }
   ],
   "source": [
    "tuple1 = (11, [222, 33], 44, 55)\n",
    "tuple1[1][1] = 22\n",
    "print (tuple1)"
   ]
  },
  {
   "cell_type": "code",
   "execution_count": 37,
   "metadata": {},
   "outputs": [
    {
     "name": "stdout",
     "output_type": "stream",
     "text": [
      "(1, 2, 76, 6, 88, 3, 1, 1)\n",
      "(1, 2, 76, 6, 88, 3, 1)\n",
      "(1, 1, 2, 3, 6, 76, 88)\n",
      "2\n",
      "88\n",
      "88\n"
     ]
    }
   ],
   "source": [
    "tuple2 = (1, 2, 76, 6)\n",
    "tuple3 = (88, 3, 1, 1)\n",
    "tuple_new = tuple2 + tuple3\n",
    "print(tuple_new)\n",
    "list_new = list(tuple_new)\n",
    "list_new.pop(-1)\n",
    "tuple_new = tuple(list_new)\n",
    "print(tuple_new)\n",
    "list_new = list(tuple_new)\n",
    "list_new.sort()\n",
    "tuple_new = tuple(list_new)\n",
    "print(tuple_new)\n",
    "print(tuple_new.count(1))\n",
    "print(tuple_new[-1])\n",
    "print ( max (tuple_new ) )"
   ]
  },
  {
   "attachments": {},
   "cell_type": "markdown",
   "metadata": {},
   "source": [
    "# Range"
   ]
  },
  {
   "cell_type": "code",
   "execution_count": 43,
   "metadata": {},
   "outputs": [
    {
     "name": "stdout",
     "output_type": "stream",
     "text": [
      "range(0, 10)\n",
      "<class 'range'>\n",
      "[0, 1, 2, 3, 4, 5, 6, 7, 8, 9]\n",
      "[-5, -4, -3, -2, -1, 0, 1, 2, 3, 4, 5, 6, 7, 8, 9]\n",
      "[-5, -2, 1, 4, 7]\n",
      "[100, 85, 70, 55, 40, 25, 10, -5, -20]\n"
     ]
    }
   ],
   "source": [
    "print ( range(10) )\n",
    "print ( type ( range(10) ) )\n",
    "print ( list( range(10) ) )\n",
    "print ( list( range(-5, 10) ) )\n",
    "print ( list( range(-5, 10, 3) ) )\n",
    "print ( list( range(100, -32, -15) ) )\n",
    "# range (start, end, step)"
   ]
  },
  {
   "attachments": {},
   "cell_type": "markdown",
   "metadata": {},
   "source": [
    "# For Loop (for ciklas)"
   ]
  },
  {
   "cell_type": "code",
   "execution_count": 47,
   "metadata": {},
   "outputs": [
    {
     "name": "stdout",
     "output_type": "stream",
     "text": [
      "Vlnius\n",
      "['Vlnius', 'Kaunas', 'Klaipeda']\n",
      "Vlnius yra nuostabus miestas\n",
      "Kaunas\n",
      "['Vlnius', 'Kaunas', 'Klaipeda']\n",
      "Kaunas yra nuostabus miestas\n",
      "Klaipeda\n",
      "['Vlnius', 'Kaunas', 'Klaipeda']\n",
      "Klaipeda yra nuostabus miestas\n",
      "pabaiga\n"
     ]
    }
   ],
   "source": [
    "miestai = ['Vlnius', 'Kaunas', 'Klaipeda']\n",
    "\n",
    "# for <sugalvotas zodis> in <sarasas/tuple/tekstas/range>:\n",
    "for miestas in miestai:\n",
    "    print(miestas)\n",
    "    print(miestai)\n",
    "    print(f'{miestas} yra nuostabus miestas')\n",
    "print('pabaiga')"
   ]
  },
  {
   "cell_type": "code",
   "execution_count": 48,
   "metadata": {},
   "outputs": [
    {
     "name": "stdout",
     "output_type": "stream",
     "text": [
      "Vlnius yra nuostabus miestas\n",
      "Kaunas yra nuostabus miestas\n",
      "Klaipeda yra nuostabus miestas\n"
     ]
    }
   ],
   "source": [
    "for x in miestai:\n",
    "    print(f'{x} yra nuostabus miestas')"
   ]
  },
  {
   "cell_type": "code",
   "execution_count": 49,
   "metadata": {},
   "outputs": [
    {
     "name": "stdout",
     "output_type": "stream",
     "text": [
      "9\n",
      "49\n",
      "121\n",
      "225\n",
      "361\n",
      "529\n",
      "729\n",
      "961\n",
      "1225\n",
      "1521\n",
      "1849\n"
     ]
    }
   ],
   "source": [
    "for number in range(3,46,4):\n",
    "    print (number**2)"
   ]
  },
  {
   "cell_type": "code",
   "execution_count": 53,
   "metadata": {},
   "outputs": [
    {
     "name": "stdout",
     "output_type": "stream",
     "text": [
      "tarpine suma: 13.4\n",
      "tarpine suma: 159.85\n",
      "tarpine suma: 705.85\n",
      "tarpine suma: 759.85\n",
      "galutine suma: 759.85\n",
      "galutine sandauga: 1\n"
     ]
    }
   ],
   "source": [
    "mokejimai = [ 13.4, 146.45, 546,54]\n",
    "\n",
    "sandauga = 1\n",
    "suma = 0\n",
    "for mokejimas in mokejimai:\n",
    "    suma += mokejimas\n",
    "    print( f'tarpine suma: {suma}')\n",
    "print( f'galutine suma: {suma}')\n",
    "print( f'galutine sandauga: {sandauga}')\n"
   ]
  },
  {
   "cell_type": "code",
   "execution_count": 54,
   "metadata": {},
   "outputs": [
    {
     "name": "stdout",
     "output_type": "stream",
     "text": [
      "759.85\n"
     ]
    }
   ],
   "source": [
    "print( sum(mokejimai) )"
   ]
  },
  {
   "cell_type": "code",
   "execution_count": 4,
   "metadata": {},
   "outputs": [],
   "source": [
    "human_input = input('Koks jusu vardas')"
   ]
  },
  {
   "cell_type": "code",
   "execution_count": 3,
   "metadata": {},
   "outputs": [
    {
     "name": "stdout",
     "output_type": "stream",
     "text": [
      "\n"
     ]
    }
   ],
   "source": [
    "print( human_input )"
   ]
  },
  {
   "cell_type": "code",
   "execution_count": 69,
   "metadata": {},
   "outputs": [],
   "source": [
    "human_input = ('Irasykite skaiciu nuo 1 iki 10')"
   ]
  },
  {
   "cell_type": "code",
   "execution_count": 70,
   "metadata": {},
   "outputs": [
    {
     "name": "stdout",
     "output_type": "stream",
     "text": [
      "Irasykite skaiciu nuo 1 iki 10\n"
     ]
    }
   ],
   "source": [
    "print ( human_input )\n"
   ]
  },
  {
   "cell_type": "code",
   "execution_count": 58,
   "metadata": {},
   "outputs": [
    {
     "name": "stdout",
     "output_type": "stream",
     "text": [
      "1\n",
      "2\n",
      "3\n",
      "4\n",
      "5\n",
      "6\n",
      "7\n",
      "8\n",
      "9\n",
      "10\n"
     ]
    }
   ],
   "source": [
    "# Uzduotys\n",
    "for skaicius in range (1,11):\n",
    "    print(skaicius)\n",
    "\n",
    "print ('antra dalis')\n",
    "suma = 0\n",
    "for skaicius in range (1,51):\n",
    "    # suma = suma + skaicius\n",
    "    suma += skaicius\n",
    "print(suma)\n"
   ]
  },
  {
   "cell_type": "code",
   "execution_count": 7,
   "metadata": {},
   "outputs": [
    {
     "name": "stdout",
     "output_type": "stream",
     "text": [
      "<class 'str'>\n"
     ]
    },
    {
     "ename": "ValueError",
     "evalue": "invalid literal for int() with base 10: ''",
     "output_type": "error",
     "traceback": [
      "\u001b[1;31m---------------------------------------------------------------------------\u001b[0m",
      "\u001b[1;31mValueError\u001b[0m                                Traceback (most recent call last)",
      "Cell \u001b[1;32mIn[7], line 3\u001b[0m\n\u001b[0;32m      1\u001b[0m skaicius \u001b[39m=\u001b[39m \u001b[39minput\u001b[39m(\u001b[39m'\u001b[39m\u001b[39miveskite skaiciu\u001b[39m\u001b[39m'\u001b[39m)\n\u001b[0;32m      2\u001b[0m \u001b[39mprint\u001b[39m( \u001b[39mtype\u001b[39m(skaicius) )\n\u001b[1;32m----> 3\u001b[0m skaicius \u001b[39m=\u001b[39m \u001b[39mint\u001b[39;49m( skaicius )\n\u001b[0;32m      4\u001b[0m \u001b[39mprint\u001b[39m( skaicius)\n\u001b[0;32m      5\u001b[0m \u001b[39mprint\u001b[39m( \u001b[39mtype\u001b[39m(skaicius) )\n",
      "\u001b[1;31mValueError\u001b[0m: invalid literal for int() with base 10: ''"
     ]
    }
   ],
   "source": [
    "skaicius = input('iveskite skaiciu')\n",
    "print( type(skaicius) )\n",
    "skaicius = int( skaicius )\n",
    "print( skaicius)\n",
    "print( type(skaicius) )\n",
    "\n",
    "for x in range(1,11):\n",
    "    print(f'{skaicius}x{x} = {skaicius*x}')\n"
   ]
  },
  {
   "cell_type": "code",
   "execution_count": 64,
   "metadata": {},
   "outputs": [
    {
     "name": "stdout",
     "output_type": "stream",
     "text": [
      "[('Pirmadienis', 10), ('Pirmadienis', 11), ('Pirmadienis', 12), ('Pirmadienis', 13), ('Pirmadienis', 14), ('Pirmadienis', 15), ('Pirmadienis', 16), ('Pirmadienis', 17), ('Pirmadienis', 18), ('Pirmadienis', 19), ('Antradienis', 10), ('Antradienis', 11), ('Antradienis', 12), ('Antradienis', 13), ('Antradienis', 14), ('Antradienis', 15), ('Antradienis', 16), ('Antradienis', 17), ('Antradienis', 18), ('Antradienis', 19), ('Treciadienis', 10), ('Treciadienis', 11), ('Treciadienis', 12), ('Treciadienis', 13), ('Treciadienis', 14), ('Treciadienis', 15), ('Treciadienis', 16), ('Treciadienis', 17), ('Treciadienis', 18), ('Treciadienis', 19), ('Ketvirtadienis', 10), ('Ketvirtadienis', 11), ('Ketvirtadienis', 12), ('Ketvirtadienis', 13), ('Ketvirtadienis', 14), ('Ketvirtadienis', 15), ('Ketvirtadienis', 16), ('Ketvirtadienis', 17), ('Ketvirtadienis', 18), ('Ketvirtadienis', 19), ('Penktadienis', 10), ('Penktadienis', 11), ('Penktadienis', 12), ('Penktadienis', 13), ('Penktadienis', 14), ('Penktadienis', 15), ('Penktadienis', 16), ('Penktadienis', 17), ('Penktadienis', 18), ('Penktadienis', 19), ('Sestadienis', 10), ('Sestadienis', 11), ('Sestadienis', 12), ('Sestadienis', 13), ('Sestadienis', 14), ('Sestadienis', 15), ('Sestadienis', 16), ('Sestadienis', 17), ('Sestadienis', 18), ('Sestadienis', 19), ('Sekmadienis', 10), ('Sekmadienis', 11), ('Sekmadienis', 12), ('Sekmadienis', 13), ('Sekmadienis', 14), ('Sekmadienis', 15), ('Sekmadienis', 16), ('Sekmadienis', 17), ('Sekmadienis', 18), ('Sekmadienis', 19)]\n"
     ]
    }
   ],
   "source": [
    "dienos = ('Pirmadienis', 'Antradienis', 'Treciadienis', 'Ketvirtadienis', 'Penktadienis', 'Sestadienis' , 'Sekmadienis')\n",
    "valandos = [10, 11, 12, 13, 14, 15, 16, 17, 18, 19]\n",
    "\n",
    "kombinacijos = []\n",
    "\n",
    "for diena in dienos:\n",
    "    # print(diena)\n",
    "    for valanda in valandos:\n",
    "        # print(valanda)\n",
    "        kombinacijos.append( (diena, valanda) )\n",
    "        # print('mazo ciklo pabaiga')\n",
    "    # print('didelio ciklo pabaiga')\n",
    "\n",
    "print (kombinacijos)"
   ]
  },
  {
   "attachments": {},
   "cell_type": "markdown",
   "metadata": {},
   "source": [
    " # If deklaracija"
   ]
  },
  {
   "cell_type": "code",
   "execution_count": null,
   "metadata": {},
   "outputs": [],
   "source": []
  },
  {
   "cell_type": "code",
   "execution_count": 1,
   "metadata": {},
   "outputs": [
    {
     "ename": "ValueError",
     "evalue": "invalid literal for int() with base 10: ''",
     "output_type": "error",
     "traceback": [
      "\u001b[1;31m---------------------------------------------------------------------------\u001b[0m",
      "\u001b[1;31mValueError\u001b[0m                                Traceback (most recent call last)",
      "Cell \u001b[1;32mIn[1], line 1\u001b[0m\n\u001b[1;32m----> 1\u001b[0m x \u001b[39m=\u001b[39m \u001b[39mint\u001b[39;49m( \u001b[39minput\u001b[39;49m(\u001b[39m'\u001b[39;49m\u001b[39miveskite skaiciu:\u001b[39;49m\u001b[39m'\u001b[39;49m) )\n\u001b[0;32m      2\u001b[0m \u001b[39mprint\u001b[39m( x )\n\u001b[0;32m      4\u001b[0m \u001b[39mif\u001b[39;00m x \u001b[39m%\u001b[39m \u001b[39m2\u001b[39m \u001b[39m==\u001b[39m \u001b[39m0\u001b[39m:\n",
      "\u001b[1;31mValueError\u001b[0m: invalid literal for int() with base 10: ''"
     ]
    }
   ],
   "source": [
    "x = int( input('iveskite skaiciu:') )\n",
    "print( x )\n",
    "\n",
    "if x % 2 == 0:\n",
    "    print('lyginis')\n",
    "else:\n",
    "    print('nelyginis')"
   ]
  },
  {
   "cell_type": "code",
   "execution_count": 8,
   "metadata": {},
   "outputs": [
    {
     "name": "stdout",
     "output_type": "stream",
     "text": [
      "1\n",
      "2\n",
      "3\n",
      "4\n",
      "5\n",
      "6\n",
      "7\n",
      "8\n",
      "9\n",
      "10\n",
      "11\n",
      "12\n",
      "13\n",
      "14\n",
      "15\n",
      "16\n",
      "17\n",
      "18\n",
      "19\n",
      "20\n"
     ]
    }
   ],
   "source": [
    "# Uzduotys\n",
    "for skaicius in range (1,21):\n",
    "    print(skaicius)\n",
    "    if skaicius % 3 == 0:\n",
    "        \n"
   ]
  },
  {
   "cell_type": "code",
   "execution_count": 3,
   "metadata": {},
   "outputs": [
    {
     "name": "stdout",
     "output_type": "stream",
     "text": [
      "1\n",
      "2\n",
      "suma dalinasi is 2\n",
      "2\n",
      "3\n",
      "4\n",
      "suma dalinasi is 2\n",
      "6\n",
      "5\n",
      "6\n",
      "suma dalinasi is 2\n",
      "12\n",
      "7\n",
      "8\n",
      "suma dalinasi is 2\n",
      "20\n",
      "9\n",
      "10\n",
      "suma dalinasi is 2\n",
      "30\n",
      "11\n",
      "12\n",
      "suma dalinasi is 2\n",
      "42\n",
      "13\n",
      "14\n",
      "suma dalinasi is 2\n",
      "56\n",
      "15\n",
      "16\n",
      "suma dalinasi is 2\n",
      "72\n",
      "17\n",
      "18\n",
      "suma dalinasi is 2\n",
      "90\n",
      "19\n",
      "20\n",
      "suma dalinasi is 2\n",
      "110\n",
      "21\n",
      "22\n",
      "suma dalinasi is 2\n",
      "132\n",
      "23\n",
      "24\n",
      "suma dalinasi is 2\n",
      "156\n",
      "25\n",
      "26\n",
      "suma dalinasi is 2\n",
      "182\n",
      "27\n",
      "28\n",
      "suma dalinasi is 2\n",
      "210\n",
      "29\n",
      "30\n",
      "suma dalinasi is 2\n",
      "240\n",
      "31\n",
      "32\n",
      "suma dalinasi is 2\n",
      "272\n",
      "33\n",
      "34\n",
      "suma dalinasi is 2\n",
      "306\n",
      "35\n",
      "36\n",
      "suma dalinasi is 2\n",
      "342\n",
      "37\n",
      "38\n",
      "suma dalinasi is 2\n",
      "380\n",
      "39\n",
      "40\n",
      "suma dalinasi is 2\n",
      "420\n",
      "41\n",
      "42\n",
      "suma dalinasi is 2\n",
      "462\n",
      "43\n",
      "44\n",
      "suma dalinasi is 2\n",
      "506\n",
      "45\n",
      "46\n",
      "suma dalinasi is 2\n",
      "552\n",
      "47\n",
      "48\n",
      "suma dalinasi is 2\n",
      "600\n",
      "49\n",
      "50\n",
      "suma dalinasi is 2\n",
      "650\n"
     ]
    }
   ],
   "source": [
    "suma = 0\n",
    "for skaicius in range (1,51):\n",
    "    print(skaicius)\n",
    "    if (suma + skaicius) % 2 == 0:\n",
    "       print('suma dalinasi is 2')\n",
    "       suma += skaicius\n",
    "       print(suma)"
   ]
  },
  {
   "cell_type": "code",
   "execution_count": 5,
   "metadata": {},
   "outputs": [
    {
     "ename": "ValueError",
     "evalue": "invalid literal for int() with base 10: ''",
     "output_type": "error",
     "traceback": [
      "\u001b[1;31m---------------------------------------------------------------------------\u001b[0m",
      "\u001b[1;31mValueError\u001b[0m                                Traceback (most recent call last)",
      "Cell \u001b[1;32mIn[5], line 1\u001b[0m\n\u001b[1;32m----> 1\u001b[0m pasirinktas_skaicius \u001b[39m=\u001b[39m \u001b[39mint\u001b[39;49m( \u001b[39minput\u001b[39;49m(\u001b[39m'\u001b[39;49m\u001b[39miveskite skaiciu\u001b[39;49m\u001b[39m'\u001b[39;49m) )\n\u001b[0;32m      3\u001b[0m \u001b[39mif\u001b[39;00m (pasirinktas_skaicius \u001b[39m*\u001b[39m\u001b[39m*\u001b[39m \u001b[39m2\u001b[39m) \u001b[39m%\u001b[39m \u001b[39m2\u001b[39m \u001b[39m!=\u001b[39m \u001b[39m0\u001b[39m:\n\u001b[0;32m      4\u001b[0m     \u001b[39mfor\u001b[39;00m i \u001b[39min\u001b[39;00m \u001b[39mrange\u001b[39m(\u001b[39m1\u001b[39m,\u001b[39m11\u001b[39m):\n",
      "\u001b[1;31mValueError\u001b[0m: invalid literal for int() with base 10: ''"
     ]
    }
   ],
   "source": [
    "pasirinktas_skaicius = int( input('iveskite skaiciu') )\n",
    "\n",
    "if (pasirinktas_skaicius ** 2) % 2 != 0:\n",
    "    for i in range(1,11):\n",
    "        print( pasirinktas_skaicius * i )\n",
    "else:\n",
    "    print( 'pasirinktas skaičius pakeltas kvadratu yra lyginis' )"
   ]
  }
 ],
 "metadata": {
  "kernelspec": {
   "display_name": "Python 3",
   "language": "python",
   "name": "python3"
  },
  "language_info": {
   "codemirror_mode": {
    "name": "ipython",
    "version": 3
   },
   "file_extension": ".py",
   "mimetype": "text/x-python",
   "name": "python",
   "nbconvert_exporter": "python",
   "pygments_lexer": "ipython3",
   "version": "3.11.1"
  },
  "orig_nbformat": 4,
  "vscode": {
   "interpreter": {
    "hash": "a1127b4b91826d1819a11384393808cd0fa98ab5b681d4aa12f717b76a806d02"
   }
  }
 },
 "nbformat": 4,
 "nbformat_minor": 2
}
