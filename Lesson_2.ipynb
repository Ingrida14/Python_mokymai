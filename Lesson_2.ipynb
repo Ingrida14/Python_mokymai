{
 "cells": [
  {
   "cell_type": "code",
   "execution_count": 1,
   "metadata": {},
   "outputs": [],
   "source": [
    "name = 'Ingrida'\n",
    "number_str = '5'"
   ]
  },
  {
   "cell_type": "code",
   "execution_count": 2,
   "metadata": {},
   "outputs": [
    {
     "name": "stdout",
     "output_type": "stream",
     "text": [
      "True\n"
     ]
    }
   ],
   "source": [
    "print('1991'.isdigit() )"
   ]
  },
  {
   "cell_type": "code",
   "execution_count": 4,
   "metadata": {},
   "outputs": [
    {
     "data": {
      "text/plain": [
       "'Ingrida Masyte'"
      ]
     },
     "execution_count": 4,
     "metadata": {},
     "output_type": "execute_result"
    }
   ],
   "source": [
    "# String operations\n",
    "'Ingrida' +' '+ 'Masyte'"
   ]
  },
  {
   "cell_type": "code",
   "execution_count": null,
   "metadata": {},
   "outputs": [],
   "source": [
    "'Ingrida' - '1' # atimti negalima\n"
   ]
  },
  {
   "cell_type": "code",
   "execution_count": 5,
   "metadata": {},
   "outputs": [
    {
     "data": {
      "text/plain": [
       "'hihihihihihihihihihihihihihihihihihihihihihihihihihihihihihihihihihihihihihihihihihihihihihihihihihihihihihihihihihihihihihihihihihihihihihihihihihihihihihihihihihihihihihihihihihihihihihihihihihihihi'"
      ]
     },
     "execution_count": 5,
     "metadata": {},
     "output_type": "execute_result"
    }
   ],
   "source": [
    "'hi' * 100"
   ]
  },
  {
   "cell_type": "code",
   "execution_count": 6,
   "metadata": {},
   "outputs": [
    {
     "ename": "TypeError",
     "evalue": "unsupported operand type(s) for /: 'str' and 'int'",
     "output_type": "error",
     "traceback": [
      "\u001b[1;31m---------------------------------------------------------------------------\u001b[0m",
      "\u001b[1;31mTypeError\u001b[0m                                 Traceback (most recent call last)",
      "Cell \u001b[1;32mIn[6], line 1\u001b[0m\n\u001b[1;32m----> 1\u001b[0m \u001b[39m'\u001b[39;49m\u001b[39mhi\u001b[39;49m\u001b[39m'\u001b[39;49m \u001b[39m/\u001b[39;49m \u001b[39m100\u001b[39;49m\n",
      "\u001b[1;31mTypeError\u001b[0m: unsupported operand type(s) for /: 'str' and 'int'"
     ]
    }
   ],
   "source": [
    "'hi' / 100  # neveikia dalyba"
   ]
  },
  {
   "cell_type": "code",
   "execution_count": 9,
   "metadata": {},
   "outputs": [
    {
     "ename": "SyntaxError",
     "evalue": "unterminated string literal (detected at line 5) (4005316567.py, line 5)",
     "output_type": "error",
     "traceback": [
      "\u001b[1;36m  Cell \u001b[1;32mIn[9], line 5\u001b[1;36m\u001b[0m\n\u001b[1;33m    print( name + ' ' + surname + ', nice to meet you!' Your number is ' + str(number) )\u001b[0m\n\u001b[1;37m                                                                       ^\u001b[0m\n\u001b[1;31mSyntaxError\u001b[0m\u001b[1;31m:\u001b[0m unterminated string literal (detected at line 5)\n"
     ]
    }
   ],
   "source": [
    "#  String formating.f-string\n",
    "name = 'Ingrida'\n",
    "surname = 'Masyte'\n",
    "number = '32'\n",
    "print( name + ' ' + surname + ', nice to meet you!' Your number is ' + str(number) )"
   ]
  },
  {
   "cell_type": "code",
   "execution_count": 11,
   "metadata": {},
   "outputs": [
    {
     "name": "stdout",
     "output_type": "stream",
     "text": [
      "Ingrida Masyte,nice to meet you!Your number is 32\n"
     ]
    }
   ],
   "source": [
    "# F-string\n",
    "print( f'{name} {surname},nice to meet you!Your number is {number}' )"
   ]
  },
  {
   "cell_type": "code",
   "execution_count": 13,
   "metadata": {},
   "outputs": [
    {
     "name": "stdout",
     "output_type": "stream",
     "text": [
      "<class 'int'>\n",
      "<class 'float'>\n"
     ]
    },
    {
     "ename": "NameError",
     "evalue": "name 'number_text' is not defined",
     "output_type": "error",
     "traceback": [
      "\u001b[1;31m---------------------------------------------------------------------------\u001b[0m",
      "\u001b[1;31mNameError\u001b[0m                                 Traceback (most recent call last)",
      "Cell \u001b[1;32mIn[13], line 6\u001b[0m\n\u001b[0;32m      4\u001b[0m \u001b[39mprint\u001b[39m( \u001b[39mtype\u001b[39m(number) )\n\u001b[0;32m      5\u001b[0m \u001b[39mprint\u001b[39m( \u001b[39mtype\u001b[39m(float_number) )\n\u001b[1;32m----> 6\u001b[0m \u001b[39mprint\u001b[39m( \u001b[39mtype\u001b[39m(number_text) )\n",
      "\u001b[1;31mNameError\u001b[0m: name 'number_text' is not defined"
     ]
    }
   ],
   "source": [
    "# Numbers\n",
    "number = 423\n",
    "float_number = 1.5\n",
    "print( type(number) )\n",
    "print( type(float_number) )\n",
    "print( type(number_text) )"
   ]
  },
  {
   "cell_type": "code",
   "execution_count": 18,
   "metadata": {},
   "outputs": [
    {
     "name": "stdout",
     "output_type": "stream",
     "text": [
      "424.5\n",
      "<class 'float'>\n",
      "5\n",
      "50\n",
      "2.0\n",
      "3\n"
     ]
    }
   ],
   "source": [
    "# Operators\n",
    "suma = number + float_number\n",
    "print(suma)\n",
    "print(type(suma))\n",
    "print(10 - 5 )\n",
    "print(10 * 5 )\n",
    "print(10 / 5 )\n",
    "\n",
    "print(10 // 3 )      #sveika dalis dalybos"
   ]
  },
  {
   "cell_type": "code",
   "execution_count": 22,
   "metadata": {},
   "outputs": [
    {
     "name": "stdout",
     "output_type": "stream",
     "text": [
      "dalybos liekana\n",
      "2\n",
      "1\n",
      "0\n",
      "0\n",
      " lyginis ar ne\n",
      "1\n"
     ]
    }
   ],
   "source": [
    "print( 'dalybos liekana' )\n",
    "print(14 % 3 )\n",
    "print(13 % 3 )\n",
    "print(12 % 3 )\n",
    "print(15 % 3 )\n",
    "\n",
    "print(' lyginis ar ne' )\n",
    "print(11 % 2 )"
   ]
  },
  {
   "cell_type": "code",
   "execution_count": 23,
   "metadata": {},
   "outputs": [
    {
     "name": "stdout",
     "output_type": "stream",
     "text": [
      "kelimas laipsniu\n",
      "2^2 = 4\n"
     ]
    }
   ],
   "source": [
    "print('kelimas laipsniu' )\n",
    "print( f'{2}^{2} = {2 ** 2}'  )"
   ]
  },
  {
   "cell_type": "code",
   "execution_count": 24,
   "metadata": {},
   "outputs": [
    {
     "name": "stdout",
     "output_type": "stream",
     "text": [
      "9.600000000000001\n"
     ]
    }
   ],
   "source": [
    "suma = 0\n",
    "kaina_1 = 5.4\n",
    "kaina_2 = 4.2\n",
    "suma = suma + kaina_1\n",
    "suma = suma + kaina_2\n",
    "print ( suma )"
   ]
  },
  {
   "cell_type": "code",
   "execution_count": 25,
   "metadata": {},
   "outputs": [
    {
     "name": "stdout",
     "output_type": "stream",
     "text": [
      "9.600000000000001\n"
     ]
    }
   ],
   "source": [
    "suma = 0\n",
    "suma += kaina_1\n",
    "suma += kaina_2\n",
    "print( suma )"
   ]
  },
  {
   "cell_type": "code",
   "execution_count": null,
   "metadata": {},
   "outputs": [],
   "source": [
    "sandauga = 1\n",
    "sandauga *= kaina_1\n",
    "sandauga *= kaina_2\n",
    "print ( f 'sandauga:')\n"
   ]
  },
  {
   "cell_type": "code",
   "execution_count": 32,
   "metadata": {},
   "outputs": [
    {
     "name": "stdout",
     "output_type": "stream",
     "text": [
      "12\n",
      "8\n",
      "20\n",
      "5.0\n",
      "0\n"
     ]
    }
   ],
   "source": [
    "# Pirma uzduotis\n",
    "suma = 0\n",
    "skaicius_1 = 10\n",
    "skaicius_2 = 2\n",
    "suma = skaicius_1 + skaicius_2\n",
    "print( suma )\n",
    "suma = skaicius_1 - skaicius_2\n",
    "print( suma )\n",
    "suma = skaicius_1 * skaicius_2\n",
    "print( suma )\n",
    "suma = skaicius_1 / skaicius_2\n",
    "print( suma )\n",
    "suma = skaicius_1 % skaicius_2\n",
    "print( suma )\n"
   ]
  },
  {
   "cell_type": "code",
   "execution_count": null,
   "metadata": {},
   "outputs": [],
   "source": [
    "# Antra uzduotis\n",
    "float_1 ="
   ]
  },
  {
   "cell_type": "code",
   "execution_count": null,
   "metadata": {},
   "outputs": [],
   "source": [
    "# Trecia uzduotis"
   ]
  },
  {
   "cell_type": "code",
   "execution_count": 37,
   "metadata": {},
   "outputs": [
    {
     "name": "stdout",
     "output_type": "stream",
     "text": [
      "11680\n",
      "11687\n"
     ]
    }
   ],
   "source": [
    "year = 1991\n",
    "year_passed = ( 2023 - year) * 365\n",
    "print( year_passed )\n",
    "\n",
    "from datetime import date\n",
    "d0 = date(1991, 2, 9)\n",
    "d1 = date.today()\n",
    "delta = d1 - d0\n",
    "print(delta.days)\n"
   ]
  },
  {
   "cell_type": "code",
   "execution_count": 39,
   "metadata": {},
   "outputs": [
    {
     "name": "stdout",
     "output_type": "stream",
     "text": [
      "True\n",
      "<class 'bool'>\n",
      "True\n"
     ]
    }
   ],
   "source": [
    "# Boolean\n",
    "bool_true = True\n",
    "print(bool_true)\n",
    "print(type(bool_true))\n",
    "bool_true = bool(1)\n",
    "print(bool_true)\n",
    "bool_false"
   ]
  },
  {
   "cell_type": "code",
   "execution_count": 40,
   "metadata": {},
   "outputs": [
    {
     "name": "stdout",
     "output_type": "stream",
     "text": [
      "True\n",
      "True\n",
      "True\n"
     ]
    }
   ],
   "source": [
    "print( bool( 1) )\n",
    "print( bool( 2 ) )\n",
    "print( bool(0.0001 ) )\n"
   ]
  },
  {
   "cell_type": "code",
   "execution_count": 41,
   "metadata": {},
   "outputs": [
    {
     "name": "stdout",
     "output_type": "stream",
     "text": [
      "True\n",
      "False\n",
      "False\n"
     ]
    }
   ],
   "source": [
    "print ( 2 < 5 )\n",
    "print ( 10 < 5 )\n",
    "print ( 2 > 5 ) "
   ]
  },
  {
   "cell_type": "code",
   "execution_count": 43,
   "metadata": {},
   "outputs": [
    {
     "name": "stdout",
     "output_type": "stream",
     "text": [
      "True\n",
      "False\n",
      "False\n"
     ]
    }
   ],
   "source": [
    "text = 'Hello world'\n",
    "bool_text = 'd' in text\n",
    "print (bool_text)\n",
    "print('D' in text)\n",
    "print(text.islower())\n",
    "print"
   ]
  },
  {
   "cell_type": "code",
   "execution_count": 44,
   "metadata": {},
   "outputs": [
    {
     "name": "stdout",
     "output_type": "stream",
     "text": [
      "False\n",
      "True\n",
      "True\n"
     ]
    }
   ],
   "source": [
    "print( bool('') )   #+\n",
    "print( bool(' ') )\n",
    "print( bool('adfghna') )"
   ]
  },
  {
   "cell_type": "code",
   "execution_count": 45,
   "metadata": {},
   "outputs": [
    {
     "name": "stdout",
     "output_type": "stream",
     "text": [
      "False\n",
      "True\n"
     ]
    }
   ],
   "source": [
    "print ( not True )\n",
    "print ( not not True )"
   ]
  },
  {
   "cell_type": "code",
   "execution_count": null,
   "metadata": {},
   "outputs": [],
   "source": [
    "print ('and')"
   ]
  },
  {
   "cell_type": "code",
   "execution_count": null,
   "metadata": {},
   "outputs": [],
   "source": [
    "# Boolean uzduotys\n",
    "# Pirma uzduotis\n"
   ]
  },
  {
   "cell_type": "code",
   "execution_count": 47,
   "metadata": {},
   "outputs": [
    {
     "name": "stdout",
     "output_type": "stream",
     "text": [
      "['Vilnius', 'Kaunas', 'Klaipeda']\n",
      "Vilnius\n",
      "<class 'list'>\n"
     ]
    }
   ],
   "source": [
    "# List\n",
    "cities = ['Vilnius', 'Kaunas', 'Klaipeda' ]\n",
    "print ( cities )\n",
    "print (cities[0] )\n",
    "print( type(cities) )"
   ]
  },
  {
   "cell_type": "code",
   "execution_count": 48,
   "metadata": {},
   "outputs": [
    {
     "name": "stdout",
     "output_type": "stream",
     "text": [
      "<class 'int'>\n",
      "<class 'int'>\n"
     ]
    }
   ],
   "source": [
    "numbers = [ 15,654,769,238,'5' ]\n",
    "print (type( numbers[0] ) )\n",
    "print (type( numbers[-2] ) )"
   ]
  },
  {
   "cell_type": "code",
   "execution_count": 49,
   "metadata": {},
   "outputs": [
    {
     "name": "stdout",
     "output_type": "stream",
     "text": [
      "[154, 44, 33]\n"
     ]
    }
   ],
   "source": [
    "numbers = [ 154,44,33 ]\n",
    "print (numbers)\n"
   ]
  },
  {
   "cell_type": "code",
   "execution_count": null,
   "metadata": {},
   "outputs": [],
   "source": [
    "numbers.append"
   ]
  },
  {
   "cell_type": "code",
   "execution_count": null,
   "metadata": {},
   "outputs": [],
   "source": [
    "numbers.count"
   ]
  },
  {
   "cell_type": "code",
   "execution_count": 51,
   "metadata": {},
   "outputs": [
    {
     "name": "stdout",
     "output_type": "stream",
     "text": [
      "[154, 44, 33, 51]\n",
      "[154, 44, 33, 51, [100, 100]]\n",
      "[100, 100]\n",
      "5\n",
      "[154, 44, 33, 51, [100, 100], 100, 100]\n",
      "7\n"
     ]
    }
   ],
   "source": [
    "numbers = [ 154,44,33 ]\n",
    "numbers.append( 51 )\n",
    "print( numbers )\n",
    "numbers.append( [100, 100] )\n",
    "print( numbers )\n",
    "print( numbers[-1] )\n",
    "print(len( numbers ) )\n",
    "\n",
    "numbers.extend( [100, 100] )\n",
    "print( numbers )\n",
    "print(len( numbers) )\n",
    "print( numbers )\n",
    "\n",
    "\n"
   ]
  },
  {
   "cell_type": "code",
   "execution_count": 52,
   "metadata": {},
   "outputs": [
    {
     "data": {
      "text/plain": [
       "5"
      ]
     },
     "execution_count": 52,
     "metadata": {},
     "output_type": "execute_result"
    }
   ],
   "source": [
    "numbers.index(100)\n"
   ]
  },
  {
   "cell_type": "code",
   "execution_count": 54,
   "metadata": {},
   "outputs": [
    {
     "ename": "AttributeError",
     "evalue": "'list' object has no attribute 'insesrt'",
     "output_type": "error",
     "traceback": [
      "\u001b[1;31m---------------------------------------------------------------------------\u001b[0m",
      "\u001b[1;31mAttributeError\u001b[0m                            Traceback (most recent call last)",
      "Cell \u001b[1;32mIn[54], line 1\u001b[0m\n\u001b[1;32m----> 1\u001b[0m numbers\u001b[39m.\u001b[39;49minsesrt(\u001b[39m1\u001b[39m , \u001b[39m500\u001b[39m)\n\u001b[0;32m      2\u001b[0m \u001b[39mprint\u001b[39m (numbers)\n",
      "\u001b[1;31mAttributeError\u001b[0m: 'list' object has no attribute 'insesrt'"
     ]
    }
   ],
   "source": [
    "numbers.insesrt(1 , 500)\n",
    "print (numbers)"
   ]
  },
  {
   "cell_type": "code",
   "execution_count": 55,
   "metadata": {},
   "outputs": [
    {
     "name": "stdout",
     "output_type": "stream",
     "text": [
      "[154, 44, 33, 51, [100, 100], 100, 100]\n",
      "100\n",
      "[154, 44, 33, 51, [100, 100], 100]\n"
     ]
    }
   ],
   "source": [
    "print(numbers)\n",
    "print(numbers.pop() )\n",
    "print(numbers)"
   ]
  },
  {
   "cell_type": "code",
   "execution_count": 56,
   "metadata": {},
   "outputs": [
    {
     "name": "stdout",
     "output_type": "stream",
     "text": [
      "[154, 44, 33, 51, [100, 100], 100]\n"
     ]
    },
    {
     "ename": "ValueError",
     "evalue": "list.remove(x): x not in list",
     "output_type": "error",
     "traceback": [
      "\u001b[1;31m---------------------------------------------------------------------------\u001b[0m",
      "\u001b[1;31mValueError\u001b[0m                                Traceback (most recent call last)",
      "Cell \u001b[1;32mIn[56], line 2\u001b[0m\n\u001b[0;32m      1\u001b[0m \u001b[39mprint\u001b[39m(numbers)\n\u001b[1;32m----> 2\u001b[0m \u001b[39mprint\u001b[39m(numbers\u001b[39m.\u001b[39;49mremove(\u001b[39m500\u001b[39;49m) )\n\u001b[0;32m      3\u001b[0m \u001b[39mprint\u001b[39m(numbers)\n",
      "\u001b[1;31mValueError\u001b[0m: list.remove(x): x not in list"
     ]
    }
   ],
   "source": [
    "print(numbers)\n",
    "print(numbers.remove(500) ) # klaida jei neegzistuoja\n",
    "print(numbers)"
   ]
  },
  {
   "cell_type": "code",
   "execution_count": 60,
   "metadata": {},
   "outputs": [
    {
     "name": "stdout",
     "output_type": "stream",
     "text": [
      "[654, [[[48, [['65']]], 57]]]\n",
      "2\n"
     ]
    }
   ],
   "source": [
    "nested_list = [654, [[[48, [['65']]], 57]]]\n",
    "print(nested_list)\n",
    "print (len(nested_list) )\n",
    "print (nested_list[1] )\n",
    "\n",
    "\n"
   ]
  }
 ],
 "metadata": {
  "kernelspec": {
   "display_name": "Python 3",
   "language": "python",
   "name": "python3"
  },
  "language_info": {
   "codemirror_mode": {
    "name": "ipython",
    "version": 3
   },
   "file_extension": ".py",
   "mimetype": "text/x-python",
   "name": "python",
   "nbconvert_exporter": "python",
   "pygments_lexer": "ipython3",
   "version": "3.11.1"
  },
  "orig_nbformat": 4,
  "vscode": {
   "interpreter": {
    "hash": "a1127b4b91826d1819a11384393808cd0fa98ab5b681d4aa12f717b76a806d02"
   }
  }
 },
 "nbformat": 4,
 "nbformat_minor": 2
}
