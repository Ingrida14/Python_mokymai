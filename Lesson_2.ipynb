{
 "cells": [
  {
   "attachments": {},
   "cell_type": "markdown",
   "metadata": {},
   "source": [
    "# Strings"
   ]
  },
  {
   "cell_type": "code",
   "execution_count": 1,
   "metadata": {},
   "outputs": [],
   "source": [
    "name = 'Ingrida'\n",
    "number_str = '5'"
   ]
  },
  {
   "cell_type": "code",
   "execution_count": 5,
   "metadata": {},
   "outputs": [
    {
     "name": "stdout",
     "output_type": "stream",
     "text": [
      "True\n",
      "False\n",
      "1991 \n",
      "1991\n",
      "True\n"
     ]
    }
   ],
   "source": [
    "print('1991'.isdigit() )\n",
    "print('1991 '.isdigit() )\n",
    "print('1991 ')\n",
    "print('1991 '.strip() )\n",
    "print('1991 '.strip().isdigit() )"
   ]
  },
  {
   "attachments": {},
   "cell_type": "markdown",
   "metadata": {},
   "source": [
    "# String operations"
   ]
  },
  {
   "cell_type": "code",
   "execution_count": 4,
   "metadata": {},
   "outputs": [
    {
     "data": {
      "text/plain": [
       "'Ingrida Masyte'"
      ]
     },
     "execution_count": 4,
     "metadata": {},
     "output_type": "execute_result"
    }
   ],
   "source": [
    "\n",
    "'Ingrida' +' '+ 'Masyte'"
   ]
  },
  {
   "cell_type": "code",
   "execution_count": null,
   "metadata": {},
   "outputs": [],
   "source": [
    "'Ingrida' - '1' # atimti negalima\n"
   ]
  },
  {
   "cell_type": "code",
   "execution_count": 5,
   "metadata": {},
   "outputs": [
    {
     "data": {
      "text/plain": [
       "'hihihihihihihihihihihihihihihihihihihihihihihihihihihihihihihihihihihihihihihihihihihihihihihihihihihihihihihihihihihihihihihihihihihihihihihihihihihihihihihihihihihihihihihihihihihihihihihihihihihihi'"
      ]
     },
     "execution_count": 5,
     "metadata": {},
     "output_type": "execute_result"
    }
   ],
   "source": [
    "'hi' * 100"
   ]
  },
  {
   "cell_type": "code",
   "execution_count": 6,
   "metadata": {},
   "outputs": [
    {
     "ename": "TypeError",
     "evalue": "unsupported operand type(s) for /: 'str' and 'int'",
     "output_type": "error",
     "traceback": [
      "\u001b[1;31m---------------------------------------------------------------------------\u001b[0m",
      "\u001b[1;31mTypeError\u001b[0m                                 Traceback (most recent call last)",
      "Cell \u001b[1;32mIn[6], line 1\u001b[0m\n\u001b[1;32m----> 1\u001b[0m \u001b[39m'\u001b[39;49m\u001b[39mhi\u001b[39;49m\u001b[39m'\u001b[39;49m \u001b[39m/\u001b[39;49m \u001b[39m100\u001b[39;49m\n",
      "\u001b[1;31mTypeError\u001b[0m: unsupported operand type(s) for /: 'str' and 'int'"
     ]
    }
   ],
   "source": [
    "'hi' / 100  # neveikia dalyba"
   ]
  },
  {
   "cell_type": "code",
   "execution_count": 17,
   "metadata": {},
   "outputs": [
    {
     "ename": "SyntaxError",
     "evalue": "invalid syntax. Perhaps you forgot a comma? (1190939276.py, line 5)",
     "output_type": "error",
     "traceback": [
      "\u001b[1;36m  Cell \u001b[1;32mIn[17], line 5\u001b[1;36m\u001b[0m\n\u001b[1;33m    print( 'name + ' ' + surname + ', nice to meet you! Your number is  + str(number) )\u001b[0m\n\u001b[1;37m                                      ^\u001b[0m\n\u001b[1;31mSyntaxError\u001b[0m\u001b[1;31m:\u001b[0m invalid syntax. Perhaps you forgot a comma?\n"
     ]
    }
   ],
   "source": [
    "#  String formating.f-string\n",
    "name = 'Ingrida'\n",
    "surname = 'Masyte'\n",
    "number = 32\n",
    "print( 'name + ' ' + surname + ', nice to meet you! Your number is  + str(number) )"
   ]
  },
  {
   "cell_type": "code",
   "execution_count": 18,
   "metadata": {},
   "outputs": [
    {
     "ename": "NameError",
     "evalue": "name 'name' is not defined",
     "output_type": "error",
     "traceback": [
      "\u001b[1;31m---------------------------------------------------------------------------\u001b[0m",
      "\u001b[1;31mNameError\u001b[0m                                 Traceback (most recent call last)",
      "Cell \u001b[1;32mIn[18], line 2\u001b[0m\n\u001b[0;32m      1\u001b[0m \u001b[39m# F-string\u001b[39;00m\n\u001b[1;32m----> 2\u001b[0m \u001b[39mprint\u001b[39m( \u001b[39mf\u001b[39m\u001b[39m'\u001b[39m\u001b[39m{\u001b[39;00mname\u001b[39m}\u001b[39;00m\u001b[39m \u001b[39m\u001b[39m{\u001b[39;00msurname\u001b[39m}\u001b[39;00m\u001b[39m, nice to meet you! Your number is \u001b[39m\u001b[39m{\u001b[39;00mnumber\u001b[39m}\u001b[39;00m\u001b[39m'\u001b[39m )\n",
      "\u001b[1;31mNameError\u001b[0m: name 'name' is not defined"
     ]
    }
   ],
   "source": [
    "# F-string\n",
    "print( f'{name} {surname}, nice to meet you! Your number is {number}' )\n"
   ]
  },
  {
   "attachments": {},
   "cell_type": "markdown",
   "metadata": {},
   "source": [
    "# Numbers"
   ]
  },
  {
   "cell_type": "code",
   "execution_count": 103,
   "metadata": {},
   "outputs": [
    {
     "name": "stdout",
     "output_type": "stream",
     "text": [
      "<class 'int'>\n",
      "<class 'float'>\n",
      "<class 'str'>\n"
     ]
    }
   ],
   "source": [
    "\n",
    "number = 423\n",
    "number_text = '43'\n",
    "float_number = 1.5\n",
    "print( type(number) )\n",
    "print( type(float_number) )\n",
    "print( type(number_text) )"
   ]
  },
  {
   "attachments": {},
   "cell_type": "markdown",
   "metadata": {},
   "source": [
    "# Operators"
   ]
  },
  {
   "cell_type": "code",
   "execution_count": 19,
   "metadata": {},
   "outputs": [
    {
     "name": "stdout",
     "output_type": "stream",
     "text": [
      "424.5\n",
      "<class 'float'>\n",
      "5\n",
      "50\n",
      "2.0\n",
      "dalybos sveikoji dalis\n",
      "3\n"
     ]
    }
   ],
   "source": [
    "\n",
    "suma = number + float_number\n",
    "print(suma)\n",
    "print(type(suma))\n",
    "print(10 - 5 )\n",
    "print(10 * 5 )\n",
    "print(10 / 5 )\n",
    "\n",
    "print( 'dalybos sveikoji dalis')\n",
    "print(10 // 3 )      #sveika dalis dalybos"
   ]
  },
  {
   "cell_type": "code",
   "execution_count": 104,
   "metadata": {},
   "outputs": [
    {
     "name": "stdout",
     "output_type": "stream",
     "text": [
      "dalybos liekana\n",
      "2\n",
      "1\n",
      "0\n",
      "0\n",
      " lyginis ar ne\n",
      "1\n"
     ]
    }
   ],
   "source": [
    "print( 'dalybos liekana' )\n",
    "print(14 % 3 )\n",
    "print(13 % 3 )\n",
    "print(12 % 3 )\n",
    "print(15 % 3 )\n",
    "\n",
    "print(' lyginis ar ne' )\n",
    "print(11 % 2 )"
   ]
  },
  {
   "cell_type": "code",
   "execution_count": 20,
   "metadata": {},
   "outputs": [
    {
     "name": "stdout",
     "output_type": "stream",
     "text": [
      "kelimas laipsniu\n",
      "2^2 = 4\n",
      "2^3 = 8\n"
     ]
    }
   ],
   "source": [
    "print('kelimas laipsniu' )\n",
    "print( f'{2}^{2} = {2 ** 2}'  )\n",
    "print( f'{2}^{3} = {2 ** 3}' )"
   ]
  },
  {
   "cell_type": "code",
   "execution_count": 22,
   "metadata": {},
   "outputs": [
    {
     "name": "stdout",
     "output_type": "stream",
     "text": [
      "9.600000000000001\n"
     ]
    }
   ],
   "source": [
    "suma = 0\n",
    "kaina_1 = 5.4\n",
    "kaina_2 = 4.2\n",
    "suma = suma + kaina_1\n",
    "suma = suma + kaina_2\n",
    "print ( suma )"
   ]
  },
  {
   "cell_type": "code",
   "execution_count": 25,
   "metadata": {},
   "outputs": [
    {
     "name": "stdout",
     "output_type": "stream",
     "text": [
      "9.600000000000001\n"
     ]
    }
   ],
   "source": [
    "suma = 0\n",
    "suma += kaina_1\n",
    "suma += kaina_2\n",
    "print( suma )"
   ]
  },
  {
   "cell_type": "code",
   "execution_count": 24,
   "metadata": {},
   "outputs": [
    {
     "name": "stdout",
     "output_type": "stream",
     "text": [
      "sandauga: (sandauga)\n"
     ]
    }
   ],
   "source": [
    "sandauga = 1\n",
    "sandauga *= kaina_1\n",
    "sandauga *= kaina_2\n",
    "print ( f'sandauga: (sandauga)')\n"
   ]
  },
  {
   "cell_type": "code",
   "execution_count": 25,
   "metadata": {},
   "outputs": [
    {
     "name": "stdout",
     "output_type": "stream",
     "text": [
      "256\n"
     ]
    }
   ],
   "source": [
    "skaicius = 4\n",
    "skaicius **= 2\n",
    "skaicius **= 2\n",
    "print (skaicius)"
   ]
  },
  {
   "cell_type": "code",
   "execution_count": 32,
   "metadata": {},
   "outputs": [
    {
     "name": "stdout",
     "output_type": "stream",
     "text": [
      "12\n",
      "8\n",
      "20\n",
      "5.0\n",
      "0\n"
     ]
    }
   ],
   "source": [
    "# Pirma uzduotis\n",
    "suma = 0\n",
    "skaicius_1 = 10\n",
    "skaicius_2 = 2\n",
    "suma = skaicius_1 + skaicius_2\n",
    "print( suma )\n",
    "suma = skaicius_1 - skaicius_2\n",
    "print( suma )\n",
    "suma = skaicius_1 * skaicius_2\n",
    "print( suma )\n",
    "suma = skaicius_1 / skaicius_2\n",
    "print( suma )\n",
    "suma = skaicius_1 % skaicius_2\n",
    "print( suma )\n"
   ]
  },
  {
   "cell_type": "code",
   "execution_count": 29,
   "metadata": {},
   "outputs": [
    {
     "name": "stdout",
     "output_type": "stream",
     "text": [
      "16.04\n",
      "-5.039999999999999\n",
      "57.97\n",
      "0.5218216318785579\n",
      "5.5\n"
     ]
    }
   ],
   "source": [
    "# Antra uzduotis\n",
    "float_1 = 5.5\n",
    "float_2 = 10.54\n",
    "print (float_1 + float_2)\n",
    "print (float_1 - float_2)\n",
    "print (float_1 * float_2)\n",
    "print (float_1 / float_2)\n",
    "print (float_1 % float_2)"
   ]
  },
  {
   "cell_type": "code",
   "execution_count": 35,
   "metadata": {},
   "outputs": [
    {
     "name": "stdout",
     "output_type": "stream",
     "text": [
      "Atstumas iki saules yra 390.625 kartu didesnis nei atstumas iki menulio \n",
      "2560.0\n",
      "106.66666666666667\n",
      "3.5555555555555554\n",
      "0.2962962962962963\n",
      "153600.0\n",
      "9216000.0\n"
     ]
    }
   ],
   "source": [
    "# Trecia uzduotis\n",
    "dist_sum = 150_000_000 \n",
    "dist_moon = 384_000\n",
    "\n",
    "speed_per_hour = 150\n",
    "print(f'Atstumas iki saules yra {dist_sum / dist_moon} kartu didesnis nei atstumas iki menulio ')\n",
    "\n",
    "day = speed_per_hour * 24\n",
    "month = day * 30\n",
    "year = month * 12\n",
    "minutes = speed_per_hour/60\n",
    "seconds = minutes/60\n",
    "\n",
    "print(dist_moon/speed_per_hour)\n",
    "print(dist_moon/day)\n",
    "print(dist_moon/month)\n",
    "print(dist_moon/year)\n",
    "print(dist_moon/minutes)\n",
    "print(dist_moon/seconds)\n"
   ]
  },
  {
   "cell_type": "code",
   "execution_count": 105,
   "metadata": {},
   "outputs": [
    {
     "name": "stdout",
     "output_type": "stream",
     "text": [
      "11680\n",
      "11688\n"
     ]
    }
   ],
   "source": [
    "year = 1991\n",
    "year_passed = ( 2023 - year) * 365\n",
    "print( year_passed )\n",
    "\n",
    "from datetime import date\n",
    "d0 = date(1991, 2, 9)\n",
    "d1 = date.today()\n",
    "delta = d1 - d0\n",
    "print(delta.days)\n"
   ]
  },
  {
   "attachments": {},
   "cell_type": "markdown",
   "metadata": {},
   "source": [
    "# Boolen"
   ]
  },
  {
   "cell_type": "code",
   "execution_count": 38,
   "metadata": {},
   "outputs": [
    {
     "name": "stdout",
     "output_type": "stream",
     "text": [
      "True\n",
      "<class 'bool'>\n",
      "True\n",
      "<class 'bool'>\n",
      "False\n",
      "1\n",
      "0\n"
     ]
    }
   ],
   "source": [
    "# Boolen\n",
    "bool_true = True\n",
    "print(bool_true)\n",
    "print(type(bool_true))\n",
    "bool_true = bool(1)\n",
    "print(bool_true)\n",
    "bool_false = False\n",
    "print(type(bool_false))\n",
    "print(bool_false)\n",
    "\n",
    "print( int(bool_true) )\n",
    "print( int(bool_false) )"
   ]
  },
  {
   "cell_type": "code",
   "execution_count": 40,
   "metadata": {},
   "outputs": [
    {
     "name": "stdout",
     "output_type": "stream",
     "text": [
      "True\n",
      "True\n",
      "True\n",
      "True\n",
      "False\n"
     ]
    }
   ],
   "source": [
    "print( bool( 1) )\n",
    "print( bool( 2 ) )\n",
    "print( bool(0.0001 ) )\n",
    "print( bool(-100) )\n",
    "print( bool(0) ) # False tik 0 visa kita True\n"
   ]
  },
  {
   "cell_type": "code",
   "execution_count": 44,
   "metadata": {},
   "outputs": [
    {
     "name": "stdout",
     "output_type": "stream",
     "text": [
      "True\n",
      "False\n",
      "False\n",
      "True\n",
      "True\n",
      "5 == 5\n",
      "True\n",
      "5 != 5\n",
      "False\n"
     ]
    }
   ],
   "source": [
    "print ( 2 < 5 )\n",
    "print ( 10 < 5 )\n",
    "print ( 2 > 5 ) \n",
    "print ( 10 > 5 )\n",
    "print ( 5 >= 5 )\n",
    "\n",
    "print ( '5 == 5' )\n",
    "print ( 5 == 5 )\n",
    "\n",
    "print ( '5 != 5' )\n",
    "print ( 5 != 5 )"
   ]
  },
  {
   "cell_type": "code",
   "execution_count": 46,
   "metadata": {},
   "outputs": [
    {
     "name": "stdout",
     "output_type": "stream",
     "text": [
      "True\n",
      "False\n",
      "False\n",
      "True\n"
     ]
    }
   ],
   "source": [
    "text = 'Hello world'\n",
    "bool_text = 'd' in text\n",
    "print (bool_text)\n",
    "print('D' in text)\n",
    "print(text.islower())\n",
    "print(text.lower().islower())"
   ]
  },
  {
   "cell_type": "code",
   "execution_count": 44,
   "metadata": {},
   "outputs": [
    {
     "name": "stdout",
     "output_type": "stream",
     "text": [
      "False\n",
      "True\n",
      "True\n"
     ]
    }
   ],
   "source": [
    "print( bool('') )   # False tik kai tuscias\n",
    "print( bool(' ') )\n",
    "print( bool('adfghna') )"
   ]
  },
  {
   "cell_type": "code",
   "execution_count": 45,
   "metadata": {},
   "outputs": [
    {
     "name": "stdout",
     "output_type": "stream",
     "text": [
      "False\n",
      "True\n"
     ]
    }
   ],
   "source": [
    "print ( not True )\n",
    "print ( not not True )"
   ]
  },
  {
   "cell_type": "code",
   "execution_count": 51,
   "metadata": {},
   "outputs": [
    {
     "name": "stdout",
     "output_type": "stream",
     "text": [
      "and\n",
      "True\n",
      "False\n",
      "or\n",
      "True\n",
      "True\n",
      "False\n"
     ]
    }
   ],
   "source": [
    "print ('and')\n",
    "print (20 > 10 and 5 > 1)\n",
    "print (20 > 10 and 5 > 10)\n",
    "print ('or')\n",
    "print (20 > 10 or 5 > 1)\n",
    "print (20 > 10 or 5 > 10)\n",
    "print (2 > 10 or 5 > 10)"
   ]
  },
  {
   "cell_type": "code",
   "execution_count": 60,
   "metadata": {},
   "outputs": [
    {
     "name": "stdout",
     "output_type": "stream",
     "text": [
      "True\n",
      "True\n",
      "True\n",
      "True\n",
      "True\n",
      "False\n",
      "False\n",
      "False\n",
      "False\n",
      "False\n"
     ]
    }
   ],
   "source": [
    "# Boolean uzduotys\n",
    "# Pirma uzduotis\n",
    "print (10 > 5)\n",
    "print ('a' in 'auto')\n",
    "test = bool(1)\n",
    "print(test)\n",
    "print(bool('oo'))\n",
    "print( not False )\n",
    "\n",
    "print (10 < 5)\n",
    "print ('A' in 'auto' )\n",
    "test = bool(0)\n",
    "print(test)\n",
    "print(bool(''))\n",
    "print( not True )"
   ]
  },
  {
   "attachments": {},
   "cell_type": "markdown",
   "metadata": {},
   "source": [
    "# List"
   ]
  },
  {
   "cell_type": "code",
   "execution_count": 64,
   "metadata": {},
   "outputs": [
    {
     "name": "stdout",
     "output_type": "stream",
     "text": [
      "['Vilnius', 'Kaunas', 'Klaipeda']\n",
      "Vilnius\n",
      "<class 'list'>\n",
      "<class 'str'>\n",
      "Klaipeda\n",
      "['Kaunas', 'Klaipeda']\n",
      "['Vilnius', 'Kaunas']\n"
     ]
    }
   ],
   "source": [
    "# List\n",
    "cities = ['Vilnius', 'Kaunas', 'Klaipeda' ]\n",
    "print ( cities )\n",
    "print (cities[0] )\n",
    "print (type(cities) )\n",
    "print (type(cities[0]) )\n",
    "print (cities[-1])\n",
    "print (cities[1:])\n",
    "print (cities[:2])"
   ]
  },
  {
   "cell_type": "code",
   "execution_count": 66,
   "metadata": {},
   "outputs": [
    {
     "name": "stdout",
     "output_type": "stream",
     "text": [
      "<class 'int'>\n",
      "<class 'int'>\n",
      "<class 'str'>\n"
     ]
    }
   ],
   "source": [
    "numbers = [ 15,654,769,238,'5' ]\n",
    "print (type( numbers[0] ) )\n",
    "print (type( numbers[-2] ) )\n",
    "print (type(numbers[-1] ) )"
   ]
  },
  {
   "cell_type": "code",
   "execution_count": 67,
   "metadata": {},
   "outputs": [
    {
     "name": "stdout",
     "output_type": "stream",
     "text": [
      "[154, 44, 33]\n",
      "[154, 44, 33, 51]\n"
     ]
    }
   ],
   "source": [
    "numbers = [ 154,44,33 ]\n",
    "print (numbers)\n",
    "numbers.append( 51 )\n",
    "print(numbers)\n"
   ]
  },
  {
   "cell_type": "code",
   "execution_count": 68,
   "metadata": {},
   "outputs": [
    {
     "name": "stdout",
     "output_type": "stream",
     "text": [
      "[154, 44, 33, 51, 51]\n"
     ]
    }
   ],
   "source": [
    "numbers.append( 51 )\n",
    "print(numbers)"
   ]
  },
  {
   "cell_type": "code",
   "execution_count": 69,
   "metadata": {},
   "outputs": [
    {
     "data": {
      "text/plain": [
       "2"
      ]
     },
     "execution_count": 69,
     "metadata": {},
     "output_type": "execute_result"
    }
   ],
   "source": [
    "numbers.count(51)\n"
   ]
  },
  {
   "cell_type": "code",
   "execution_count": 70,
   "metadata": {},
   "outputs": [
    {
     "name": "stdout",
     "output_type": "stream",
     "text": [
      "[154, 44, 33, 51]\n",
      "[154, 44, 33, 51, [100, 100]]\n",
      "[100, 100]\n",
      "5\n",
      "[154, 44, 33, 51, [100, 100], 100, 100]\n",
      "7\n",
      "2\n"
     ]
    }
   ],
   "source": [
    "numbers = [ 154,44,33 ]\n",
    "numbers.append( 51 )\n",
    "print( numbers )\n",
    "numbers.append( [100, 100] )\n",
    "print( numbers )\n",
    "print( numbers[-1] )\n",
    "print(len( numbers ) )\n",
    "\n",
    "numbers.extend( [100, 100] )\n",
    "print( numbers )\n",
    "print(len( numbers) )\n",
    "print( numbers.count(100) )\n",
    "\n",
    "\n"
   ]
  },
  {
   "cell_type": "code",
   "execution_count": 52,
   "metadata": {},
   "outputs": [
    {
     "data": {
      "text/plain": [
       "5"
      ]
     },
     "execution_count": 52,
     "metadata": {},
     "output_type": "execute_result"
    }
   ],
   "source": [
    "numbers.index(100)\n"
   ]
  },
  {
   "cell_type": "code",
   "execution_count": 73,
   "metadata": {},
   "outputs": [
    {
     "name": "stdout",
     "output_type": "stream",
     "text": [
      "[154, 500, 44, 33, 51, [100, 100], 100, 100]\n"
     ]
    }
   ],
   "source": [
    "numbers.insert(1 , 500)\n",
    "print(numbers)"
   ]
  },
  {
   "cell_type": "code",
   "execution_count": 55,
   "metadata": {},
   "outputs": [
    {
     "name": "stdout",
     "output_type": "stream",
     "text": [
      "[154, 44, 33, 51, [100, 100], 100, 100]\n",
      "100\n",
      "[154, 44, 33, 51, [100, 100], 100]\n"
     ]
    }
   ],
   "source": [
    "print(numbers)\n",
    "print(numbers.pop() )\n",
    "print(numbers)"
   ]
  },
  {
   "cell_type": "code",
   "execution_count": 75,
   "metadata": {},
   "outputs": [
    {
     "name": "stdout",
     "output_type": "stream",
     "text": [
      "[154, 44, 33, 51, [100, 100], 100, 100]\n"
     ]
    },
    {
     "ename": "ValueError",
     "evalue": "list.remove(x): x not in list",
     "output_type": "error",
     "traceback": [
      "\u001b[1;31m---------------------------------------------------------------------------\u001b[0m",
      "\u001b[1;31mValueError\u001b[0m                                Traceback (most recent call last)",
      "Cell \u001b[1;32mIn[75], line 2\u001b[0m\n\u001b[0;32m      1\u001b[0m \u001b[39mprint\u001b[39m(numbers)\n\u001b[1;32m----> 2\u001b[0m \u001b[39mprint\u001b[39m(numbers\u001b[39m.\u001b[39;49mremove(\u001b[39m500\u001b[39;49m) )\n\u001b[0;32m      3\u001b[0m \u001b[39mprint\u001b[39m(numbers)\n",
      "\u001b[1;31mValueError\u001b[0m: list.remove(x): x not in list"
     ]
    }
   ],
   "source": [
    "print(numbers)\n",
    "print(numbers.remove(500) ) # klaida jei neegzistuoja skaicius\n",
    "print(numbers)"
   ]
  },
  {
   "attachments": {},
   "cell_type": "markdown",
   "metadata": {},
   "source": [
    "# Nested_list"
   ]
  },
  {
   "cell_type": "code",
   "execution_count": 82,
   "metadata": {},
   "outputs": [
    {
     "name": "stdout",
     "output_type": "stream",
     "text": [
      "[654, [[[48, [['65']]], 57]]]\n",
      "2\n",
      "[[[48, [['65']]], 57]]\n",
      "[[[48, [['65']]], 57]]\n",
      "1\n",
      "[[48, [['65']]], 57]\n",
      "[48, [['65']]]\n",
      "[['65']]\n",
      "['65']\n",
      "65\n"
     ]
    }
   ],
   "source": [
    "nested_list = [654, [[[48, [['65']]], 57]]]\n",
    "print(nested_list)\n",
    "print (len(nested_list) )\n",
    "print (nested_list[1] )\n",
    "print (nested_list[1])\n",
    "print (len(nested_list[1] ))\n",
    "print (nested_list[1][0] )\n",
    "print (nested_list[1][0][0] )\n",
    "print (nested_list[1][0][0][1] )\n",
    "print (nested_list[1][0][0][1][0] )\n",
    "print (nested_list[1][0][0][1][0][0] )\n",
    "\n"
   ]
  },
  {
   "cell_type": "code",
   "execution_count": 83,
   "metadata": {},
   "outputs": [
    {
     "name": "stdout",
     "output_type": "stream",
     "text": [
      "[154, 44, 33, 51, [100, 100], 100, 100]\n"
     ]
    }
   ],
   "source": [
    "print(numbers)"
   ]
  },
  {
   "cell_type": "code",
   "execution_count": 84,
   "metadata": {},
   "outputs": [
    {
     "name": "stdout",
     "output_type": "stream",
     "text": [
      "[100, 100, [100, 100], 51, 33, 44, 154]\n"
     ]
    }
   ],
   "source": [
    "numbers.reverse()\n",
    "print (numbers)"
   ]
  },
  {
   "cell_type": "code",
   "execution_count": 86,
   "metadata": {},
   "outputs": [
    {
     "data": {
      "text/plain": [
       "[154, 44, 33, 51, [100, 100], 100, 100]"
      ]
     },
     "execution_count": 86,
     "metadata": {},
     "output_type": "execute_result"
    }
   ],
   "source": [
    "# numbers [start:end:step]\n",
    "numbers[::-1]"
   ]
  },
  {
   "cell_type": "code",
   "execution_count": 90,
   "metadata": {},
   "outputs": [
    {
     "ename": "TypeError",
     "evalue": "'<' not supported between instances of 'list' and 'int'",
     "output_type": "error",
     "traceback": [
      "\u001b[1;31m---------------------------------------------------------------------------\u001b[0m",
      "\u001b[1;31mTypeError\u001b[0m                                 Traceback (most recent call last)",
      "Cell \u001b[1;32mIn[90], line 1\u001b[0m\n\u001b[1;32m----> 1\u001b[0m numbers\u001b[39m.\u001b[39;49msort()\n\u001b[0;32m      2\u001b[0m \u001b[39mprint\u001b[39m (numbers)\n\u001b[0;32m      3\u001b[0m numbers\u001b[39m.\u001b[39msort(reverse\u001b[39m=\u001b[39m\u001b[39mTrue\u001b[39;00m)\n",
      "\u001b[1;31mTypeError\u001b[0m: '<' not supported between instances of 'list' and 'int'"
     ]
    }
   ],
   "source": [
    "numbers.sort()\n",
    "print (numbers)\n",
    "numbers.sort(reverse=True)\n",
    "print (numbers)"
   ]
  },
  {
   "cell_type": "code",
   "execution_count": null,
   "metadata": {},
   "outputs": [],
   "source": []
  },
  {
   "cell_type": "code",
   "execution_count": 91,
   "metadata": {},
   "outputs": [
    {
     "name": "stdout",
     "output_type": "stream",
     "text": [
      "[100, 100, [100, 100], 51, 33, 44, 154]\n"
     ]
    }
   ],
   "source": [
    "print (numbers)"
   ]
  },
  {
   "cell_type": "code",
   "execution_count": 95,
   "metadata": {},
   "outputs": [
    {
     "name": "stdout",
     "output_type": "stream",
     "text": [
      "[33, 44, 51, 154]\n",
      "[51, 33, 44, 154]\n",
      "[154, 51, 44, 33]\n",
      "[51, 33, 44, 154]\n"
     ]
    }
   ],
   "source": [
    "numbers = [51, 33, 44, 154]\n",
    "print (sorted(numbers ) )\n",
    "print (numbers)\n",
    "print (sorted(numbers,reverse=True))\n",
    "print (numbers)"
   ]
  },
  {
   "cell_type": "code",
   "execution_count": 96,
   "metadata": {},
   "outputs": [
    {
     "name": "stdout",
     "output_type": "stream",
     "text": [
      "['Vilnius', 'Kaunas', 'Klaipeda']\n"
     ]
    }
   ],
   "source": [
    "print (cities)"
   ]
  },
  {
   "cell_type": "code",
   "execution_count": 97,
   "metadata": {},
   "outputs": [
    {
     "name": "stdout",
     "output_type": "stream",
     "text": [
      "['Vilnius', 'Kaunas', 'Siauliai']\n"
     ]
    }
   ],
   "source": [
    "cities[2] = 'Siauliai'\n",
    "print (cities)"
   ]
  },
  {
   "cell_type": "code",
   "execution_count": 98,
   "metadata": {},
   "outputs": [
    {
     "name": "stdout",
     "output_type": "stream",
     "text": [
      "True\n",
      "False\n"
     ]
    }
   ],
   "source": [
    "print (\"Vilnius\" in cities)\n",
    "print (\"Klaipeda\" in cities)\n"
   ]
  },
  {
   "cell_type": "code",
   "execution_count": 99,
   "metadata": {},
   "outputs": [
    {
     "name": "stdout",
     "output_type": "stream",
     "text": [
      "False\n",
      "True\n"
     ]
    }
   ],
   "source": [
    "print ( bool( [] ) ) # False tik kai tuscias\n",
    "print ( bool( [0] ) )"
   ]
  },
  {
   "attachments": {},
   "cell_type": "markdown",
   "metadata": {},
   "source": [
    "## Operators with list"
   ]
  },
  {
   "cell_type": "code",
   "execution_count": 100,
   "metadata": {},
   "outputs": [
    {
     "name": "stdout",
     "output_type": "stream",
     "text": [
      "[1, 2, 3, 'a', 'b', 'c']\n"
     ]
    }
   ],
   "source": [
    "combined = [1,2,3] + ['a','b','c']\n",
    "print(combined)"
   ]
  },
  {
   "cell_type": "code",
   "execution_count": 101,
   "metadata": {},
   "outputs": [
    {
     "name": "stdout",
     "output_type": "stream",
     "text": [
      "[1, 2, 3, 'a', 'b', 'c', 1, 2, 3, 'a', 'b', 'c', 1, 2, 3, 'a', 'b', 'c', 1, 2, 3, 'a', 'b', 'c', 1, 2, 3, 'a', 'b', 'c', 1, 2, 3, 'a', 'b', 'c', 1, 2, 3, 'a', 'b', 'c', 1, 2, 3, 'a', 'b', 'c', 1, 2, 3, 'a', 'b', 'c', 1, 2, 3, 'a', 'b', 'c']\n"
     ]
    }
   ],
   "source": [
    "print ( combined * 10 )\n"
   ]
  },
  {
   "cell_type": "code",
   "execution_count": 102,
   "metadata": {},
   "outputs": [
    {
     "name": "stdout",
     "output_type": "stream",
     "text": [
      "<class 'list'>\n",
      "<class 'tuple'>\n"
     ]
    }
   ],
   "source": [
    "print ( type( [] ) )\n",
    "print ( type( () ) )"
   ]
  }
 ],
 "metadata": {
  "kernelspec": {
   "display_name": "Python 3",
   "language": "python",
   "name": "python3"
  },
  "language_info": {
   "codemirror_mode": {
    "name": "ipython",
    "version": 3
   },
   "file_extension": ".py",
   "mimetype": "text/x-python",
   "name": "python",
   "nbconvert_exporter": "python",
   "pygments_lexer": "ipython3",
   "version": "3.11.1"
  },
  "orig_nbformat": 4,
  "vscode": {
   "interpreter": {
    "hash": "a1127b4b91826d1819a11384393808cd0fa98ab5b681d4aa12f717b76a806d02"
   }
  }
 },
 "nbformat": 4,
 "nbformat_minor": 2
}
