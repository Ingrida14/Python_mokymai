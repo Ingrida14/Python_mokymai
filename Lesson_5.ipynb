{
 "cells": [
  {
   "attachments": {},
   "cell_type": "markdown",
   "metadata": {},
   "source": [
    "# Functions"
   ]
  },
  {
   "cell_type": "code",
   "execution_count": 2,
   "metadata": {},
   "outputs": [],
   "source": [
    "# def - define\n",
    "def print_hello():\n",
    "    print('Hello world!')"
   ]
  },
  {
   "cell_type": "code",
   "execution_count": 4,
   "metadata": {},
   "outputs": [
    {
     "name": "stdout",
     "output_type": "stream",
     "text": [
      "Hello world!\n",
      "Hello world!\n",
      "Hello world!\n"
     ]
    }
   ],
   "source": [
    "print_hello()\n",
    "print_hello()\n",
    "print_hello()"
   ]
  },
  {
   "cell_type": "code",
   "execution_count": 5,
   "metadata": {},
   "outputs": [
    {
     "ename": "NameError",
     "evalue": "name 'print_hello_2' is not defined",
     "output_type": "error",
     "traceback": [
      "\u001b[1;31m---------------------------------------------------------------------------\u001b[0m",
      "\u001b[1;31mNameError\u001b[0m                                 Traceback (most recent call last)",
      "Cell \u001b[1;32mIn[5], line 1\u001b[0m\n\u001b[1;32m----> 1\u001b[0m print_hello_2()\n\u001b[0;32m      3\u001b[0m \u001b[39mdef\u001b[39;00m \u001b[39mprint_hello_2\u001b[39m():\n\u001b[0;32m      4\u001b[0m     \u001b[39mprint\u001b[39m(\u001b[39m'\u001b[39m\u001b[39mHello world\u001b[39m\u001b[39m'\u001b[39m)\n",
      "\u001b[1;31mNameError\u001b[0m: name 'print_hello_2' is not defined"
     ]
    }
   ],
   "source": [
    "print_hello_2()\n",
    "\n",
    "def print_hello_2():\n",
    "    print('Hello world')\n",
    "\n"
   ]
  },
  {
   "cell_type": "code",
   "execution_count": 6,
   "metadata": {},
   "outputs": [
    {
     "name": "stdout",
     "output_type": "stream",
     "text": [
      "Hello world!\n",
      "None\n"
     ]
    }
   ],
   "source": [
    "print ( print_hello() )"
   ]
  },
  {
   "cell_type": "code",
   "execution_count": 7,
   "metadata": {},
   "outputs": [],
   "source": [
    "def hello_to(name):\n",
    "    print(f'Hello {name}!')"
   ]
  },
  {
   "cell_type": "code",
   "execution_count": 9,
   "metadata": {},
   "outputs": [
    {
     "name": "stdout",
     "output_type": "stream",
     "text": [
      "Hello Ingrida!\n",
      "Hello Oksana!\n",
      "Hello Natalija!\n"
     ]
    },
    {
     "ename": "TypeError",
     "evalue": "hello_to() missing 1 required positional argument: 'name'",
     "output_type": "error",
     "traceback": [
      "\u001b[1;31m---------------------------------------------------------------------------\u001b[0m",
      "\u001b[1;31mTypeError\u001b[0m                                 Traceback (most recent call last)",
      "Cell \u001b[1;32mIn[9], line 4\u001b[0m\n\u001b[0;32m      2\u001b[0m hello_to(\u001b[39m'\u001b[39m\u001b[39mOksana\u001b[39m\u001b[39m'\u001b[39m)\n\u001b[0;32m      3\u001b[0m hello_to(\u001b[39m'\u001b[39m\u001b[39mNatalija\u001b[39m\u001b[39m'\u001b[39m)\n\u001b[1;32m----> 4\u001b[0m hello_to() \u001b[39m# klaida turi buti argumentas\u001b[39;00m\n",
      "\u001b[1;31mTypeError\u001b[0m: hello_to() missing 1 required positional argument: 'name'"
     ]
    }
   ],
   "source": [
    "hello_to('Ingrida')\n",
    "hello_to('Oksana')\n",
    "hello_to('Natalija')\n",
    "hello_to() # klaida turi buti argumentas"
   ]
  },
  {
   "cell_type": "code",
   "execution_count": 10,
   "metadata": {},
   "outputs": [],
   "source": [
    "def hello_to_2(name):\n",
    "    return f'Hello {name}!'"
   ]
  },
  {
   "cell_type": "code",
   "execution_count": 11,
   "metadata": {},
   "outputs": [
    {
     "name": "stdout",
     "output_type": "stream",
     "text": [
      "Hello Darius!\n",
      "<class 'str'>\n",
      "Hello Natalija!\n",
      "Hello Oksana!\n"
     ]
    }
   ],
   "source": [
    "print(hello_to_2('Darius') )\n",
    "message = hello_to_2('Natalija')\n",
    "print (type(message) )\n",
    "print (message)\n",
    "print (hello_to_2('Oksana') )"
   ]
  },
  {
   "cell_type": "code",
   "execution_count": 12,
   "metadata": {},
   "outputs": [
    {
     "data": {
      "text/plain": [
       "'Hello Natalija!'"
      ]
     },
     "execution_count": 12,
     "metadata": {},
     "output_type": "execute_result"
    }
   ],
   "source": [
    "hello_to_2('Natalija')"
   ]
  },
  {
   "cell_type": "code",
   "execution_count": 13,
   "metadata": {},
   "outputs": [],
   "source": [
    "def hello_to_2(name):\n",
    "    # Docstring-Documentation string\n",
    "    \"\"\"\"\n",
    "    Creates a greating messsagebased on a person 'name'.\n",
    "    \"\"\"\n",
    "    return f'Hello {name}!'"
   ]
  },
  {
   "cell_type": "code",
   "execution_count": 14,
   "metadata": {},
   "outputs": [
    {
     "ename": "TypeError",
     "evalue": "hello_to_2() missing 1 required positional argument: 'name'",
     "output_type": "error",
     "traceback": [
      "\u001b[1;31m---------------------------------------------------------------------------\u001b[0m",
      "\u001b[1;31mTypeError\u001b[0m                                 Traceback (most recent call last)",
      "Cell \u001b[1;32mIn[14], line 1\u001b[0m\n\u001b[1;32m----> 1\u001b[0m hello_to_2()\n",
      "\u001b[1;31mTypeError\u001b[0m: hello_to_2() missing 1 required positional argument: 'name'"
     ]
    }
   ],
   "source": [
    "hello_to_2()"
   ]
  },
  {
   "cell_type": "code",
   "execution_count": 15,
   "metadata": {},
   "outputs": [],
   "source": [
    "def subtract_numbers(num_1, num_2):\n",
    "    print ('funkcijos pradzia')\n",
    "    return num_1 - num_2\n",
    "    print 'SITAS SAKINYS NEBUS ATSPAUSDINTAS!'\n",
    "\n"
   ]
  },
  {
   "cell_type": "code",
   "execution_count": 17,
   "metadata": {},
   "outputs": [
    {
     "name": "stdout",
     "output_type": "stream",
     "text": [
      "2\n",
      "2\n",
      "-2\n"
     ]
    },
    {
     "ename": "TypeError",
     "evalue": "subtract_numbers() missing 2 required positional arguments: 'num_1' and 'num_2'",
     "output_type": "error",
     "traceback": [
      "\u001b[1;31m---------------------------------------------------------------------------\u001b[0m",
      "\u001b[1;31mTypeError\u001b[0m                                 Traceback (most recent call last)",
      "Cell \u001b[1;32mIn[17], line 7\u001b[0m\n\u001b[0;32m      5\u001b[0m ats \u001b[39m=\u001b[39m subtract_numbers(num_2\u001b[39m=\u001b[39m\u001b[39m5\u001b[39m, num_1\u001b[39m=\u001b[39m\u001b[39m3\u001b[39m)\n\u001b[0;32m      6\u001b[0m \u001b[39mprint\u001b[39m (ats)\n\u001b[1;32m----> 7\u001b[0m ats \u001b[39m=\u001b[39m subtract_numbers()\n",
      "\u001b[1;31mTypeError\u001b[0m: subtract_numbers() missing 2 required positional arguments: 'num_1' and 'num_2'"
     ]
    }
   ],
   "source": [
    "ats = subtract_numbers(5, 3)\n",
    "print (ats)\n",
    "ats = subtract_numbers(num_1=5, num_2=3)\n",
    "print (ats)\n",
    "ats = subtract_numbers(num_2=5, num_1=3)\n",
    "print (ats)\n",
    "ats = subtract_numbers()"
   ]
  },
  {
   "cell_type": "code",
   "execution_count": 19,
   "metadata": {},
   "outputs": [],
   "source": [
    "def subtract_numbers_2(num_1, num_2=5):\n",
    "    print ('funkcijos pradzia')\n",
    "    return num_1 - num_2\n"
   ]
  },
  {
   "cell_type": "code",
   "execution_count": 20,
   "metadata": {},
   "outputs": [
    {
     "name": "stdout",
     "output_type": "stream",
     "text": [
      "funkcijos pradzia\n",
      "13\n",
      "funkcijos pradzia\n",
      "8\n",
      "funkcijos pradzia\n",
      "8\n"
     ]
    }
   ],
   "source": [
    "ats = subtract_numbers_2(18)\n",
    "print (ats)\n",
    "ats = subtract_numbers_2(18, 10)\n",
    "print (ats)\n",
    "ats = subtract_numbers_2(18, num_2=10)\n",
    "print (ats)\n",
    "ats = subtract_numbers_2()\n"
   ]
  },
  {
   "cell_type": "code",
   "execution_count": 21,
   "metadata": {},
   "outputs": [
    {
     "name": "stdout",
     "output_type": "stream",
     "text": [
      "funkcijos pradzia\n"
     ]
    },
    {
     "ename": "TypeError",
     "evalue": "unsupported operand type(s) for -: 'str' and 'int'",
     "output_type": "error",
     "traceback": [
      "\u001b[1;31m---------------------------------------------------------------------------\u001b[0m",
      "\u001b[1;31mTypeError\u001b[0m                                 Traceback (most recent call last)",
      "Cell \u001b[1;32mIn[21], line 1\u001b[0m\n\u001b[1;32m----> 1\u001b[0m subtract_numbers_2(\u001b[39m'\u001b[39;49m\u001b[39m5863\u001b[39;49m\u001b[39m'\u001b[39;49m)\n",
      "Cell \u001b[1;32mIn[19], line 3\u001b[0m, in \u001b[0;36msubtract_numbers_2\u001b[1;34m(num_1, num_2)\u001b[0m\n\u001b[0;32m      1\u001b[0m \u001b[39mdef\u001b[39;00m \u001b[39msubtract_numbers_2\u001b[39m(num_1, num_2\u001b[39m=\u001b[39m\u001b[39m5\u001b[39m):\n\u001b[0;32m      2\u001b[0m     \u001b[39mprint\u001b[39m (\u001b[39m'\u001b[39m\u001b[39mfunkcijos pradzia\u001b[39m\u001b[39m'\u001b[39m)\n\u001b[1;32m----> 3\u001b[0m     \u001b[39mreturn\u001b[39;00m num_1 \u001b[39m-\u001b[39;49m num_2\n",
      "\u001b[1;31mTypeError\u001b[0m: unsupported operand type(s) for -: 'str' and 'int'"
     ]
    }
   ],
   "source": [
    "subtract_numbers_2('5863')"
   ]
  },
  {
   "cell_type": "code",
   "execution_count": 22,
   "metadata": {},
   "outputs": [],
   "source": [
    "def add_numbers(num_1, num_2):\n",
    "    print('funkcijos pradzia')\n",
    "    if not isinstance( num_1, int ):\n",
    "        print ('pirmas argumentas nera skaicius')\n",
    "        return\n",
    "    print('grazinam suma')\n",
    "    return num_1 + num_2"
   ]
  },
  {
   "cell_type": "code",
   "execution_count": 23,
   "metadata": {},
   "outputs": [
    {
     "name": "stdout",
     "output_type": "stream",
     "text": [
      "funkcijos pradzia\n",
      "grazinam suma\n",
      "110\n",
      "ANTRAS\n",
      "funkcijos pradzia\n",
      "pirmas argumentas nera skaicius\n",
      "None\n"
     ]
    }
   ],
   "source": [
    "print (add_numbers(5,105) )\n",
    "print('ANTRAS')\n",
    "print (add_numbers('Hello', ' 105') )"
   ]
  },
  {
   "cell_type": "code",
   "execution_count": 35,
   "metadata": {},
   "outputs": [],
   "source": [
    "def product_of_numbers( *args ):\n",
    "    # print (args)\n",
    "    # print(type(args) )\n",
    "    result = 1\n",
    "    for number in args:\n",
    "        result *= number\n",
    "    return result"
   ]
  },
  {
   "cell_type": "code",
   "execution_count": 36,
   "metadata": {},
   "outputs": [
    {
     "name": "stdout",
     "output_type": "stream",
     "text": [
      "62216985600\n",
      "2069760\n",
      "165\n",
      "1\n"
     ]
    }
   ],
   "source": [
    "print (product_of_numbers(165,49,64,4,4,167,45) )\n",
    "print (product_of_numbers(165,49,64,4,) )\n",
    "print (product_of_numbers(165) )\n",
    "print (product_of_numbers() )"
   ]
  },
  {
   "attachments": {},
   "cell_type": "markdown",
   "metadata": {},
   "source": [
    "# Local vs global scope"
   ]
  },
  {
   "cell_type": "code",
   "execution_count": null,
   "metadata": {},
   "outputs": [],
   "source": [
    "# global scope\n",
    "some_global_var = 'global'\n",
    "\n",
    "def product_of_numbers ( *args ):\n",
    "    #  local scope\n",
    "    # print (args)\n",
    "    #  print (type(args) )\n",
    "    print ('fromfunction: ', some_global_var ) # nedarykite to!\n",
    "    result = 1\n",
    "    "
   ]
  },
  {
   "cell_type": "code",
   "execution_count": 37,
   "metadata": {},
   "outputs": [
    {
     "name": "stdout",
     "output_type": "stream",
     "text": [
      "from function:  global\n"
     ]
    },
    {
     "data": {
      "text/plain": [
       "1311"
      ]
     },
     "execution_count": 37,
     "metadata": {},
     "output_type": "execute_result"
    }
   ],
   "source": [
    "# global scope\n",
    "some_global_var = 'global'\n",
    "\n",
    "def product_of_numbers_2( *args, text ):\n",
    "    # local scope\n",
    "    # print (args)\n",
    "    # print(type(args) )\n",
    "    print('from function: ', text ) # nedarykite to\n",
    "    result = 1\n",
    "    for number in args:\n",
    "        result *= number\n",
    "    return result\n",
    "\n",
    "product_of_numbers_2(23,57, text=some_global_var)"
   ]
  },
  {
   "cell_type": "code",
   "execution_count": 38,
   "metadata": {},
   "outputs": [],
   "source": [
    "# kwargs - key word argument\n",
    "def kwargs_example( **kwargs ):\n",
    "    print(kwargs)\n",
    "    print (type(kwargs) )\n",
    "    for k, v in kwargs.items():\n",
    "        print(f'key {k} has a value')\n"
   ]
  },
  {
   "cell_type": "code",
   "execution_count": null,
   "metadata": {},
   "outputs": [],
   "source": [
    "kwargs_example(name='Darius', age=30,number=1234)"
   ]
  },
  {
   "cell_type": "code",
   "execution_count": 41,
   "metadata": {},
   "outputs": [
    {
     "name": "stdout",
     "output_type": "stream",
     "text": [
      "Hello world!\n"
     ]
    }
   ],
   "source": [
    "print_hello()\n",
    "new_fuction_name=()\n",
    "new_fuction_name=()\n",
    "new_fuction_name=()\n",
    "new_fuction_name=()"
   ]
  },
  {
   "cell_type": "code",
   "execution_count": 43,
   "metadata": {},
   "outputs": [
    {
     "name": "stdout",
     "output_type": "stream",
     "text": [
      "12\n",
      "2.0\n"
     ]
    }
   ],
   "source": [
    "# Uzduotys\n",
    "\n",
    "def myFunction(num_1, num_2):\n",
    "    if (num_1 + num_2)%2 == 0:\n",
    "        return num_1*num_2\n",
    "    else:\n",
    "        result=num_1/num_2\n",
    "    return result\n",
    "\n",
    "\n",
    "print (myFunction(2,6) )\n",
    "print (myFunction(10,5) )\n",
    "\n"
   ]
  },
  {
   "cell_type": "code",
   "execution_count": 44,
   "metadata": {},
   "outputs": [
    {
     "data": {
      "text/plain": [
       "12"
      ]
     },
     "execution_count": 44,
     "metadata": {},
     "output_type": "execute_result"
    }
   ],
   "source": [
    "my_function_variable = myFunction\n",
    "my_function_variable(2,6)"
   ]
  },
  {
   "cell_type": "code",
   "execution_count": 1,
   "metadata": {},
   "outputs": [
    {
     "name": "stdout",
     "output_type": "stream",
     "text": [
      "{1: 1, 2: 0, 3: 0, 4: 0, 5: 1, 6: 0, 7: 0, 8: 0, 9: 0, 10: 0}\n",
      "{1: 8, 2: 5, 3: 5, 4: 3, 5: 0, 6: 2, 7: 2, 8: 1, 9: 2, 10: 0}\n"
     ]
    }
   ],
   "source": [
    "def mano_funkcija( *args ):\n",
    "    result = {}\n",
    "    for key in range(1,11):\n",
    "        result[key] = 0\n",
    "        # print(result)\n",
    "        # print(args)\n",
    "        for arg in args:\n",
    "            if arg % key == 0:\n",
    "                result[key] += 1\n",
    "    return result\n",
    "print(mano_funkcija(5) )\n",
    "print(mano_funkcija(6,3,4,8,9,12,14,63) )\n",
    "\n"
   ]
  },
  {
   "attachments": {},
   "cell_type": "markdown",
   "metadata": {},
   "source": [
    "# Lambda"
   ]
  },
  {
   "cell_type": "code",
   "execution_count": 2,
   "metadata": {},
   "outputs": [],
   "source": [
    "zodziai = ['as', 'namas', 'kompiuteris', 'stalas']"
   ]
  },
  {
   "cell_type": "code",
   "execution_count": 3,
   "metadata": {},
   "outputs": [
    {
     "data": {
      "text/plain": [
       "['as', 'kompiuteris', 'namas', 'stalas']"
      ]
     },
     "execution_count": 3,
     "metadata": {},
     "output_type": "execute_result"
    }
   ],
   "source": [
    "sorted(zodziai)"
   ]
  },
  {
   "cell_type": "code",
   "execution_count": 4,
   "metadata": {},
   "outputs": [
    {
     "data": {
      "text/plain": [
       "['as', 'namas', 'stalas', 'kompiuteris']"
      ]
     },
     "execution_count": 4,
     "metadata": {},
     "output_type": "execute_result"
    }
   ],
   "source": [
    "sorted(zodziai, key=lambda x: len(x) )"
   ]
  },
  {
   "cell_type": "code",
   "execution_count": 5,
   "metadata": {},
   "outputs": [
    {
     "data": {
      "text/plain": [
       "['as', 'namas', 'stalas', 'kompiuteris']"
      ]
     },
     "execution_count": 5,
     "metadata": {},
     "output_type": "execute_result"
    }
   ],
   "source": [
    "sorted(zodziai, key=lambda x: x.count('e') )"
   ]
  },
  {
   "cell_type": "code",
   "execution_count": 6,
   "metadata": {},
   "outputs": [
    {
     "data": {
      "text/plain": [
       "['kompiuteris', 'as', 'namas', 'stalas']"
      ]
     },
     "execution_count": 6,
     "metadata": {},
     "output_type": "execute_result"
    }
   ],
   "source": [
    "sorted(zodziai, key=lambda x: x.count('a') )"
   ]
  },
  {
   "cell_type": "code",
   "execution_count": 7,
   "metadata": {},
   "outputs": [
    {
     "data": {
      "text/plain": [
       "['as', 'namas', 'stalas']"
      ]
     },
     "execution_count": 7,
     "metadata": {},
     "output_type": "execute_result"
    }
   ],
   "source": [
    "list ( filter(lambda x: 'a' in x, zodziai) )"
   ]
  },
  {
   "attachments": {},
   "cell_type": "markdown",
   "metadata": {},
   "source": [
    "# While loop"
   ]
  },
  {
   "cell_type": "code",
   "execution_count": 8,
   "metadata": {},
   "outputs": [
    {
     "name": "stdout",
     "output_type": "stream",
     "text": [
      "0\n",
      "0\n",
      "0\n",
      "0\n",
      "0\n",
      "0\n",
      "1\n",
      "2\n",
      "2\n",
      "2\n",
      "2\n",
      "3\n",
      "4\n"
     ]
    }
   ],
   "source": [
    "import random \n",
    "\n",
    "x = 0\n",
    "while x < 5:\n",
    "    print (x)\n",
    "    if random.random() < 0.4:\n",
    "        x += 1"
   ]
  },
  {
   "cell_type": "code",
   "execution_count": null,
   "metadata": {},
   "outputs": [],
   "source": [
    "# bukite atsargus su begaliniais ciklais\n",
    "while True:\n",
    "    print('hello')"
   ]
  },
  {
   "cell_type": "code",
   "execution_count": 9,
   "metadata": {},
   "outputs": [
    {
     "name": "stdout",
     "output_type": "stream",
     "text": [
      "hello\n",
      "whileciklas baigesi\n",
      "hello\n",
      "whileciklas baigesi\n",
      "hello\n",
      "whileciklas baigesi\n",
      "hello\n",
      "whileciklas baigesi\n",
      "hello\n",
      "whileciklas baigesi\n",
      "hello\n",
      "whileciklas baigesi\n",
      "hello\n"
     ]
    }
   ],
   "source": [
    "while True:\n",
    "    print('hello')\n",
    "    if random.random() < 0.1:\n",
    "        break # sustabdo cikla.veikia ir for loop'e\n",
    "\n",
    "    print('whileciklas baigesi')"
   ]
  },
  {
   "cell_type": "code",
   "execution_count": 10,
   "metadata": {},
   "outputs": [
    {
     "ename": "SyntaxError",
     "evalue": "incomplete input (2860433842.py, line 6)",
     "output_type": "error",
     "traceback": [
      "\u001b[1;36m  Cell \u001b[1;32mIn[10], line 6\u001b[1;36m\u001b[0m\n\u001b[1;33m    while True:\u001b[0m\n\u001b[1;37m               ^\u001b[0m\n\u001b[1;31mSyntaxError\u001b[0m\u001b[1;31m:\u001b[0m incomplete input\n"
     ]
    }
   ],
   "source": [
    "import time\n",
    "\n",
    "start_time = time.time()\n",
    "print (start_time)\n",
    "\n",
    "while True:\n",
    "    current_time = \n",
    "\n"
   ]
  },
  {
   "cell_type": "code",
   "execution_count": 11,
   "metadata": {},
   "outputs": [
    {
     "ename": "TypeError",
     "evalue": "'>' not supported between instances of 'list' and 'int'",
     "output_type": "error",
     "traceback": [
      "\u001b[1;31m---------------------------------------------------------------------------\u001b[0m",
      "\u001b[1;31mTypeError\u001b[0m                                 Traceback (most recent call last)",
      "Cell \u001b[1;32mIn[11], line 5\u001b[0m\n\u001b[0;32m      2\u001b[0m list_1 \u001b[39m=\u001b[39m [\u001b[39m10\u001b[39m,\u001b[39m9\u001b[39m,\u001b[39m6\u001b[39m,\u001b[39m16\u001b[39m,\u001b[39m15\u001b[39m,\u001b[39m55\u001b[39m,\u001b[39m2\u001b[39m,\u001b[39m7\u001b[39m]\n\u001b[0;32m      3\u001b[0m list_2 \u001b[39m=\u001b[39m [\u001b[39m20\u001b[39m,\u001b[39m642\u001b[39m,\u001b[39m33\u001b[39m,\u001b[39m76\u001b[39m,\u001b[39m9\u001b[39m,\u001b[39m7\u001b[39m,\u001b[39m2\u001b[39m]\n\u001b[1;32m----> 5\u001b[0m \u001b[39mwhile\u001b[39;00m list_1 \u001b[39m>\u001b[39;49m \u001b[39m10\u001b[39;49m:\n\u001b[0;32m      6\u001b[0m     \u001b[39mprint\u001b[39m (list_1)\n",
      "\u001b[1;31mTypeError\u001b[0m: '>' not supported between instances of 'list' and 'int'"
     ]
    }
   ],
   "source": [
    "# Uzduotis\n",
    "list_1 = [10,9,6,16,15,55,2,7]\n",
    "list_2 = [20,642,33,76,9,7,2]\n",
    "\n",
    "while list_1 > 10:\n",
    "    print (list_1)\n"
   ]
  }
 ],
 "metadata": {
  "kernelspec": {
   "display_name": "Python 3",
   "language": "python",
   "name": "python3"
  },
  "language_info": {
   "codemirror_mode": {
    "name": "ipython",
    "version": 3
   },
   "file_extension": ".py",
   "mimetype": "text/x-python",
   "name": "python",
   "nbconvert_exporter": "python",
   "pygments_lexer": "ipython3",
   "version": "3.11.1"
  },
  "orig_nbformat": 4,
  "vscode": {
   "interpreter": {
    "hash": "a1127b4b91826d1819a11384393808cd0fa98ab5b681d4aa12f717b76a806d02"
   }
  }
 },
 "nbformat": 4,
 "nbformat_minor": 2
}
