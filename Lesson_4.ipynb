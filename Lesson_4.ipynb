{
 "cells": [
  {
   "attachments": {},
   "cell_type": "markdown",
   "metadata": {},
   "source": [
    "# List comprehension"
   ]
  },
  {
   "cell_type": "code",
   "execution_count": 1,
   "metadata": {},
   "outputs": [
    {
     "name": "stdout",
     "output_type": "stream",
     "text": [
      "[3, 6, 9, 12, 15, 18]\n"
     ]
    }
   ],
   "source": [
    "numbers = list(range(1,21) )\n",
    "dividible_by_3 = []\n",
    "for number in numbers:\n",
    "    if number % 3 == 0:\n",
    "        dividible_by_3.append(number)\n",
    "\n",
    "print (dividible_by_3)"
   ]
  },
  {
   "cell_type": "code",
   "execution_count": 2,
   "metadata": {},
   "outputs": [
    {
     "name": "stdout",
     "output_type": "stream",
     "text": [
      "[3, 6, 9, 12, 15, 18]\n"
     ]
    }
   ],
   "source": [
    "dividible_by_3 = [ number for number in numbers if number % 3 ==0 ]\n",
    "print (dividible_by_3)"
   ]
  },
  {
   "cell_type": "code",
   "execution_count": 3,
   "metadata": {},
   "outputs": [
    {
     "name": "stdout",
     "output_type": "stream",
     "text": [
      "[40, 80, 120, 160, 200]\n"
     ]
    }
   ],
   "source": [
    "dividible_by_3 = [ number * 10 for number in numbers if number % 4 ==0 ]\n",
    "print (dividible_by_3)"
   ]
  },
  {
   "cell_type": "code",
   "execution_count": 4,
   "metadata": {},
   "outputs": [
    {
     "name": "stdout",
     "output_type": "stream",
     "text": [
      "['1 nesidalina is 3', '2 nesidalina is 3', 3, '4 nesidalina is 3', '5 nesidalina is 3', 6, '7 nesidalina is 3', '8 nesidalina is 3', 9, '10 nesidalina is 3', '11 nesidalina is 3', 12, '13 nesidalina is 3', '14 nesidalina is 3', 15, '16 nesidalina is 3', '17 nesidalina is 3', 18, '19 nesidalina is 3', '20 nesidalina is 3']\n"
     ]
    }
   ],
   "source": [
    "dividible_by_3 = [ number if number %3 ==0 else f'{number} nesidalina is 3' for number in range(1,21) ]\n",
    "print (dividible_by_3)"
   ]
  },
  {
   "cell_type": "code",
   "execution_count": 5,
   "metadata": {},
   "outputs": [
    {
     "name": "stdout",
     "output_type": "stream",
     "text": [
      "[2, 4, 6, 8, 10, 12, 14, 16, 18, 20, 22, 24, 26, 28, 30, 32, 34, 36, 38, 40]\n"
     ]
    }
   ],
   "source": [
    "dividible_by_3 = [ number * 2 for number in numbers ]\n",
    "print (dividible_by_3)"
   ]
  },
  {
   "attachments": {},
   "cell_type": "markdown",
   "metadata": {},
   "source": [
    "# None a.k.a null, not number"
   ]
  },
  {
   "cell_type": "code",
   "execution_count": 6,
   "metadata": {},
   "outputs": [
    {
     "name": "stdout",
     "output_type": "stream",
     "text": [
      "None\n",
      "<class 'NoneType'>\n"
     ]
    }
   ],
   "source": [
    "niekas = None\n",
    "print (niekas)\n",
    "print (type(niekas))"
   ]
  },
  {
   "cell_type": "code",
   "execution_count": 7,
   "metadata": {},
   "outputs": [],
   "source": [
    "import random\n",
    "\n",
    "vardas = ''\n",
    "\n",
    "if random.random() > 0.5:\n",
    "    vardas = input('Iveskite varda:')\n",
    "\n",
    "if vardas != '':\n",
    "    print(f'Sveikas{vardas}!')\n"
   ]
  },
  {
   "cell_type": "code",
   "execution_count": 8,
   "metadata": {},
   "outputs": [
    {
     "name": "stdout",
     "output_type": "stream",
     "text": [
      "Sveikas Ingrida!\n"
     ]
    }
   ],
   "source": [
    "import random\n",
    "\n",
    "vardas = None\n",
    "\n",
    "if random.random() > 0.5:\n",
    "    vardas = input('Iveskite vardą:')\n",
    "\n",
    "if vardas != None and vardas != '':\n",
    "    print(f'Sveikas {vardas}!')\n",
    "elif vardas != None and vardas == '':\n",
    "    print(f'Nepavyko nuskaityti jusu vardo. Bandykite dar karta')\n",
    "else:\n",
    "    print('Jus nenurodete savo vardo')"
   ]
  },
  {
   "cell_type": "code",
   "execution_count": 2,
   "metadata": {},
   "outputs": [
    {
     "name": "stdout",
     "output_type": "stream",
     "text": [
      "None\n",
      "[1, 100]\n",
      "1\n"
     ]
    }
   ],
   "source": [
    "list_1 = [1]\n",
    "print (list_1.append(100) )\n",
    "print ( list_1 )\n",
    "print ( list_1.count(1 ) )"
   ]
  },
  {
   "attachments": {},
   "cell_type": "markdown",
   "metadata": {},
   "source": [
    "# Dictionary"
   ]
  },
  {
   "cell_type": "code",
   "execution_count": 3,
   "metadata": {},
   "outputs": [
    {
     "name": "stdout",
     "output_type": "stream",
     "text": [
      "{'vardas': 'Ingrida', 'pavarde': 'Masyte', 'amzius': 32}\n"
     ]
    }
   ],
   "source": [
    "me = {\n",
    "    'vardas': 'Ingrida',\n",
    "    'pavarde':  'Masyte',\n",
    "    'amzius': 32\n",
    "}\n",
    "print (me)"
   ]
  },
  {
   "cell_type": "code",
   "execution_count": 4,
   "metadata": {},
   "outputs": [
    {
     "ename": "KeyError",
     "evalue": "0",
     "output_type": "error",
     "traceback": [
      "\u001b[1;31m---------------------------------------------------------------------------\u001b[0m",
      "\u001b[1;31mKeyError\u001b[0m                                  Traceback (most recent call last)",
      "Cell \u001b[1;32mIn[4], line 1\u001b[0m\n\u001b[1;32m----> 1\u001b[0m me[\u001b[39m0\u001b[39;49m]\n",
      "\u001b[1;31mKeyError\u001b[0m: 0"
     ]
    }
   ],
   "source": [
    "me[0]"
   ]
  },
  {
   "cell_type": "code",
   "execution_count": 5,
   "metadata": {},
   "outputs": [
    {
     "name": "stdout",
     "output_type": "stream",
     "text": [
      "Ingrida\n",
      "Masyte\n",
      "32\n"
     ]
    }
   ],
   "source": [
    "print (me[ 'vardas' ])\n",
    "print (me[ 'pavarde' ])\n",
    "print (me[ 'amzius' ])"
   ]
  },
  {
   "cell_type": "code",
   "execution_count": 6,
   "metadata": {},
   "outputs": [
    {
     "name": "stdout",
     "output_type": "stream",
     "text": [
      "{'vardas': 'Ingrida', 'pavarde': 'Masyte', 'amzius': 32, 'miestas': 'Pabaiskas'}\n"
     ]
    }
   ],
   "source": [
    "me [ 'miestas' ] = 'Pabaiskas'\n",
    "print (me)"
   ]
  },
  {
   "cell_type": "code",
   "execution_count": 7,
   "metadata": {},
   "outputs": [
    {
     "name": "stdout",
     "output_type": "stream",
     "text": [
      "{'vardas': 'Ingrida', 'pavarde': 'Masyte', 'amzius': 32, 'miestas': 'Pabaiskas', 'hobiai': ['sportas', 'krepsinis']}\n"
     ]
    }
   ],
   "source": [
    "me [ 'hobiai' ] = [ 'sportas', 'krepsinis' ]\n",
    "print (me)"
   ]
  },
  {
   "cell_type": "code",
   "execution_count": 8,
   "metadata": {},
   "outputs": [
    {
     "name": "stdout",
     "output_type": "stream",
     "text": [
      "tiesa\n",
      "netiesa\n",
      "none verte\n"
     ]
    }
   ],
   "source": [
    "someone = {\n",
    "    True: 'tiesa',\n",
    "    False: 'netiesa',\n",
    "    None: 'none verte'\n",
    "}\n",
    "print ( someone[True] )\n",
    "print ( someone[False] )\n",
    "print ( someone[None] )"
   ]
  },
  {
   "cell_type": "code",
   "execution_count": 9,
   "metadata": {},
   "outputs": [
    {
     "ename": "KeyError",
     "evalue": "'neegzistuojantis raktas'",
     "output_type": "error",
     "traceback": [
      "\u001b[1;31m---------------------------------------------------------------------------\u001b[0m",
      "\u001b[1;31mKeyError\u001b[0m                                  Traceback (most recent call last)",
      "Cell \u001b[1;32mIn[9], line 1\u001b[0m\n\u001b[1;32m----> 1\u001b[0m me[\u001b[39m'\u001b[39;49m\u001b[39mneegzistuojantis raktas\u001b[39;49m\u001b[39m'\u001b[39;49m]\n",
      "\u001b[1;31mKeyError\u001b[0m: 'neegzistuojantis raktas'"
     ]
    }
   ],
   "source": [
    "me['neegzistuojantis raktas']"
   ]
  },
  {
   "cell_type": "code",
   "execution_count": 10,
   "metadata": {},
   "outputs": [
    {
     "name": "stdout",
     "output_type": "stream",
     "text": [
      "[{'vardas': 'Jonas', 'amzius': 35}, {'vardas': 'Petras', 'amzius': 50}, {'vardas': 'Mantas', 'amzius': 40}]\n",
      "{'vardas': 'Jonas', 'amzius': 35}\n",
      "Jonas\n",
      "for loop\n",
      "Jonas\n",
      "Petras\n",
      "Mantas\n"
     ]
    }
   ],
   "source": [
    "zmones = [\n",
    "    {'vardas': 'Jonas', 'amzius': 35},\n",
    "    {'vardas': 'Petras', 'amzius': 50},\n",
    "    {'vardas': 'Mantas', 'amzius': 40}\n",
    "]\n",
    "print(zmones)\n",
    "print( zmones[0] )\n",
    "print( zmones[0]['vardas'] )\n",
    "\n",
    "print('for loop')\n",
    "for zmogus in zmones:\n",
    "    print( zmogus['vardas'] )"
   ]
  },
  {
   "cell_type": "code",
   "execution_count": 11,
   "metadata": {},
   "outputs": [
    {
     "name": "stdout",
     "output_type": "stream",
     "text": [
      "{'vardas': 'Ingrida', 'pavarde': 'Masyte', 'amzius': 32, 'miestas': 'Pabaiskas', 'hobiai': ['sportas', 'krepsinis']}\n",
      "5\n"
     ]
    }
   ],
   "source": [
    "print(me)\n",
    "print( len(me) )"
   ]
  },
  {
   "cell_type": "code",
   "execution_count": 10,
   "metadata": {},
   "outputs": [
    {
     "name": "stdout",
     "output_type": "stream",
     "text": [
      "{'vardas': 'Ingrida', 'pavarde': 'Masyte', 'amzius': 32, 'miestas': 'Pabaiskas', 'hobiai': ['sportas', 'krepsinis']}\n",
      "32\n",
      "{'vardas': 'Ingrida', 'pavarde': 'Masyte', 'miestas': 'Pabaiskas', 'hobiai': ['sportas', 'krepsinis']}\n",
      "{'vardas': 'Ingrida', 'pavarde': 'Masyte', 'hobiai': ['sportas', 'krepsinis']}\n"
     ]
    }
   ],
   "source": [
    "me = {'vardas': 'Ingrida', 'pavarde': 'Masyte', 'amzius': 32, 'miestas': 'Pabaiskas', 'hobiai': ['sportas', 'krepsinis']}\n",
    "print (me)\n",
    "print (me.pop('amzius') )\n",
    "print(me)\n",
    "del me['miestas']\n",
    "print (me)"
   ]
  },
  {
   "attachments": {},
   "cell_type": "markdown",
   "metadata": {},
   "source": [
    "# Dictionary is mutable.be carefull"
   ]
  },
  {
   "cell_type": "code",
   "execution_count": 12,
   "metadata": {},
   "outputs": [
    {
     "name": "stdout",
     "output_type": "stream",
     "text": [
      "{'vardas': 'Ingrida', 'pavarde': 'Masyte', 'amzius': 32, 'miestas': 'Pabaiskas', 'hobiai': ['sportas', 'krepsinis']}\n"
     ]
    }
   ],
   "source": [
    "print (me)"
   ]
  },
  {
   "cell_type": "code",
   "execution_count": 15,
   "metadata": {},
   "outputs": [
    {
     "name": "stdout",
     "output_type": "stream",
     "text": [
      "('hobiai', ['sportas', 'krepsinis'])\n",
      "{'vardas': 'Ingrida', 'pavarde': 'Masyte', 'amzius': 32, 'miestas': 'Pabaiskas'}\n",
      "('miestas', 'Pabaiskas')\n",
      "{'vardas': 'Ingrida', 'pavarde': 'Masyte', 'amzius': 32}\n"
     ]
    }
   ],
   "source": [
    "# me.clear()\n",
    "me = {'vardas': 'Ingrida', 'pavarde': 'Masyte', 'amzius': 32, 'miestas': 'Pabaiskas', 'hobiai': ['sportas', 'krepsinis']}\n",
    "print( me.popitem() )\n",
    "print (me)\n",
    "print( me.popitem() )\n",
    "print (me)"
   ]
  },
  {
   "cell_type": "code",
   "execution_count": 19,
   "metadata": {},
   "outputs": [
    {
     "name": "stdout",
     "output_type": "stream",
     "text": [
      "None\n",
      "nerastas\n",
      "0\n",
      "32\n"
     ]
    }
   ],
   "source": [
    "me = {'vardas': 'Ingrida', 'pavarde': 'Masyte', 'amzius': 32, 'miestas': 'Pabaiskas', 'hobiai': ['sportas', 'krepsinis']}\n",
    "\n",
    "# me ['neegzistuojantis raktas'] # klaida\n",
    "print (me.get('neegzistuojantis raktas' ) ) # nera klaidos\n",
    "print (me.get('neegzistuojantis raktas', 'nerastas') )\n",
    "print (me.get('neegzistuojantis raktas', 0) )\n",
    "\n",
    "print (me.get('amzius', 0) )"
   ]
  },
  {
   "cell_type": "code",
   "execution_count": 21,
   "metadata": {},
   "outputs": [
    {
     "name": "stdout",
     "output_type": "stream",
     "text": [
      "{'vardas': 'Ingrida', 'pavarde': 'Masyte'}\n",
      "{'vardas': 'Ingrida', 'pavarde': 'Masyte', 'amzius': 32, 'miestas': 'Pabaiskas', 'hobiai': ['sportas', 'krepsinis']}\n"
     ]
    }
   ],
   "source": [
    "me = {'vardas': 'Ingrida', 'pavarde': 'Masyte'}\n",
    "updated_info = {'vardas': 'Ingrida', 'pavarde': 'Masyte', 'amzius': 32, 'miestas': 'Pabaiskas', 'hobiai': ['sportas', 'krepsinis']}\n",
    "print (me)\n",
    "\n",
    "# me['vardas'] = updated_info['vardas']\n",
    "me.update( updated_info)\n",
    "\n",
    "print (me)\n",
    "# negali buti 2 vienodi raktazodziai"
   ]
  },
  {
   "cell_type": "code",
   "execution_count": 16,
   "metadata": {},
   "outputs": [
    {
     "name": "stdout",
     "output_type": "stream",
     "text": [
      "Ingrida\n",
      "Masyte\n",
      "32\n",
      "Pabaiskas\n",
      "['sportas', 'krepsinis']\n"
     ]
    }
   ],
   "source": [
    "for value in me.values():\n",
    "    print ( value )"
   ]
  },
  {
   "cell_type": "code",
   "execution_count": 25,
   "metadata": {},
   "outputs": [
    {
     "name": "stdout",
     "output_type": "stream",
     "text": [
      "vardas\n",
      "pavarde\n",
      "amzius\n",
      "miestas\n",
      "hobiai\n"
     ]
    }
   ],
   "source": [
    "# \n",
    "for key in me.keys():\n",
    "    print ( key )"
   ]
  },
  {
   "cell_type": "code",
   "execution_count": 15,
   "metadata": {},
   "outputs": [
    {
     "name": "stdout",
     "output_type": "stream",
     "text": [
      "key is 'vardas' with a value of: Ingrida\n",
      "key is 'pavarde' with a value of: Masyte\n",
      "key is 'amzius' with a value of: 32\n",
      "key is 'miestas' with a value of: Pabaiskas\n",
      "key is 'hobiai' with a value of: ['sportas', 'krepsinis']\n"
     ]
    }
   ],
   "source": [
    "for key, value in me.items():\n",
    "    print (f\"key is '{key}' with a value of: {value}\")"
   ]
  },
  {
   "cell_type": "code",
   "execution_count": 22,
   "metadata": {},
   "outputs": [],
   "source": [
    "twitter_post = {\n",
    "  \"created_at\": \"Tue Feb 27 21:11:40 +0000 2018\",\n",
    "  \"id\": 968594506663669800,\n",
    "  \"id_str\": \"968594506663669760\",\n",
    "  \"text\": \"RT @honeydrop_506: 180222 ICN #백현 #BAEKHYUNnn나의 겨울과 너nn#iHeartAwards #BestFanArmy #EXOL @weareoneEXO https://t.co/hg7I3xAlBg\",\n",
    "  \"truncated\": False,\n",
    "  \"in_reply_to_status_id\": None,\n",
    "  \"in_reply_to_status_id_str\": None,\n",
    "  \"in_reply_to_user_id\": None,\n",
    "  \"in_reply_to_user_id_str\": None,\n",
    "  \"in_reply_to_screen_name\": None,\n",
    "  \"user\": {\n",
    "    \"id\": 4448809940,\n",
    "    \"id_str\": \"4448809940\",\n",
    "    \"name\": \"ayah\",\n",
    "    \"screen_name\": \"lovbyun\",\n",
    "    \"location\": \"bbh iu jjh pcy kjd dks\",\n",
    "    \"url\": \"https://curiouscat.me/baekhyun-l\",\n",
    "    \"description\": \"hi hello I love exo\",\n",
    "    \"translator_type\": \"none\",\n",
    "    \"protected\": False,\n",
    "    \"verified\": False,\n",
    "    \"followers_count\": 1142,\n",
    "    \"friends_count\": 125,\n",
    "    \"listed_count\": 20,\n",
    "    \"favourites_count\": 5712,\n",
    "    \"statuses_count\": 4011,\n",
    "    \"created_at\": \"Fri Dec 04 03:44:59 +0000 2015\",\n",
    "    \"utc_offset\": -28800,\n",
    "    \"time_zone\": \"Pacific Time (US & Canada)\",\n",
    "    \"geo_enabled\": False,\n",
    "    \"lang\": \"en\",\n",
    "    \"contributors_enabled\": False,\n",
    "    \"is_translator\": False,\n",
    "    \"profile_background_color\": \"000000\",\n",
    "    \"profile_background_image_url\": \"http://abs.twimg.com/images/themes/theme1/bg.png\",\n",
    "    \"profile_background_image_url_https\": \"https://abs.twimg.com/images/themes/theme1/bg.png\",\n",
    "    \"profile_background_tile\": False,\n",
    "    \"profile_link_color\": \"F58EA8\",\n",
    "    \"profile_sidebar_border_color\": \"000000\",\n",
    "    \"profile_sidebar_fill_color\": \"000000\",\n",
    "    \"profile_text_color\": \"000000\",\n",
    "    \"profile_use_background_image\": False,\n",
    "    \"profile_image_url\": \"http://pbs.twimg.com/profile_images/967130320259526656/0xZ-wxXJ_normal.jpg\",\n",
    "    \"profile_image_url_https\": \"https://pbs.twimg.com/profile_images/967130320259526656/0xZ-wxXJ_normal.jpg\",\n",
    "    \"profile_banner_url\": \"https://pbs.twimg.com/profile_banners/4448809940/1519340670\",\n",
    "    \"default_profile\": False,\n",
    "    \"default_profile_image\": False,\n",
    "    \"following\": None,\n",
    "    \"follow_request_sent\": None,\n",
    "    \"notifications\": None\n",
    "  },\n",
    "}\n",
    "\n"
   ]
  },
  {
   "cell_type": "code",
   "execution_count": 23,
   "metadata": {},
   "outputs": [
    {
     "data": {
      "text/plain": [
       "125"
      ]
     },
     "execution_count": 23,
     "metadata": {},
     "output_type": "execute_result"
    }
   ],
   "source": [
    "twitter_post[ \"user\" ][ 'friends_count' ]"
   ]
  },
  {
   "cell_type": "code",
   "execution_count": 27,
   "metadata": {},
   "outputs": [
    {
     "name": "stdout",
     "output_type": "stream",
     "text": [
      "Ford\n",
      "3\n",
      "{'brand': 'Ford', 'model': 'Mustang', 'year': 2022}\n"
     ]
    }
   ],
   "source": [
    "# Uzduotys\n",
    "car =\t{\n",
    "  \"brand\": \"Ford\",\n",
    "  \"model\": \"Mustang\",\n",
    "  \"year\": 1964\n",
    "}\n",
    "\n",
    "print ( car [ 'brand' ] )\n",
    "print (len (car) )\n",
    "car['year' ] = 2022\n",
    "print (car)"
   ]
  },
  {
   "cell_type": "code",
   "execution_count": 28,
   "metadata": {},
   "outputs": [
    {
     "name": "stdout",
     "output_type": "stream",
     "text": [
      "{'brand': 'Ford', 'model': 'Mustang', 'year': 2022, 'color': 'red', 'used': True}\n"
     ]
    }
   ],
   "source": [
    "car.update( {'color': 'red', 'used' : True} )\n",
    "print (car)\n"
   ]
  },
  {
   "cell_type": "code",
   "execution_count": 29,
   "metadata": {},
   "outputs": [
    {
     "name": "stdout",
     "output_type": "stream",
     "text": [
      "{'model': 'Mustang', 'year': None, 'color': 'red', 'used': True}\n"
     ]
    }
   ],
   "source": [
    "car.pop('brand')\n",
    "car['year'] = None\n",
    "print (car)\n"
   ]
  },
  {
   "cell_type": "code",
   "execution_count": 31,
   "metadata": {},
   "outputs": [
    {
     "name": "stdout",
     "output_type": "stream",
     "text": [
      "True\n",
      "False\n",
      "False\n",
      "True\n"
     ]
    }
   ],
   "source": [
    "print ('model' in car)\n",
    "print ('brand' in car)\n",
    "print ('red' in car)\n",
    "print ('red' in car.values() )\n"
   ]
  },
  {
   "attachments": {},
   "cell_type": "markdown",
   "metadata": {},
   "source": [
    "# Set"
   ]
  },
  {
   "cell_type": "code",
   "execution_count": 36,
   "metadata": {},
   "outputs": [
    {
     "name": "stdout",
     "output_type": "stream",
     "text": [
      "{1, 2, 3, 100, 4, 'a', 'b'}\n"
     ]
    }
   ],
   "source": [
    "my_set = {100,1,2,3,4,1,1,1,1,'a','b','b','b'}\n",
    "print (my_set)"
   ]
  },
  {
   "cell_type": "code",
   "execution_count": 32,
   "metadata": {},
   "outputs": [
    {
     "name": "stdout",
     "output_type": "stream",
     "text": [
      "[1, 2, 3, 100, 4, 'a', 'b']\n"
     ]
    }
   ],
   "source": [
    "my_list = {100,1,2,3,4,1,1,1,1,'a','b','b','b'}\n",
    "my_list = list( set(my_list) )\n",
    "print (my_list)\n",
    "\n"
   ]
  },
  {
   "cell_type": "code",
   "execution_count": 37,
   "metadata": {},
   "outputs": [
    {
     "name": "stdout",
     "output_type": "stream",
     "text": [
      "True\n",
      "False\n"
     ]
    }
   ],
   "source": [
    "print(4 in my_set)\n",
    "print(5 in my_set)"
   ]
  },
  {
   "cell_type": "code",
   "execution_count": 38,
   "metadata": {},
   "outputs": [
    {
     "name": "stdout",
     "output_type": "stream",
     "text": [
      "7\n"
     ]
    }
   ],
   "source": [
    "print (len(my_set) )"
   ]
  },
  {
   "cell_type": "code",
   "execution_count": 40,
   "metadata": {},
   "outputs": [
    {
     "name": "stdout",
     "output_type": "stream",
     "text": [
      "{1, 2, 3, 100, 4, 'a', 'b'}\n",
      "{1, 2, 3, 100, 4, 'a', 5, 'b'}\n",
      "{1, 2, 3, 4, 5, 'b', 222, 'a', 100, 111}\n"
     ]
    }
   ],
   "source": [
    "my_set = {100,1,2,3,4,1,1,1,1,'a','b','b','b'}\n",
    "print (my_set)\n",
    "my_set.add(5)\n",
    "my_set.add(1)\n",
    "print (my_set)\n",
    "my_set.update( [111,222] )\n",
    "print (my_set)"
   ]
  },
  {
   "cell_type": "code",
   "execution_count": 42,
   "metadata": {},
   "outputs": [
    {
     "name": "stdout",
     "output_type": "stream",
     "text": [
      "{1, 2, 3, 100, 4, 'a', 'b'}\n",
      "1\n",
      "2\n",
      "{3, 100, 4, 'a', 'b'}\n"
     ]
    }
   ],
   "source": [
    "my_set = {100,1,2,3,4,1,1,1,1,'a','b','b','b'}\n",
    "print (my_set)\n",
    "print (my_set.pop() )\n",
    "print (my_set.pop() )\n",
    "print (my_set)\n"
   ]
  },
  {
   "cell_type": "code",
   "execution_count": 32,
   "metadata": {},
   "outputs": [
    {
     "name": "stdout",
     "output_type": "stream",
     "text": [
      "{1, 2, 3, 100, 4, 'b', 'a'}\n",
      "{1, 2, 3, 100, 'b', 'a'}\n"
     ]
    }
   ],
   "source": [
    "my_set = {100,1,2,3,4,1,1,1,1,'a','b','b','b'}\n",
    "print (my_set)\n",
    "my_set.remove(4)\n",
    "print (my_set)"
   ]
  },
  {
   "cell_type": "code",
   "execution_count": 45,
   "metadata": {},
   "outputs": [
    {
     "name": "stdout",
     "output_type": "stream",
     "text": [
      "{1, 2, 3, 100, 4, 'a', 'b'}\n",
      "{1, 2, 3, 100, 'a', 'b'}\n",
      "{1, 2, 3, 100, 'a', 'b'}\n"
     ]
    }
   ],
   "source": [
    "my_set = {100,1,2,3,4,1,1,1,1,'a','b','b','b'}\n",
    "print (my_set)\n",
    "my_set.discard(4)\n",
    "print (my_set)\n",
    "my_set.discard(4)\n",
    "my_set.discard(4)\n",
    "my_set.discard(4)\n",
    "my_set.discard(4)\n",
    "my_set.discard(4)\n",
    "print (my_set)"
   ]
  },
  {
   "cell_type": "code",
   "execution_count": 49,
   "metadata": {},
   "outputs": [
    {
     "name": "stdout",
     "output_type": "stream",
     "text": [
      "{1, 3, 4, 5, 6, 7, 8, 9}\n",
      "{1, 3}\n",
      "{8, 9, 4, 6}\n",
      "{5, 7}\n"
     ]
    }
   ],
   "source": [
    "my_set_1 = {1,3,5,7}\n",
    "my_set_2 = {4,5,6,7,8,9}\n",
    "\n",
    "print( my_set_1.union( my_set_2 ) )\n",
    "\n",
    "print( my_set_1.difference( my_set_2 ) )\n",
    "print( my_set_2.difference( my_set_1 ) )\n",
    "\n",
    "print( my_set_1.intersection( my_set_2 ) )"
   ]
  },
  {
   "cell_type": "code",
   "execution_count": 53,
   "metadata": {},
   "outputs": [
    {
     "name": "stdout",
     "output_type": "stream",
     "text": [
      "True\n",
      "False\n",
      "True\n",
      "False\n"
     ]
    }
   ],
   "source": [
    "small_set = {2,4}\n",
    "big_set = {3,2,3,4,5}\n",
    "\n",
    "print ( small_set.issubset(big_set) )\n",
    "print ( big_set.issubset(small_set) )\n",
    "print ( big_set.issuperset(small_set) )\n",
    "print ( small_set.issuperset(big_set) )"
   ]
  },
  {
   "cell_type": "code",
   "execution_count": 1,
   "metadata": {},
   "outputs": [
    {
     "name": "stdout",
     "output_type": "stream",
     "text": [
      "{('lemon', 5), 'apple', 'cherry', 'banana'}\n"
     ]
    }
   ],
   "source": [
    "# Uzduotys\n",
    "fruits = { \"apple\",\"banana\",\"cherry\" }\n",
    "fruits.add( (\"lemon\",5) )\n",
    "print ( fruits )\n"
   ]
  },
  {
   "cell_type": "code",
   "execution_count": 55,
   "metadata": {},
   "outputs": [
    {
     "name": "stdout",
     "output_type": "stream",
     "text": [
      "{'cherry', 'banana'}\n",
      "{'cherry', 'banana', 'watermelon'}\n"
     ]
    }
   ],
   "source": [
    "fruits = { \"apple\",\"banana\",\"cherry\" }\n",
    "fruits.discard('apple')\n",
    "print (fruits)\n",
    "fruits.add('watermelon')\n",
    "print (fruits)"
   ]
  },
  {
   "cell_type": "code",
   "execution_count": 61,
   "metadata": {},
   "outputs": [
    {
     "name": "stdout",
     "output_type": "stream",
     "text": [
      "{'pineapple', 'banana', 'tangerine', 'watermelon', 'melon', 'apple', 'pie', 'coconut', 'cherry'}\n",
      "{'pineapple', 'banana', 'tangerine', 'watermelon', 'melon', 'pie', 'coconut', 'cherry'}\n",
      "8\n",
      "{'pineapple', 'banana', 'tangerine', 'watermelon', 'melon', 'pie', 'coconut', 'cherry'}\n",
      "8\n"
     ]
    }
   ],
   "source": [
    "fruits = { \"apple\",\"banana\",\"cherry\" }\n",
    "fruits.add('watermelon')\n",
    "fruits.update( ['pie', 'pineapple', 'coconut', 'tangerine', 'melon'] )\n",
    "print (fruits)\n",
    "fruits.discard('apple')\n",
    "print (fruits)\n",
    "print (len(fruits) )\n",
    "fruits.add('watermelon')\n",
    "print (fruits)\n",
    "print (len(fruits) )"
   ]
  }
 ],
 "metadata": {
  "kernelspec": {
   "display_name": "Python 3",
   "language": "python",
   "name": "python3"
  },
  "language_info": {
   "codemirror_mode": {
    "name": "ipython",
    "version": 3
   },
   "file_extension": ".py",
   "mimetype": "text/x-python",
   "name": "python",
   "nbconvert_exporter": "python",
   "pygments_lexer": "ipython3",
   "version": "3.11.1"
  },
  "orig_nbformat": 4,
  "vscode": {
   "interpreter": {
    "hash": "a1127b4b91826d1819a11384393808cd0fa98ab5b681d4aa12f717b76a806d02"
   }
  }
 },
 "nbformat": 4,
 "nbformat_minor": 2
}
