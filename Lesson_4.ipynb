{
 "cells": [
  {
   "attachments": {},
   "cell_type": "markdown",
   "metadata": {},
   "source": [
    "# List comprehension"
   ]
  },
  {
   "cell_type": "code",
   "execution_count": null,
   "metadata": {},
   "outputs": [],
   "source": []
  },
  {
   "attachments": {},
   "cell_type": "markdown",
   "metadata": {},
   "source": [
    "# None a.k.a null, not number"
   ]
  },
  {
   "cell_type": "code",
   "execution_count": 1,
   "metadata": {},
   "outputs": [
    {
     "name": "stdout",
     "output_type": "stream",
     "text": [
      "Jus nenurodete savo vardo\n"
     ]
    }
   ],
   "source": [
    "import random\n",
    "\n",
    "vardas = None\n",
    "\n",
    "if random.random() > 0.5:\n",
    "    vardas = input('Iveskite vardą:')\n",
    "\n",
    "if vardas != None and vardas != '':\n",
    "    print(f'Sveikas {vardas}!')\n",
    "elif vardas != None and vardas == '':\n",
    "    print(f'Nepavyko nuskaityti jusu vardo. Bandykite dar karta')\n",
    "else:\n",
    "    print('Jus nenurodete savo vardo')"
   ]
  },
  {
   "cell_type": "code",
   "execution_count": 2,
   "metadata": {},
   "outputs": [
    {
     "name": "stdout",
     "output_type": "stream",
     "text": [
      "None\n",
      "[1, 100]\n",
      "1\n"
     ]
    }
   ],
   "source": [
    "list_1 = [1]\n",
    "print (list_1.append(100) )\n",
    "print ( list_1 )\n",
    "print ( list_1.count(1 ) )"
   ]
  },
  {
   "attachments": {},
   "cell_type": "markdown",
   "metadata": {},
   "source": [
    "# Dictionary"
   ]
  },
  {
   "cell_type": "code",
   "execution_count": 3,
   "metadata": {},
   "outputs": [
    {
     "name": "stdout",
     "output_type": "stream",
     "text": [
      "{'vardas': 'Ingrida', 'pavarde': 'Masyte', 'amzius': 32}\n"
     ]
    }
   ],
   "source": [
    "me = {\n",
    "    'vardas': 'Ingrida',\n",
    "    'pavarde':  'Masyte',\n",
    "    'amzius': 32\n",
    "}\n",
    "print (me)"
   ]
  },
  {
   "cell_type": "code",
   "execution_count": 4,
   "metadata": {},
   "outputs": [
    {
     "ename": "KeyError",
     "evalue": "0",
     "output_type": "error",
     "traceback": [
      "\u001b[1;31m---------------------------------------------------------------------------\u001b[0m",
      "\u001b[1;31mKeyError\u001b[0m                                  Traceback (most recent call last)",
      "Cell \u001b[1;32mIn[4], line 1\u001b[0m\n\u001b[1;32m----> 1\u001b[0m me[\u001b[39m0\u001b[39;49m]\n",
      "\u001b[1;31mKeyError\u001b[0m: 0"
     ]
    }
   ],
   "source": [
    "me[0]"
   ]
  },
  {
   "cell_type": "code",
   "execution_count": 5,
   "metadata": {},
   "outputs": [
    {
     "name": "stdout",
     "output_type": "stream",
     "text": [
      "Ingrida\n",
      "Masyte\n",
      "32\n"
     ]
    }
   ],
   "source": [
    "print (me[ 'vardas' ])\n",
    "print (me[ 'pavarde' ])\n",
    "print (me[ 'amzius' ])"
   ]
  },
  {
   "cell_type": "code",
   "execution_count": 6,
   "metadata": {},
   "outputs": [
    {
     "name": "stdout",
     "output_type": "stream",
     "text": [
      "{'vardas': 'Ingrida', 'pavarde': 'Masyte', 'amzius': 32, 'miestas': 'Pabaiskas'}\n"
     ]
    }
   ],
   "source": [
    "me [ 'miestas' ] = 'Pabaiskas'\n",
    "print (me)"
   ]
  },
  {
   "cell_type": "code",
   "execution_count": 7,
   "metadata": {},
   "outputs": [
    {
     "name": "stdout",
     "output_type": "stream",
     "text": [
      "{'vardas': 'Ingrida', 'pavarde': 'Masyte', 'amzius': 32, 'miestas': 'Pabaiskas', 'hobiai': ['sportas', 'krepsinis']}\n"
     ]
    }
   ],
   "source": [
    "me [ 'hobiai' ] = [ 'sportas', 'krepsinis' ]\n",
    "print (me)"
   ]
  },
  {
   "cell_type": "code",
   "execution_count": 8,
   "metadata": {},
   "outputs": [
    {
     "name": "stdout",
     "output_type": "stream",
     "text": [
      "tiesa\n",
      "netiesa\n",
      "none verte\n"
     ]
    }
   ],
   "source": [
    "someone = {\n",
    "    True: 'tiesa',\n",
    "    False: 'netiesa',\n",
    "    None: 'none verte'\n",
    "}\n",
    "print ( someone[True] )\n",
    "print ( someone[False] )\n",
    "print ( someone[None] )"
   ]
  },
  {
   "cell_type": "code",
   "execution_count": 9,
   "metadata": {},
   "outputs": [
    {
     "ename": "KeyError",
     "evalue": "'neegzistuojantis raktas'",
     "output_type": "error",
     "traceback": [
      "\u001b[1;31m---------------------------------------------------------------------------\u001b[0m",
      "\u001b[1;31mKeyError\u001b[0m                                  Traceback (most recent call last)",
      "Cell \u001b[1;32mIn[9], line 1\u001b[0m\n\u001b[1;32m----> 1\u001b[0m me[\u001b[39m'\u001b[39;49m\u001b[39mneegzistuojantis raktas\u001b[39;49m\u001b[39m'\u001b[39;49m]\n",
      "\u001b[1;31mKeyError\u001b[0m: 'neegzistuojantis raktas'"
     ]
    }
   ],
   "source": [
    "me['neegzistuojantis raktas']"
   ]
  },
  {
   "cell_type": "code",
   "execution_count": 10,
   "metadata": {},
   "outputs": [
    {
     "name": "stdout",
     "output_type": "stream",
     "text": [
      "[{'vardas': 'Jonas', 'amzius': 35}, {'vardas': 'Petras', 'amzius': 50}, {'vardas': 'Mantas', 'amzius': 40}]\n",
      "{'vardas': 'Jonas', 'amzius': 35}\n",
      "Jonas\n",
      "for loop\n",
      "Jonas\n",
      "Petras\n",
      "Mantas\n"
     ]
    }
   ],
   "source": [
    "zmones = [\n",
    "    {'vardas': 'Jonas', 'amzius': 35},\n",
    "    {'vardas': 'Petras', 'amzius': 50},\n",
    "    {'vardas': 'Mantas', 'amzius': 40}\n",
    "]\n",
    "print(zmones)\n",
    "print( zmones[0] )\n",
    "print( zmones[0]['vardas'] )\n",
    "\n",
    "print('for loop')\n",
    "for zmogus in zmones:\n",
    "    print( zmogus['vardas'] )"
   ]
  },
  {
   "cell_type": "code",
   "execution_count": 11,
   "metadata": {},
   "outputs": [
    {
     "name": "stdout",
     "output_type": "stream",
     "text": [
      "{'vardas': 'Ingrida', 'pavarde': 'Masyte', 'amzius': 32, 'miestas': 'Pabaiskas', 'hobiai': ['sportas', 'krepsinis']}\n",
      "5\n"
     ]
    }
   ],
   "source": [
    "print(me)\n",
    "print( len(me) )"
   ]
  },
  {
   "cell_type": "code",
   "execution_count": null,
   "metadata": {},
   "outputs": [],
   "source": [
    "me = {'vardas': 'Ingrida', 'pavarde': 'Masyte'}\n",
    "print (me)\n",
    "print (me.pop('amzius') )\n",
    "print(me)\n"
   ]
  },
  {
   "attachments": {},
   "cell_type": "markdown",
   "metadata": {},
   "source": [
    "# Dictionary is mutable.be carefull"
   ]
  },
  {
   "cell_type": "code",
   "execution_count": 12,
   "metadata": {},
   "outputs": [
    {
     "name": "stdout",
     "output_type": "stream",
     "text": [
      "{'vardas': 'Ingrida', 'pavarde': 'Masyte', 'amzius': 32, 'miestas': 'Pabaiskas', 'hobiai': ['sportas', 'krepsinis']}\n"
     ]
    }
   ],
   "source": [
    "print (me)"
   ]
  },
  {
   "cell_type": "code",
   "execution_count": null,
   "metadata": {},
   "outputs": [],
   "source": [
    "# me.clear()\n",
    "me = {}"
   ]
  },
  {
   "cell_type": "code",
   "execution_count": null,
   "metadata": {},
   "outputs": [],
   "source": [
    "me = {}\n",
    "\n",
    "# me ['neegzistuojantis raktas'] # klaida\n",
    "print (me.get('neegzistuojantis raktas' ) ) # nera klaidos"
   ]
  },
  {
   "cell_type": "code",
   "execution_count": null,
   "metadata": {},
   "outputs": [],
   "source": [
    "me = {}\n",
    "updated_info = "
   ]
  },
  {
   "cell_type": "code",
   "execution_count": 16,
   "metadata": {},
   "outputs": [
    {
     "name": "stdout",
     "output_type": "stream",
     "text": [
      "Ingrida\n",
      "Masyte\n",
      "32\n",
      "Pabaiskas\n",
      "['sportas', 'krepsinis']\n"
     ]
    }
   ],
   "source": [
    "for value in me.values():\n",
    "    print ( value )"
   ]
  },
  {
   "cell_type": "code",
   "execution_count": 15,
   "metadata": {},
   "outputs": [
    {
     "name": "stdout",
     "output_type": "stream",
     "text": [
      "key is 'vardas' with a value of: Ingrida\n",
      "key is 'pavarde' with a value of: Masyte\n",
      "key is 'amzius' with a value of: 32\n",
      "key is 'miestas' with a value of: Pabaiskas\n",
      "key is 'hobiai' with a value of: ['sportas', 'krepsinis']\n"
     ]
    }
   ],
   "source": [
    "for key, value in me.items():\n",
    "    print (f\"key is '{key}' with a value of: {value}\")"
   ]
  },
  {
   "cell_type": "code",
   "execution_count": 22,
   "metadata": {},
   "outputs": [],
   "source": [
    "twitter_post = {\n",
    "  \"created_at\": \"Tue Feb 27 21:11:40 +0000 2018\",\n",
    "  \"id\": 968594506663669800,\n",
    "  \"id_str\": \"968594506663669760\",\n",
    "  \"text\": \"RT @honeydrop_506: 180222 ICN #백현 #BAEKHYUNnn나의 겨울과 너nn#iHeartAwards #BestFanArmy #EXOL @weareoneEXO https://t.co/hg7I3xAlBg\",\n",
    "  \"truncated\": False,\n",
    "  \"in_reply_to_status_id\": None,\n",
    "  \"in_reply_to_status_id_str\": None,\n",
    "  \"in_reply_to_user_id\": None,\n",
    "  \"in_reply_to_user_id_str\": None,\n",
    "  \"in_reply_to_screen_name\": None,\n",
    "  \"user\": {\n",
    "    \"id\": 4448809940,\n",
    "    \"id_str\": \"4448809940\",\n",
    "    \"name\": \"ayah\",\n",
    "    \"screen_name\": \"lovbyun\",\n",
    "    \"location\": \"bbh iu jjh pcy kjd dks\",\n",
    "    \"url\": \"https://curiouscat.me/baekhyun-l\",\n",
    "    \"description\": \"hi hello I love exo\",\n",
    "    \"translator_type\": \"none\",\n",
    "    \"protected\": False,\n",
    "    \"verified\": False,\n",
    "    \"followers_count\": 1142,\n",
    "    \"friends_count\": 125,\n",
    "    \"listed_count\": 20,\n",
    "    \"favourites_count\": 5712,\n",
    "    \"statuses_count\": 4011,\n",
    "    \"created_at\": \"Fri Dec 04 03:44:59 +0000 2015\",\n",
    "    \"utc_offset\": -28800,\n",
    "    \"time_zone\": \"Pacific Time (US & Canada)\",\n",
    "    \"geo_enabled\": False,\n",
    "    \"lang\": \"en\",\n",
    "    \"contributors_enabled\": False,\n",
    "    \"is_translator\": False,\n",
    "    \"profile_background_color\": \"000000\",\n",
    "    \"profile_background_image_url\": \"http://abs.twimg.com/images/themes/theme1/bg.png\",\n",
    "    \"profile_background_image_url_https\": \"https://abs.twimg.com/images/themes/theme1/bg.png\",\n",
    "    \"profile_background_tile\": False,\n",
    "    \"profile_link_color\": \"F58EA8\",\n",
    "    \"profile_sidebar_border_color\": \"000000\",\n",
    "    \"profile_sidebar_fill_color\": \"000000\",\n",
    "    \"profile_text_color\": \"000000\",\n",
    "    \"profile_use_background_image\": False,\n",
    "    \"profile_image_url\": \"http://pbs.twimg.com/profile_images/967130320259526656/0xZ-wxXJ_normal.jpg\",\n",
    "    \"profile_image_url_https\": \"https://pbs.twimg.com/profile_images/967130320259526656/0xZ-wxXJ_normal.jpg\",\n",
    "    \"profile_banner_url\": \"https://pbs.twimg.com/profile_banners/4448809940/1519340670\",\n",
    "    \"default_profile\": False,\n",
    "    \"default_profile_image\": False,\n",
    "    \"following\": None,\n",
    "    \"follow_request_sent\": None,\n",
    "    \"notifications\": None\n",
    "  },\n",
    "}\n",
    "\n"
   ]
  },
  {
   "cell_type": "code",
   "execution_count": 23,
   "metadata": {},
   "outputs": [
    {
     "data": {
      "text/plain": [
       "125"
      ]
     },
     "execution_count": 23,
     "metadata": {},
     "output_type": "execute_result"
    }
   ],
   "source": [
    "twitter_post[ \"user\" ][ 'friends_count' ]"
   ]
  },
  {
   "cell_type": "code",
   "execution_count": 28,
   "metadata": {},
   "outputs": [],
   "source": [
    "# Uzduotys\n",
    "car =\t{\n",
    "  \"brand\": \"Ford\",\n",
    "  \"model\": \"Mustang\",\n",
    "  \"year\": 1964\n",
    "}\n"
   ]
  },
  {
   "cell_type": "code",
   "execution_count": 30,
   "metadata": {},
   "outputs": [
    {
     "name": "stdout",
     "output_type": "stream",
     "text": [
      "Ford\n",
      "3\n"
     ]
    }
   ],
   "source": [
    "print ( car [ 'brand' ] )\n",
    "print (len (car) )\n"
   ]
  },
  {
   "cell_type": "code",
   "execution_count": null,
   "metadata": {},
   "outputs": [],
   "source": [
    "car =\t{\n",
    "  \"brand\": \"Ford\",\n",
    "  \"model\": \"Mustang\",\n",
    "  \"year\": 1964\n",
    "}\n"
   ]
  },
  {
   "attachments": {},
   "cell_type": "markdown",
   "metadata": {},
   "source": [
    "# Set"
   ]
  },
  {
   "cell_type": "code",
   "execution_count": 31,
   "metadata": {},
   "outputs": [
    {
     "name": "stdout",
     "output_type": "stream",
     "text": [
      "{1, 2, 3, 100, 4, 'b', 'a'}\n"
     ]
    }
   ],
   "source": [
    "my_set = {100,1,2,3,4,1,1,1,1,'a','b','b','b'}\n",
    "print (my_set)"
   ]
  },
  {
   "cell_type": "code",
   "execution_count": null,
   "metadata": {},
   "outputs": [],
   "source": [
    "my_list = {100,1,2,3,4,1,1,1,1,'a','b','b','b'}\n",
    "my_list\n"
   ]
  },
  {
   "cell_type": "code",
   "execution_count": null,
   "metadata": {},
   "outputs": [],
   "source": []
  },
  {
   "cell_type": "code",
   "execution_count": 32,
   "metadata": {},
   "outputs": [
    {
     "name": "stdout",
     "output_type": "stream",
     "text": [
      "{1, 2, 3, 100, 4, 'b', 'a'}\n",
      "{1, 2, 3, 100, 'b', 'a'}\n"
     ]
    }
   ],
   "source": [
    "my_set = {100,1,2,3,4,1,1,1,1,'a','b','b','b'}\n",
    "print (my_set)\n",
    "my_set.remove(4)\n",
    "print (my_set)"
   ]
  },
  {
   "cell_type": "code",
   "execution_count": 1,
   "metadata": {},
   "outputs": [
    {
     "name": "stdout",
     "output_type": "stream",
     "text": [
      "{('lemon', 5), 'apple', 'cherry', 'banana'}\n"
     ]
    }
   ],
   "source": [
    "# Uzduotys\n",
    "fruits = { \"apple\",\"banana\",\"cherry\" }\n",
    "fruits.add( (\"lemon\",5) )\n",
    "print ( fruits )\n"
   ]
  },
  {
   "cell_type": "code",
   "execution_count": null,
   "metadata": {},
   "outputs": [],
   "source": []
  }
 ],
 "metadata": {
  "kernelspec": {
   "display_name": "Python 3",
   "language": "python",
   "name": "python3"
  },
  "language_info": {
   "codemirror_mode": {
    "name": "ipython",
    "version": 3
   },
   "file_extension": ".py",
   "mimetype": "text/x-python",
   "name": "python",
   "nbconvert_exporter": "python",
   "pygments_lexer": "ipython3",
   "version": "3.11.1"
  },
  "orig_nbformat": 4,
  "vscode": {
   "interpreter": {
    "hash": "a1127b4b91826d1819a11384393808cd0fa98ab5b681d4aa12f717b76a806d02"
   }
  }
 },
 "nbformat": 4,
 "nbformat_minor": 2
}
