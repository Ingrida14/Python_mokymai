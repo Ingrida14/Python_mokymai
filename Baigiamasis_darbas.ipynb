{
 "cells": [
  {
   "attachments": {},
   "cell_type": "markdown",
   "metadata": {},
   "source": [
    "# 120 metų Olimpiados istorijos (Vasaros ir Žiemos žaidynių)\n",
    "Nuo 1896m. - 2016m. "
   ]
  },
  {
   "cell_type": "code",
   "execution_count": 2,
   "metadata": {},
   "outputs": [],
   "source": [
    "import pandas as pd\n",
    "import numpy as np"
   ]
  },
  {
   "cell_type": "code",
   "execution_count": 126,
   "metadata": {},
   "outputs": [
    {
     "data": {
      "text/html": [
       "<div>\n",
       "<style scoped>\n",
       "    .dataframe tbody tr th:only-of-type {\n",
       "        vertical-align: middle;\n",
       "    }\n",
       "\n",
       "    .dataframe tbody tr th {\n",
       "        vertical-align: top;\n",
       "    }\n",
       "\n",
       "    .dataframe thead th {\n",
       "        text-align: right;\n",
       "    }\n",
       "</style>\n",
       "<table border=\"1\" class=\"dataframe\">\n",
       "  <thead>\n",
       "    <tr style=\"text-align: right;\">\n",
       "      <th></th>\n",
       "      <th>ID</th>\n",
       "      <th>Name</th>\n",
       "      <th>Sex</th>\n",
       "      <th>Age</th>\n",
       "      <th>Height</th>\n",
       "      <th>Weight</th>\n",
       "      <th>Team</th>\n",
       "      <th>NOC</th>\n",
       "      <th>Games</th>\n",
       "      <th>Year</th>\n",
       "      <th>Season</th>\n",
       "      <th>City</th>\n",
       "      <th>Sport</th>\n",
       "      <th>Event</th>\n",
       "      <th>Medal</th>\n",
       "    </tr>\n",
       "  </thead>\n",
       "  <tbody>\n",
       "    <tr>\n",
       "      <th>0</th>\n",
       "      <td>1</td>\n",
       "      <td>A Dijiang</td>\n",
       "      <td>M</td>\n",
       "      <td>24.0</td>\n",
       "      <td>180.0</td>\n",
       "      <td>80.0</td>\n",
       "      <td>China</td>\n",
       "      <td>CHN</td>\n",
       "      <td>1992 Summer</td>\n",
       "      <td>1992</td>\n",
       "      <td>Summer</td>\n",
       "      <td>Barcelona</td>\n",
       "      <td>Basketball</td>\n",
       "      <td>Basketball Men's Basketball</td>\n",
       "      <td>NaN</td>\n",
       "    </tr>\n",
       "    <tr>\n",
       "      <th>1</th>\n",
       "      <td>2</td>\n",
       "      <td>A Lamusi</td>\n",
       "      <td>M</td>\n",
       "      <td>23.0</td>\n",
       "      <td>170.0</td>\n",
       "      <td>60.0</td>\n",
       "      <td>China</td>\n",
       "      <td>CHN</td>\n",
       "      <td>2012 Summer</td>\n",
       "      <td>2012</td>\n",
       "      <td>Summer</td>\n",
       "      <td>London</td>\n",
       "      <td>Judo</td>\n",
       "      <td>Judo Men's Extra-Lightweight</td>\n",
       "      <td>NaN</td>\n",
       "    </tr>\n",
       "    <tr>\n",
       "      <th>2</th>\n",
       "      <td>3</td>\n",
       "      <td>Gunnar Nielsen Aaby</td>\n",
       "      <td>M</td>\n",
       "      <td>24.0</td>\n",
       "      <td>NaN</td>\n",
       "      <td>NaN</td>\n",
       "      <td>Denmark</td>\n",
       "      <td>DEN</td>\n",
       "      <td>1920 Summer</td>\n",
       "      <td>1920</td>\n",
       "      <td>Summer</td>\n",
       "      <td>Antwerpen</td>\n",
       "      <td>Football</td>\n",
       "      <td>Football Men's Football</td>\n",
       "      <td>NaN</td>\n",
       "    </tr>\n",
       "    <tr>\n",
       "      <th>3</th>\n",
       "      <td>4</td>\n",
       "      <td>Edgar Lindenau Aabye</td>\n",
       "      <td>M</td>\n",
       "      <td>34.0</td>\n",
       "      <td>NaN</td>\n",
       "      <td>NaN</td>\n",
       "      <td>Denmark/Sweden</td>\n",
       "      <td>DEN</td>\n",
       "      <td>1900 Summer</td>\n",
       "      <td>1900</td>\n",
       "      <td>Summer</td>\n",
       "      <td>Paris</td>\n",
       "      <td>Tug-Of-War</td>\n",
       "      <td>Tug-Of-War Men's Tug-Of-War</td>\n",
       "      <td>Gold</td>\n",
       "    </tr>\n",
       "    <tr>\n",
       "      <th>4</th>\n",
       "      <td>5</td>\n",
       "      <td>Christine Jacoba Aaftink</td>\n",
       "      <td>F</td>\n",
       "      <td>21.0</td>\n",
       "      <td>185.0</td>\n",
       "      <td>82.0</td>\n",
       "      <td>Netherlands</td>\n",
       "      <td>NED</td>\n",
       "      <td>1988 Winter</td>\n",
       "      <td>1988</td>\n",
       "      <td>Winter</td>\n",
       "      <td>Calgary</td>\n",
       "      <td>Speed Skating</td>\n",
       "      <td>Speed Skating Women's 500 metres</td>\n",
       "      <td>NaN</td>\n",
       "    </tr>\n",
       "    <tr>\n",
       "      <th>...</th>\n",
       "      <td>...</td>\n",
       "      <td>...</td>\n",
       "      <td>...</td>\n",
       "      <td>...</td>\n",
       "      <td>...</td>\n",
       "      <td>...</td>\n",
       "      <td>...</td>\n",
       "      <td>...</td>\n",
       "      <td>...</td>\n",
       "      <td>...</td>\n",
       "      <td>...</td>\n",
       "      <td>...</td>\n",
       "      <td>...</td>\n",
       "      <td>...</td>\n",
       "      <td>...</td>\n",
       "    </tr>\n",
       "    <tr>\n",
       "      <th>271111</th>\n",
       "      <td>135569</td>\n",
       "      <td>Andrzej ya</td>\n",
       "      <td>M</td>\n",
       "      <td>29.0</td>\n",
       "      <td>179.0</td>\n",
       "      <td>89.0</td>\n",
       "      <td>Poland-1</td>\n",
       "      <td>POL</td>\n",
       "      <td>1976 Winter</td>\n",
       "      <td>1976</td>\n",
       "      <td>Winter</td>\n",
       "      <td>Innsbruck</td>\n",
       "      <td>Luge</td>\n",
       "      <td>Luge Mixed (Men)'s Doubles</td>\n",
       "      <td>NaN</td>\n",
       "    </tr>\n",
       "    <tr>\n",
       "      <th>271112</th>\n",
       "      <td>135570</td>\n",
       "      <td>Piotr ya</td>\n",
       "      <td>M</td>\n",
       "      <td>27.0</td>\n",
       "      <td>176.0</td>\n",
       "      <td>59.0</td>\n",
       "      <td>Poland</td>\n",
       "      <td>POL</td>\n",
       "      <td>2014 Winter</td>\n",
       "      <td>2014</td>\n",
       "      <td>Winter</td>\n",
       "      <td>Sochi</td>\n",
       "      <td>Ski Jumping</td>\n",
       "      <td>Ski Jumping Men's Large Hill, Individual</td>\n",
       "      <td>NaN</td>\n",
       "    </tr>\n",
       "    <tr>\n",
       "      <th>271113</th>\n",
       "      <td>135570</td>\n",
       "      <td>Piotr ya</td>\n",
       "      <td>M</td>\n",
       "      <td>27.0</td>\n",
       "      <td>176.0</td>\n",
       "      <td>59.0</td>\n",
       "      <td>Poland</td>\n",
       "      <td>POL</td>\n",
       "      <td>2014 Winter</td>\n",
       "      <td>2014</td>\n",
       "      <td>Winter</td>\n",
       "      <td>Sochi</td>\n",
       "      <td>Ski Jumping</td>\n",
       "      <td>Ski Jumping Men's Large Hill, Team</td>\n",
       "      <td>NaN</td>\n",
       "    </tr>\n",
       "    <tr>\n",
       "      <th>271114</th>\n",
       "      <td>135571</td>\n",
       "      <td>Tomasz Ireneusz ya</td>\n",
       "      <td>M</td>\n",
       "      <td>30.0</td>\n",
       "      <td>185.0</td>\n",
       "      <td>96.0</td>\n",
       "      <td>Poland</td>\n",
       "      <td>POL</td>\n",
       "      <td>1998 Winter</td>\n",
       "      <td>1998</td>\n",
       "      <td>Winter</td>\n",
       "      <td>Nagano</td>\n",
       "      <td>Bobsleigh</td>\n",
       "      <td>Bobsleigh Men's Four</td>\n",
       "      <td>NaN</td>\n",
       "    </tr>\n",
       "    <tr>\n",
       "      <th>271115</th>\n",
       "      <td>135571</td>\n",
       "      <td>Tomasz Ireneusz ya</td>\n",
       "      <td>M</td>\n",
       "      <td>34.0</td>\n",
       "      <td>185.0</td>\n",
       "      <td>96.0</td>\n",
       "      <td>Poland</td>\n",
       "      <td>POL</td>\n",
       "      <td>2002 Winter</td>\n",
       "      <td>2002</td>\n",
       "      <td>Winter</td>\n",
       "      <td>Salt Lake City</td>\n",
       "      <td>Bobsleigh</td>\n",
       "      <td>Bobsleigh Men's Four</td>\n",
       "      <td>NaN</td>\n",
       "    </tr>\n",
       "  </tbody>\n",
       "</table>\n",
       "<p>271116 rows × 15 columns</p>\n",
       "</div>"
      ],
      "text/plain": [
       "            ID                      Name Sex   Age  Height  Weight  \\\n",
       "0            1                 A Dijiang   M  24.0   180.0    80.0   \n",
       "1            2                  A Lamusi   M  23.0   170.0    60.0   \n",
       "2            3       Gunnar Nielsen Aaby   M  24.0     NaN     NaN   \n",
       "3            4      Edgar Lindenau Aabye   M  34.0     NaN     NaN   \n",
       "4            5  Christine Jacoba Aaftink   F  21.0   185.0    82.0   \n",
       "...        ...                       ...  ..   ...     ...     ...   \n",
       "271111  135569                Andrzej ya   M  29.0   179.0    89.0   \n",
       "271112  135570                  Piotr ya   M  27.0   176.0    59.0   \n",
       "271113  135570                  Piotr ya   M  27.0   176.0    59.0   \n",
       "271114  135571        Tomasz Ireneusz ya   M  30.0   185.0    96.0   \n",
       "271115  135571        Tomasz Ireneusz ya   M  34.0   185.0    96.0   \n",
       "\n",
       "                  Team  NOC        Games  Year  Season            City  \\\n",
       "0                China  CHN  1992 Summer  1992  Summer       Barcelona   \n",
       "1                China  CHN  2012 Summer  2012  Summer          London   \n",
       "2              Denmark  DEN  1920 Summer  1920  Summer       Antwerpen   \n",
       "3       Denmark/Sweden  DEN  1900 Summer  1900  Summer           Paris   \n",
       "4          Netherlands  NED  1988 Winter  1988  Winter         Calgary   \n",
       "...                ...  ...          ...   ...     ...             ...   \n",
       "271111        Poland-1  POL  1976 Winter  1976  Winter       Innsbruck   \n",
       "271112          Poland  POL  2014 Winter  2014  Winter           Sochi   \n",
       "271113          Poland  POL  2014 Winter  2014  Winter           Sochi   \n",
       "271114          Poland  POL  1998 Winter  1998  Winter          Nagano   \n",
       "271115          Poland  POL  2002 Winter  2002  Winter  Salt Lake City   \n",
       "\n",
       "                Sport                                     Event Medal  \n",
       "0          Basketball               Basketball Men's Basketball   NaN  \n",
       "1                Judo              Judo Men's Extra-Lightweight   NaN  \n",
       "2            Football                   Football Men's Football   NaN  \n",
       "3          Tug-Of-War               Tug-Of-War Men's Tug-Of-War  Gold  \n",
       "4       Speed Skating          Speed Skating Women's 500 metres   NaN  \n",
       "...               ...                                       ...   ...  \n",
       "271111           Luge                Luge Mixed (Men)'s Doubles   NaN  \n",
       "271112    Ski Jumping  Ski Jumping Men's Large Hill, Individual   NaN  \n",
       "271113    Ski Jumping        Ski Jumping Men's Large Hill, Team   NaN  \n",
       "271114      Bobsleigh                      Bobsleigh Men's Four   NaN  \n",
       "271115      Bobsleigh                      Bobsleigh Men's Four   NaN  \n",
       "\n",
       "[271116 rows x 15 columns]"
      ]
     },
     "execution_count": 126,
     "metadata": {},
     "output_type": "execute_result"
    }
   ],
   "source": [
    "df = pd.read_csv('athlete_events.csv')\n",
    "df"
   ]
  },
  {
   "cell_type": "code",
   "execution_count": 125,
   "metadata": {},
   "outputs": [
    {
     "name": "stdout",
     "output_type": "stream",
     "text": [
      "<class 'pandas.core.frame.DataFrame'>\n",
      "Int64Index: 30181 entries, 40 to 271103\n",
      "Data columns (total 15 columns):\n",
      " #   Column  Non-Null Count  Dtype  \n",
      "---  ------  --------------  -----  \n",
      " 0   ID      30181 non-null  int64  \n",
      " 1   Name    30181 non-null  object \n",
      " 2   Gender  30181 non-null  object \n",
      " 3   Age     30181 non-null  float64\n",
      " 4   Height  30181 non-null  float64\n",
      " 5   Weight  30181 non-null  float64\n",
      " 6   Team    30181 non-null  object \n",
      " 7   NOC     30181 non-null  object \n",
      " 8   Games   30181 non-null  object \n",
      " 9   Year    30181 non-null  int64  \n",
      " 10  Season  30181 non-null  object \n",
      " 11  City    30181 non-null  object \n",
      " 12  Sport   30181 non-null  object \n",
      " 13  Event   30181 non-null  object \n",
      " 14  Medal   30181 non-null  object \n",
      "dtypes: float64(3), int64(2), object(10)\n",
      "memory usage: 3.7+ MB\n"
     ]
    }
   ],
   "source": [
    "df.info()"
   ]
  },
  {
   "cell_type": "code",
   "execution_count": 69,
   "metadata": {},
   "outputs": [
    {
     "name": "stdout",
     "output_type": "stream",
     "text": [
      "271116\n"
     ]
    }
   ],
   "source": [
    "total_rows = len(df.axes[0]) # Is viso eiluciu\n",
    "print (total_rows)"
   ]
  },
  {
   "cell_type": "code",
   "execution_count": 71,
   "metadata": {},
   "outputs": [
    {
     "name": "stdout",
     "output_type": "stream",
     "text": [
      "15\n"
     ]
    }
   ],
   "source": [
    "total_cols = len(df.axes[1]) # Is viso stulpeliu\n",
    "print (total_cols)"
   ]
  },
  {
   "cell_type": "code",
   "execution_count": 87,
   "metadata": {},
   "outputs": [
    {
     "data": {
      "text/plain": [
       "135571"
      ]
     },
     "execution_count": 87,
     "metadata": {},
     "output_type": "execute_result"
    }
   ],
   "source": [
    "df.ID.nunique(dropna = True) # Kiek is viso yra dalyvave"
   ]
  },
  {
   "cell_type": "code",
   "execution_count": 149,
   "metadata": {},
   "outputs": [
    {
     "data": {
      "text/plain": [
       "51"
      ]
     },
     "execution_count": 149,
     "metadata": {},
     "output_type": "execute_result"
    }
   ],
   "source": [
    "df.Games.nunique(dropna = True) # Kartai kiek vyko Olimpines"
   ]
  },
  {
   "cell_type": "code",
   "execution_count": 108,
   "metadata": {},
   "outputs": [
    {
     "data": {
      "text/plain": [
       "42"
      ]
     },
     "execution_count": 108,
     "metadata": {},
     "output_type": "execute_result"
    }
   ],
   "source": [
    "df.City.nunique(dropna = True)"
   ]
  },
  {
   "cell_type": "code",
   "execution_count": 109,
   "metadata": {},
   "outputs": [
    {
     "data": {
      "text/plain": [
       "66"
      ]
     },
     "execution_count": 109,
     "metadata": {},
     "output_type": "execute_result"
    }
   ],
   "source": [
    "df.Sport.nunique(dropna = True)"
   ]
  },
  {
   "cell_type": "code",
   "execution_count": 111,
   "metadata": {},
   "outputs": [
    {
     "data": {
      "text/plain": [
       "765"
      ]
     },
     "execution_count": 111,
     "metadata": {},
     "output_type": "execute_result"
    }
   ],
   "source": [
    "df.Event.nunique(dropna = True)"
   ]
  },
  {
   "cell_type": "code",
   "execution_count": 124,
   "metadata": {},
   "outputs": [
    {
     "data": {
      "text/plain": [
       "M    19831\n",
       "F    10350\n",
       "Name: Gender, dtype: int64"
      ]
     },
     "execution_count": 124,
     "metadata": {},
     "output_type": "execute_result"
    }
   ],
   "source": [
    "df['Gender'].value_counts()"
   ]
  },
  {
   "cell_type": "code",
   "execution_count": 12,
   "metadata": {},
   "outputs": [
    {
     "data": {
      "text/plain": [
       "Gold      13372\n",
       "Bronze    13295\n",
       "Silver    13116\n",
       "Name: Medal, dtype: int64"
      ]
     },
     "execution_count": 12,
     "metadata": {},
     "output_type": "execute_result"
    }
   ],
   "source": [
    "df['Medal'].value_counts()"
   ]
  },
  {
   "attachments": {},
   "cell_type": "markdown",
   "metadata": {},
   "source": [
    "# Pradedami valyti ir analizuoti duomenys"
   ]
  },
  {
   "cell_type": "code",
   "execution_count": 128,
   "metadata": {},
   "outputs": [
    {
     "data": {
      "text/html": [
       "<div>\n",
       "<style scoped>\n",
       "    .dataframe tbody tr th:only-of-type {\n",
       "        vertical-align: middle;\n",
       "    }\n",
       "\n",
       "    .dataframe tbody tr th {\n",
       "        vertical-align: top;\n",
       "    }\n",
       "\n",
       "    .dataframe thead th {\n",
       "        text-align: right;\n",
       "    }\n",
       "</style>\n",
       "<table border=\"1\" class=\"dataframe\">\n",
       "  <thead>\n",
       "    <tr style=\"text-align: right;\">\n",
       "      <th></th>\n",
       "      <th>ID</th>\n",
       "      <th>Name</th>\n",
       "      <th>Sex</th>\n",
       "      <th>Age</th>\n",
       "      <th>Height</th>\n",
       "      <th>Weight</th>\n",
       "      <th>Team</th>\n",
       "      <th>NOC</th>\n",
       "      <th>Games</th>\n",
       "      <th>Year</th>\n",
       "      <th>Season</th>\n",
       "      <th>City</th>\n",
       "      <th>Sport</th>\n",
       "      <th>Event</th>\n",
       "      <th>Medal</th>\n",
       "    </tr>\n",
       "  </thead>\n",
       "  <tbody>\n",
       "    <tr>\n",
       "      <th>40</th>\n",
       "      <td>16</td>\n",
       "      <td>Juhamatti Tapio Aaltonen</td>\n",
       "      <td>M</td>\n",
       "      <td>28.0</td>\n",
       "      <td>184.0</td>\n",
       "      <td>85.0</td>\n",
       "      <td>Finland</td>\n",
       "      <td>FIN</td>\n",
       "      <td>2014 Winter</td>\n",
       "      <td>2014</td>\n",
       "      <td>Winter</td>\n",
       "      <td>Sochi</td>\n",
       "      <td>Ice Hockey</td>\n",
       "      <td>Ice Hockey Men's Ice Hockey</td>\n",
       "      <td>Bronze</td>\n",
       "    </tr>\n",
       "    <tr>\n",
       "      <th>41</th>\n",
       "      <td>17</td>\n",
       "      <td>Paavo Johannes Aaltonen</td>\n",
       "      <td>M</td>\n",
       "      <td>28.0</td>\n",
       "      <td>175.0</td>\n",
       "      <td>64.0</td>\n",
       "      <td>Finland</td>\n",
       "      <td>FIN</td>\n",
       "      <td>1948 Summer</td>\n",
       "      <td>1948</td>\n",
       "      <td>Summer</td>\n",
       "      <td>London</td>\n",
       "      <td>Gymnastics</td>\n",
       "      <td>Gymnastics Men's Individual All-Around</td>\n",
       "      <td>Bronze</td>\n",
       "    </tr>\n",
       "    <tr>\n",
       "      <th>42</th>\n",
       "      <td>17</td>\n",
       "      <td>Paavo Johannes Aaltonen</td>\n",
       "      <td>M</td>\n",
       "      <td>28.0</td>\n",
       "      <td>175.0</td>\n",
       "      <td>64.0</td>\n",
       "      <td>Finland</td>\n",
       "      <td>FIN</td>\n",
       "      <td>1948 Summer</td>\n",
       "      <td>1948</td>\n",
       "      <td>Summer</td>\n",
       "      <td>London</td>\n",
       "      <td>Gymnastics</td>\n",
       "      <td>Gymnastics Men's Team All-Around</td>\n",
       "      <td>Gold</td>\n",
       "    </tr>\n",
       "    <tr>\n",
       "      <th>44</th>\n",
       "      <td>17</td>\n",
       "      <td>Paavo Johannes Aaltonen</td>\n",
       "      <td>M</td>\n",
       "      <td>28.0</td>\n",
       "      <td>175.0</td>\n",
       "      <td>64.0</td>\n",
       "      <td>Finland</td>\n",
       "      <td>FIN</td>\n",
       "      <td>1948 Summer</td>\n",
       "      <td>1948</td>\n",
       "      <td>Summer</td>\n",
       "      <td>London</td>\n",
       "      <td>Gymnastics</td>\n",
       "      <td>Gymnastics Men's Horse Vault</td>\n",
       "      <td>Gold</td>\n",
       "    </tr>\n",
       "    <tr>\n",
       "      <th>48</th>\n",
       "      <td>17</td>\n",
       "      <td>Paavo Johannes Aaltonen</td>\n",
       "      <td>M</td>\n",
       "      <td>28.0</td>\n",
       "      <td>175.0</td>\n",
       "      <td>64.0</td>\n",
       "      <td>Finland</td>\n",
       "      <td>FIN</td>\n",
       "      <td>1948 Summer</td>\n",
       "      <td>1948</td>\n",
       "      <td>Summer</td>\n",
       "      <td>London</td>\n",
       "      <td>Gymnastics</td>\n",
       "      <td>Gymnastics Men's Pommelled Horse</td>\n",
       "      <td>Gold</td>\n",
       "    </tr>\n",
       "    <tr>\n",
       "      <th>...</th>\n",
       "      <td>...</td>\n",
       "      <td>...</td>\n",
       "      <td>...</td>\n",
       "      <td>...</td>\n",
       "      <td>...</td>\n",
       "      <td>...</td>\n",
       "      <td>...</td>\n",
       "      <td>...</td>\n",
       "      <td>...</td>\n",
       "      <td>...</td>\n",
       "      <td>...</td>\n",
       "      <td>...</td>\n",
       "      <td>...</td>\n",
       "      <td>...</td>\n",
       "      <td>...</td>\n",
       "    </tr>\n",
       "    <tr>\n",
       "      <th>271078</th>\n",
       "      <td>135553</td>\n",
       "      <td>Galina Ivanovna Zybina (-Fyodorova)</td>\n",
       "      <td>F</td>\n",
       "      <td>25.0</td>\n",
       "      <td>168.0</td>\n",
       "      <td>80.0</td>\n",
       "      <td>Soviet Union</td>\n",
       "      <td>URS</td>\n",
       "      <td>1956 Summer</td>\n",
       "      <td>1956</td>\n",
       "      <td>Summer</td>\n",
       "      <td>Melbourne</td>\n",
       "      <td>Athletics</td>\n",
       "      <td>Athletics Women's Shot Put</td>\n",
       "      <td>Silver</td>\n",
       "    </tr>\n",
       "    <tr>\n",
       "      <th>271080</th>\n",
       "      <td>135553</td>\n",
       "      <td>Galina Ivanovna Zybina (-Fyodorova)</td>\n",
       "      <td>F</td>\n",
       "      <td>33.0</td>\n",
       "      <td>168.0</td>\n",
       "      <td>80.0</td>\n",
       "      <td>Soviet Union</td>\n",
       "      <td>URS</td>\n",
       "      <td>1964 Summer</td>\n",
       "      <td>1964</td>\n",
       "      <td>Summer</td>\n",
       "      <td>Tokyo</td>\n",
       "      <td>Athletics</td>\n",
       "      <td>Athletics Women's Shot Put</td>\n",
       "      <td>Bronze</td>\n",
       "    </tr>\n",
       "    <tr>\n",
       "      <th>271082</th>\n",
       "      <td>135554</td>\n",
       "      <td>Bogusaw Zych</td>\n",
       "      <td>M</td>\n",
       "      <td>28.0</td>\n",
       "      <td>182.0</td>\n",
       "      <td>82.0</td>\n",
       "      <td>Poland</td>\n",
       "      <td>POL</td>\n",
       "      <td>1980 Summer</td>\n",
       "      <td>1980</td>\n",
       "      <td>Summer</td>\n",
       "      <td>Moskva</td>\n",
       "      <td>Fencing</td>\n",
       "      <td>Fencing Men's Foil, Team</td>\n",
       "      <td>Bronze</td>\n",
       "    </tr>\n",
       "    <tr>\n",
       "      <th>271102</th>\n",
       "      <td>135563</td>\n",
       "      <td>Olesya Nikolayevna Zykina</td>\n",
       "      <td>F</td>\n",
       "      <td>19.0</td>\n",
       "      <td>171.0</td>\n",
       "      <td>64.0</td>\n",
       "      <td>Russia</td>\n",
       "      <td>RUS</td>\n",
       "      <td>2000 Summer</td>\n",
       "      <td>2000</td>\n",
       "      <td>Summer</td>\n",
       "      <td>Sydney</td>\n",
       "      <td>Athletics</td>\n",
       "      <td>Athletics Women's 4 x 400 metres Relay</td>\n",
       "      <td>Bronze</td>\n",
       "    </tr>\n",
       "    <tr>\n",
       "      <th>271103</th>\n",
       "      <td>135563</td>\n",
       "      <td>Olesya Nikolayevna Zykina</td>\n",
       "      <td>F</td>\n",
       "      <td>23.0</td>\n",
       "      <td>171.0</td>\n",
       "      <td>64.0</td>\n",
       "      <td>Russia</td>\n",
       "      <td>RUS</td>\n",
       "      <td>2004 Summer</td>\n",
       "      <td>2004</td>\n",
       "      <td>Summer</td>\n",
       "      <td>Athina</td>\n",
       "      <td>Athletics</td>\n",
       "      <td>Athletics Women's 4 x 400 metres Relay</td>\n",
       "      <td>Silver</td>\n",
       "    </tr>\n",
       "  </tbody>\n",
       "</table>\n",
       "<p>30181 rows × 15 columns</p>\n",
       "</div>"
      ],
      "text/plain": [
       "            ID                                 Name Sex   Age  Height  Weight  \\\n",
       "40          16             Juhamatti Tapio Aaltonen   M  28.0   184.0    85.0   \n",
       "41          17              Paavo Johannes Aaltonen   M  28.0   175.0    64.0   \n",
       "42          17              Paavo Johannes Aaltonen   M  28.0   175.0    64.0   \n",
       "44          17              Paavo Johannes Aaltonen   M  28.0   175.0    64.0   \n",
       "48          17              Paavo Johannes Aaltonen   M  28.0   175.0    64.0   \n",
       "...        ...                                  ...  ..   ...     ...     ...   \n",
       "271078  135553  Galina Ivanovna Zybina (-Fyodorova)   F  25.0   168.0    80.0   \n",
       "271080  135553  Galina Ivanovna Zybina (-Fyodorova)   F  33.0   168.0    80.0   \n",
       "271082  135554                         Bogusaw Zych   M  28.0   182.0    82.0   \n",
       "271102  135563            Olesya Nikolayevna Zykina   F  19.0   171.0    64.0   \n",
       "271103  135563            Olesya Nikolayevna Zykina   F  23.0   171.0    64.0   \n",
       "\n",
       "                Team  NOC        Games  Year  Season       City       Sport  \\\n",
       "40           Finland  FIN  2014 Winter  2014  Winter      Sochi  Ice Hockey   \n",
       "41           Finland  FIN  1948 Summer  1948  Summer     London  Gymnastics   \n",
       "42           Finland  FIN  1948 Summer  1948  Summer     London  Gymnastics   \n",
       "44           Finland  FIN  1948 Summer  1948  Summer     London  Gymnastics   \n",
       "48           Finland  FIN  1948 Summer  1948  Summer     London  Gymnastics   \n",
       "...              ...  ...          ...   ...     ...        ...         ...   \n",
       "271078  Soviet Union  URS  1956 Summer  1956  Summer  Melbourne   Athletics   \n",
       "271080  Soviet Union  URS  1964 Summer  1964  Summer      Tokyo   Athletics   \n",
       "271082        Poland  POL  1980 Summer  1980  Summer     Moskva     Fencing   \n",
       "271102        Russia  RUS  2000 Summer  2000  Summer     Sydney   Athletics   \n",
       "271103        Russia  RUS  2004 Summer  2004  Summer     Athina   Athletics   \n",
       "\n",
       "                                         Event   Medal  \n",
       "40                 Ice Hockey Men's Ice Hockey  Bronze  \n",
       "41      Gymnastics Men's Individual All-Around  Bronze  \n",
       "42            Gymnastics Men's Team All-Around    Gold  \n",
       "44                Gymnastics Men's Horse Vault    Gold  \n",
       "48            Gymnastics Men's Pommelled Horse    Gold  \n",
       "...                                        ...     ...  \n",
       "271078              Athletics Women's Shot Put  Silver  \n",
       "271080              Athletics Women's Shot Put  Bronze  \n",
       "271082                Fencing Men's Foil, Team  Bronze  \n",
       "271102  Athletics Women's 4 x 400 metres Relay  Bronze  \n",
       "271103  Athletics Women's 4 x 400 metres Relay  Silver  \n",
       "\n",
       "[30181 rows x 15 columns]"
      ]
     },
     "execution_count": 128,
     "metadata": {},
     "output_type": "execute_result"
    }
   ],
   "source": [
    "df.dropna(subset=['Age', 'Height', 'Weight', 'Medal'], inplace=True)\n",
    "df"
   ]
  },
  {
   "cell_type": "code",
   "execution_count": 130,
   "metadata": {},
   "outputs": [],
   "source": [
    "df = df.rename( columns={'Sex': 'Gender'})"
   ]
  },
  {
   "cell_type": "code",
   "execution_count": 121,
   "metadata": {},
   "outputs": [
    {
     "name": "stdout",
     "output_type": "stream",
     "text": [
      "<class 'pandas.core.frame.DataFrame'>\n",
      "Int64Index: 30181 entries, 40 to 271103\n",
      "Data columns (total 15 columns):\n",
      " #   Column  Non-Null Count  Dtype  \n",
      "---  ------  --------------  -----  \n",
      " 0   ID      30181 non-null  int64  \n",
      " 1   Name    30181 non-null  object \n",
      " 2   Gender  30181 non-null  object \n",
      " 3   Age     30181 non-null  float64\n",
      " 4   Height  30181 non-null  float64\n",
      " 5   Weight  30181 non-null  float64\n",
      " 6   Team    30181 non-null  object \n",
      " 7   NOC     30181 non-null  object \n",
      " 8   Games   30181 non-null  object \n",
      " 9   Year    30181 non-null  int64  \n",
      " 10  Season  30181 non-null  object \n",
      " 11  City    30181 non-null  object \n",
      " 12  Sport   30181 non-null  object \n",
      " 13  Event   30181 non-null  object \n",
      " 14  Medal   30181 non-null  object \n",
      "dtypes: float64(3), int64(2), object(10)\n",
      "memory usage: 3.7+ MB\n"
     ]
    }
   ],
   "source": [
    "df.info()"
   ]
  },
  {
   "cell_type": "code",
   "execution_count": 16,
   "metadata": {},
   "outputs": [
    {
     "data": {
      "text/plain": [
       "Athletics                    3648\n",
       "Swimming                     2486\n",
       "Rowing                       2104\n",
       "Ice Hockey                   1301\n",
       "Hockey                       1168\n",
       "Gymnastics                   1161\n",
       "Fencing                      1109\n",
       "Football                     1084\n",
       "Canoeing                     1041\n",
       "Basketball                   1000\n",
       "Wrestling                     967\n",
       "Volleyball                    958\n",
       "Handball                      937\n",
       "Cycling                       845\n",
       "Water Polo                    764\n",
       "Boxing                        708\n",
       "Cross Country Skiing          687\n",
       "Sailing                       677\n",
       "Equestrianism                 663\n",
       "Shooting                      542\n",
       "Weightlifting                 532\n",
       "Judo                          526\n",
       "Speed Skating                 488\n",
       "Biathlon                      388\n",
       "Alpine Skiing                 354\n",
       "Baseball                      333\n",
       "Diving                        318\n",
       "Bobsleigh                     283\n",
       "Short Track Speed Skating     274\n",
       "Figure Skating                249\n",
       "Synchronized Swimming         214\n",
       "Archery                       206\n",
       "Luge                          178\n",
       "Ski Jumping                   175\n",
       "Tennis                        173\n",
       "Softball                      172\n",
       "Table Tennis                  163\n",
       "Badminton                     154\n",
       "Modern Pentathlon             153\n",
       "Taekwondo                     144\n",
       "Nordic Combined               137\n",
       "Curling                       131\n",
       "Rhythmic Gymnastics           124\n",
       "Freestyle Skiing              102\n",
       "Snowboarding                   89\n",
       "Rugby Sevens                   74\n",
       "Beach Volleyball               68\n",
       "Triathlon                      30\n",
       "Rugby                          30\n",
       "Trampolining                   29\n",
       "Skeleton                       24\n",
       "Tug-Of-War                      8\n",
       "Golf                            4\n",
       "Lacrosse                        2\n",
       "Art Competitions                2\n",
       "Name: Sport, dtype: int64"
      ]
     },
     "execution_count": 16,
     "metadata": {},
     "output_type": "execute_result"
    }
   ],
   "source": [
    "df['Sport'].value_counts()"
   ]
  },
  {
   "cell_type": "code",
   "execution_count": 18,
   "metadata": {},
   "outputs": [
    {
     "data": {
      "text/plain": [
       "Ice Hockey Men's Ice Hockey                                   1001\n",
       "Football Men's Football                                        783\n",
       "Hockey Men's Hockey                                            714\n",
       "Basketball Men's Basketball                                    610\n",
       "Water Polo Men's Water Polo                                    573\n",
       "                                                              ... \n",
       "Diving Men's Plain High                                          1\n",
       "Canoeing Men's Folding Kayak Singles, 10 kilometres              1\n",
       "Art Competitions Mixed Architecture, Architectural Designs       1\n",
       "Athletics Men's All-Around Championship                          1\n",
       "Tennis Men's Singles, Covered Courts                             1\n",
       "Name: Event, Length: 562, dtype: int64"
      ]
     },
     "execution_count": 18,
     "metadata": {},
     "output_type": "execute_result"
    }
   ],
   "source": [
    "df['Event'].value_counts()"
   ]
  },
  {
   "cell_type": "code",
   "execution_count": 131,
   "metadata": {},
   "outputs": [
    {
     "name": "stdout",
     "output_type": "stream",
     "text": [
      "Vyru atletu : (19831, 15)\n",
      "Moteru atleciu: (10350, 15)\n"
     ]
    }
   ],
   "source": [
    "df_atletai = df[(df.Gender == 'M')]\n",
    "df_atletes = df[(df.Gender == 'F')]\n",
    "\n",
    "print('Vyru atletu :', df_atletai.shape)\n",
    "print('Moteru atleciu:',df_atletes.shape)"
   ]
  },
  {
   "cell_type": "code",
   "execution_count": 106,
   "metadata": {},
   "outputs": [
    {
     "name": "stdout",
     "output_type": "stream",
     "text": [
      "Vasaros zaidyniu atletai   :  (16676, 15)\n",
      "Ziemos zaidyniu atletai  :  (3155, 15)\n",
      "Vasaros zaidyniu atletes   :  (8665, 15)\n",
      "Ziemos zaidyniu atletes   :  (1685, 15)\n"
     ]
    }
   ],
   "source": [
    "df_vas_atletai = df_atletai[(df_atletai.Season == 'Summer')]\n",
    "df_zm_atletai = df_atletai[(df_atletai.Season == 'Winter')]\n",
    "df_vas_atletes = df_atletes[(df_atletes.Season == 'Summer')]\n",
    "df_zm_atletes = df_atletes[(df_atletes.Season == 'Winter')]\n",
    "\n",
    "print('Vasaros zaidyniu atletai   : ', df_vas_atletai.shape)\n",
    "print('Ziemos zaidyniu atletai  : ', df_zm_atletai.shape)\n",
    "print('Vasaros zaidyniu atletes   : ', df_vas_atletes.shape)\n",
    "print('Ziemos zaidyniu atletes   : ', df_zm_atletes.shape)"
   ]
  },
  {
   "cell_type": "code",
   "execution_count": 38,
   "metadata": {},
   "outputs": [
    {
     "data": {
      "text/plain": [
       "23.0    2742\n",
       "24.0    2649\n",
       "25.0    2558\n",
       "22.0    2549\n",
       "26.0    2378\n",
       "27.0    2213\n",
       "21.0    2140\n",
       "28.0    1948\n",
       "29.0    1553\n",
       "20.0    1550\n",
       "30.0    1256\n",
       "19.0    1025\n",
       "31.0     950\n",
       "32.0     760\n",
       "18.0     644\n",
       "33.0     558\n",
       "34.0     453\n",
       "17.0     399\n",
       "35.0     295\n",
       "16.0     284\n",
       "36.0     241\n",
       "37.0     160\n",
       "15.0     155\n",
       "38.0     122\n",
       "39.0      94\n",
       "40.0      90\n",
       "41.0      58\n",
       "42.0      55\n",
       "14.0      53\n",
       "46.0      41\n",
       "44.0      37\n",
       "43.0      33\n",
       "45.0      26\n",
       "52.0      18\n",
       "49.0      15\n",
       "47.0      15\n",
       "48.0      14\n",
       "13.0      10\n",
       "50.0       9\n",
       "54.0       5\n",
       "56.0       5\n",
       "51.0       5\n",
       "58.0       3\n",
       "55.0       3\n",
       "60.0       3\n",
       "61.0       2\n",
       "53.0       2\n",
       "59.0       1\n",
       "66.0       1\n",
       "57.0       1\n",
       "Name: Age, dtype: int64"
      ]
     },
     "execution_count": 38,
     "metadata": {},
     "output_type": "execute_result"
    }
   ],
   "source": [
    "df['Age'].value_counts()"
   ]
  },
  {
   "cell_type": "code",
   "execution_count": 30,
   "metadata": {},
   "outputs": [
    {
     "data": {
      "text/plain": [
       "25.42901162983334"
      ]
     },
     "execution_count": 30,
     "metadata": {},
     "output_type": "execute_result"
    }
   ],
   "source": [
    "df.mean(numeric_only=True)['Age']"
   ]
  },
  {
   "cell_type": "code",
   "execution_count": 49,
   "metadata": {},
   "outputs": [
    {
     "data": {
      "text/plain": [
       "66.0"
      ]
     },
     "execution_count": 49,
     "metadata": {},
     "output_type": "execute_result"
    }
   ],
   "source": [
    "df['Age'].max()"
   ]
  },
  {
   "cell_type": "code",
   "execution_count": 76,
   "metadata": {},
   "outputs": [
    {
     "data": {
      "text/html": [
       "<div>\n",
       "<style scoped>\n",
       "    .dataframe tbody tr th:only-of-type {\n",
       "        vertical-align: middle;\n",
       "    }\n",
       "\n",
       "    .dataframe tbody tr th {\n",
       "        vertical-align: top;\n",
       "    }\n",
       "\n",
       "    .dataframe thead th {\n",
       "        text-align: right;\n",
       "    }\n",
       "</style>\n",
       "<table border=\"1\" class=\"dataframe\">\n",
       "  <thead>\n",
       "    <tr style=\"text-align: right;\">\n",
       "      <th></th>\n",
       "      <th>ID</th>\n",
       "      <th>Name</th>\n",
       "      <th>Sex</th>\n",
       "      <th>Age</th>\n",
       "      <th>Height</th>\n",
       "      <th>Weight</th>\n",
       "      <th>Team</th>\n",
       "      <th>NOC</th>\n",
       "      <th>Games</th>\n",
       "      <th>Year</th>\n",
       "      <th>Season</th>\n",
       "      <th>City</th>\n",
       "      <th>Sport</th>\n",
       "      <th>Event</th>\n",
       "      <th>Medal</th>\n",
       "    </tr>\n",
       "  </thead>\n",
       "  <tbody>\n",
       "    <tr>\n",
       "      <th>173379</th>\n",
       "      <td>87135</td>\n",
       "      <td>Louis Noverraz</td>\n",
       "      <td>M</td>\n",
       "      <td>66.0</td>\n",
       "      <td>179.0</td>\n",
       "      <td>78.0</td>\n",
       "      <td>Switzerland</td>\n",
       "      <td>SUI</td>\n",
       "      <td>1968 Summer</td>\n",
       "      <td>1968</td>\n",
       "      <td>Summer</td>\n",
       "      <td>Mexico City</td>\n",
       "      <td>Sailing</td>\n",
       "      <td>Sailing Mixed 5.5 metres</td>\n",
       "      <td>Silver</td>\n",
       "    </tr>\n",
       "  </tbody>\n",
       "</table>\n",
       "</div>"
      ],
      "text/plain": [
       "           ID            Name Sex   Age  Height  Weight         Team  NOC  \\\n",
       "173379  87135  Louis Noverraz   M  66.0   179.0    78.0  Switzerland  SUI   \n",
       "\n",
       "              Games  Year  Season         City    Sport  \\\n",
       "173379  1968 Summer  1968  Summer  Mexico City  Sailing   \n",
       "\n",
       "                           Event   Medal  \n",
       "173379  Sailing Mixed 5.5 metres  Silver  "
      ]
     },
     "execution_count": 76,
     "metadata": {},
     "output_type": "execute_result"
    }
   ],
   "source": [
    "df[df['Age'] == 66].head()"
   ]
  },
  {
   "cell_type": "code",
   "execution_count": 50,
   "metadata": {},
   "outputs": [
    {
     "data": {
      "text/plain": [
       "13.0"
      ]
     },
     "execution_count": 50,
     "metadata": {},
     "output_type": "execute_result"
    }
   ],
   "source": [
    "df['Age'].min()"
   ]
  },
  {
   "cell_type": "code",
   "execution_count": 81,
   "metadata": {},
   "outputs": [
    {
     "data": {
      "text/html": [
       "<div>\n",
       "<style scoped>\n",
       "    .dataframe tbody tr th:only-of-type {\n",
       "        vertical-align: middle;\n",
       "    }\n",
       "\n",
       "    .dataframe tbody tr th {\n",
       "        vertical-align: top;\n",
       "    }\n",
       "\n",
       "    .dataframe thead th {\n",
       "        text-align: right;\n",
       "    }\n",
       "</style>\n",
       "<table border=\"1\" class=\"dataframe\">\n",
       "  <thead>\n",
       "    <tr style=\"text-align: right;\">\n",
       "      <th></th>\n",
       "      <th>ID</th>\n",
       "      <th>Name</th>\n",
       "      <th>Sex</th>\n",
       "      <th>Age</th>\n",
       "      <th>Height</th>\n",
       "      <th>Weight</th>\n",
       "      <th>Team</th>\n",
       "      <th>NOC</th>\n",
       "      <th>Games</th>\n",
       "      <th>Year</th>\n",
       "      <th>Season</th>\n",
       "      <th>City</th>\n",
       "      <th>Sport</th>\n",
       "      <th>Event</th>\n",
       "      <th>Medal</th>\n",
       "    </tr>\n",
       "  </thead>\n",
       "  <tbody>\n",
       "    <tr>\n",
       "      <th>44972</th>\n",
       "      <td>23192</td>\n",
       "      <td>Robin Marie Corsiglia (-Scholefield)</td>\n",
       "      <td>F</td>\n",
       "      <td>13.0</td>\n",
       "      <td>157.0</td>\n",
       "      <td>45.0</td>\n",
       "      <td>Canada</td>\n",
       "      <td>CAN</td>\n",
       "      <td>1976 Summer</td>\n",
       "      <td>1976</td>\n",
       "      <td>Summer</td>\n",
       "      <td>Montreal</td>\n",
       "      <td>Swimming</td>\n",
       "      <td>Swimming Women's 4 x 100 metres Medley Relay</td>\n",
       "      <td>Bronze</td>\n",
       "    </tr>\n",
       "    <tr>\n",
       "      <th>52010</th>\n",
       "      <td>26731</td>\n",
       "      <td>Donna Elizabeth de Varona (-Pinto)</td>\n",
       "      <td>F</td>\n",
       "      <td>13.0</td>\n",
       "      <td>168.0</td>\n",
       "      <td>61.0</td>\n",
       "      <td>United States</td>\n",
       "      <td>USA</td>\n",
       "      <td>1960 Summer</td>\n",
       "      <td>1960</td>\n",
       "      <td>Summer</td>\n",
       "      <td>Roma</td>\n",
       "      <td>Swimming</td>\n",
       "      <td>Swimming Women's 4 x 100 metres Freestyle Relay</td>\n",
       "      <td>Gold</td>\n",
       "    </tr>\n",
       "    <tr>\n",
       "      <th>63524</th>\n",
       "      <td>32552</td>\n",
       "      <td>Kornelia Ender (-Matthes, -Grummt)</td>\n",
       "      <td>F</td>\n",
       "      <td>13.0</td>\n",
       "      <td>172.0</td>\n",
       "      <td>59.0</td>\n",
       "      <td>East Germany</td>\n",
       "      <td>GDR</td>\n",
       "      <td>1972 Summer</td>\n",
       "      <td>1972</td>\n",
       "      <td>Summer</td>\n",
       "      <td>Munich</td>\n",
       "      <td>Swimming</td>\n",
       "      <td>Swimming Women's 4 x 100 metres Freestyle Relay</td>\n",
       "      <td>Silver</td>\n",
       "    </tr>\n",
       "    <tr>\n",
       "      <th>63525</th>\n",
       "      <td>32552</td>\n",
       "      <td>Kornelia Ender (-Matthes, -Grummt)</td>\n",
       "      <td>F</td>\n",
       "      <td>13.0</td>\n",
       "      <td>172.0</td>\n",
       "      <td>59.0</td>\n",
       "      <td>East Germany</td>\n",
       "      <td>GDR</td>\n",
       "      <td>1972 Summer</td>\n",
       "      <td>1972</td>\n",
       "      <td>Summer</td>\n",
       "      <td>Munich</td>\n",
       "      <td>Swimming</td>\n",
       "      <td>Swimming Women's 200 metres Individual Medley</td>\n",
       "      <td>Silver</td>\n",
       "    </tr>\n",
       "    <tr>\n",
       "      <th>63526</th>\n",
       "      <td>32552</td>\n",
       "      <td>Kornelia Ender (-Matthes, -Grummt)</td>\n",
       "      <td>F</td>\n",
       "      <td>13.0</td>\n",
       "      <td>172.0</td>\n",
       "      <td>59.0</td>\n",
       "      <td>East Germany</td>\n",
       "      <td>GDR</td>\n",
       "      <td>1972 Summer</td>\n",
       "      <td>1972</td>\n",
       "      <td>Summer</td>\n",
       "      <td>Munich</td>\n",
       "      <td>Swimming</td>\n",
       "      <td>Swimming Women's 4 x 100 metres Medley Relay</td>\n",
       "      <td>Silver</td>\n",
       "    </tr>\n",
       "  </tbody>\n",
       "</table>\n",
       "</div>"
      ],
      "text/plain": [
       "          ID                                  Name Sex   Age  Height  Weight  \\\n",
       "44972  23192  Robin Marie Corsiglia (-Scholefield)   F  13.0   157.0    45.0   \n",
       "52010  26731    Donna Elizabeth de Varona (-Pinto)   F  13.0   168.0    61.0   \n",
       "63524  32552    Kornelia Ender (-Matthes, -Grummt)   F  13.0   172.0    59.0   \n",
       "63525  32552    Kornelia Ender (-Matthes, -Grummt)   F  13.0   172.0    59.0   \n",
       "63526  32552    Kornelia Ender (-Matthes, -Grummt)   F  13.0   172.0    59.0   \n",
       "\n",
       "                Team  NOC        Games  Year  Season      City     Sport  \\\n",
       "44972         Canada  CAN  1976 Summer  1976  Summer  Montreal  Swimming   \n",
       "52010  United States  USA  1960 Summer  1960  Summer      Roma  Swimming   \n",
       "63524   East Germany  GDR  1972 Summer  1972  Summer    Munich  Swimming   \n",
       "63525   East Germany  GDR  1972 Summer  1972  Summer    Munich  Swimming   \n",
       "63526   East Germany  GDR  1972 Summer  1972  Summer    Munich  Swimming   \n",
       "\n",
       "                                                 Event   Medal  \n",
       "44972     Swimming Women's 4 x 100 metres Medley Relay  Bronze  \n",
       "52010  Swimming Women's 4 x 100 metres Freestyle Relay    Gold  \n",
       "63524  Swimming Women's 4 x 100 metres Freestyle Relay  Silver  \n",
       "63525    Swimming Women's 200 metres Individual Medley  Silver  \n",
       "63526     Swimming Women's 4 x 100 metres Medley Relay  Silver  "
      ]
     },
     "execution_count": 81,
     "metadata": {},
     "output_type": "execute_result"
    }
   ],
   "source": [
    "df[df['Age'] == 13].head()"
   ]
  },
  {
   "cell_type": "code",
   "execution_count": 32,
   "metadata": {},
   "outputs": [
    {
     "data": {
      "text/plain": [
       "180.0    1715\n",
       "178.0    1531\n",
       "170.0    1469\n",
       "183.0    1412\n",
       "175.0    1379\n",
       "         ... \n",
       "141.0       3\n",
       "220.0       3\n",
       "137.0       2\n",
       "138.0       1\n",
       "219.0       1\n",
       "Name: Height, Length: 86, dtype: int64"
      ]
     },
     "execution_count": 32,
     "metadata": {},
     "output_type": "execute_result"
    }
   ],
   "source": [
    "df['Height'].value_counts()"
   ]
  },
  {
   "cell_type": "code",
   "execution_count": 34,
   "metadata": {},
   "outputs": [
    {
     "data": {
      "text/plain": [
       "177.64235777475895"
      ]
     },
     "execution_count": 34,
     "metadata": {},
     "output_type": "execute_result"
    }
   ],
   "source": [
    "df.mean(numeric_only=True)['Height']"
   ]
  },
  {
   "cell_type": "code",
   "execution_count": 55,
   "metadata": {},
   "outputs": [
    {
     "data": {
      "text/plain": [
       "223.0"
      ]
     },
     "execution_count": 55,
     "metadata": {},
     "output_type": "execute_result"
    }
   ],
   "source": [
    "df['Height'].max()\n"
   ]
  },
  {
   "cell_type": "code",
   "execution_count": 84,
   "metadata": {},
   "outputs": [
    {
     "data": {
      "text/html": [
       "<div>\n",
       "<style scoped>\n",
       "    .dataframe tbody tr th:only-of-type {\n",
       "        vertical-align: middle;\n",
       "    }\n",
       "\n",
       "    .dataframe tbody tr th {\n",
       "        vertical-align: top;\n",
       "    }\n",
       "\n",
       "    .dataframe thead th {\n",
       "        text-align: right;\n",
       "    }\n",
       "</style>\n",
       "<table border=\"1\" class=\"dataframe\">\n",
       "  <thead>\n",
       "    <tr style=\"text-align: right;\">\n",
       "      <th></th>\n",
       "      <th>ID</th>\n",
       "      <th>Name</th>\n",
       "      <th>Sex</th>\n",
       "      <th>Age</th>\n",
       "      <th>Height</th>\n",
       "      <th>Weight</th>\n",
       "      <th>Team</th>\n",
       "      <th>NOC</th>\n",
       "      <th>Games</th>\n",
       "      <th>Year</th>\n",
       "      <th>Season</th>\n",
       "      <th>City</th>\n",
       "      <th>Sport</th>\n",
       "      <th>Event</th>\n",
       "      <th>Medal</th>\n",
       "    </tr>\n",
       "  </thead>\n",
       "  <tbody>\n",
       "    <tr>\n",
       "      <th>32376</th>\n",
       "      <td>16639</td>\n",
       "      <td>Tommy Loren Burleson</td>\n",
       "      <td>M</td>\n",
       "      <td>20.0</td>\n",
       "      <td>223.0</td>\n",
       "      <td>102.0</td>\n",
       "      <td>United States</td>\n",
       "      <td>USA</td>\n",
       "      <td>1972 Summer</td>\n",
       "      <td>1972</td>\n",
       "      <td>Summer</td>\n",
       "      <td>Munich</td>\n",
       "      <td>Basketball</td>\n",
       "      <td>Basketball Men's Basketball</td>\n",
       "      <td>Silver</td>\n",
       "    </tr>\n",
       "    <tr>\n",
       "      <th>207373</th>\n",
       "      <td>104059</td>\n",
       "      <td>Arvydas Romas Sabonis</td>\n",
       "      <td>M</td>\n",
       "      <td>23.0</td>\n",
       "      <td>223.0</td>\n",
       "      <td>122.0</td>\n",
       "      <td>Soviet Union</td>\n",
       "      <td>URS</td>\n",
       "      <td>1988 Summer</td>\n",
       "      <td>1988</td>\n",
       "      <td>Summer</td>\n",
       "      <td>Seoul</td>\n",
       "      <td>Basketball</td>\n",
       "      <td>Basketball Men's Basketball</td>\n",
       "      <td>Gold</td>\n",
       "    </tr>\n",
       "    <tr>\n",
       "      <th>207374</th>\n",
       "      <td>104059</td>\n",
       "      <td>Arvydas Romas Sabonis</td>\n",
       "      <td>M</td>\n",
       "      <td>27.0</td>\n",
       "      <td>223.0</td>\n",
       "      <td>122.0</td>\n",
       "      <td>Lithuania</td>\n",
       "      <td>LTU</td>\n",
       "      <td>1992 Summer</td>\n",
       "      <td>1992</td>\n",
       "      <td>Summer</td>\n",
       "      <td>Barcelona</td>\n",
       "      <td>Basketball</td>\n",
       "      <td>Basketball Men's Basketball</td>\n",
       "      <td>Bronze</td>\n",
       "    </tr>\n",
       "    <tr>\n",
       "      <th>207375</th>\n",
       "      <td>104059</td>\n",
       "      <td>Arvydas Romas Sabonis</td>\n",
       "      <td>M</td>\n",
       "      <td>31.0</td>\n",
       "      <td>223.0</td>\n",
       "      <td>122.0</td>\n",
       "      <td>Lithuania</td>\n",
       "      <td>LTU</td>\n",
       "      <td>1996 Summer</td>\n",
       "      <td>1996</td>\n",
       "      <td>Summer</td>\n",
       "      <td>Atlanta</td>\n",
       "      <td>Basketball</td>\n",
       "      <td>Basketball Men's Basketball</td>\n",
       "      <td>Bronze</td>\n",
       "    </tr>\n",
       "  </tbody>\n",
       "</table>\n",
       "</div>"
      ],
      "text/plain": [
       "            ID                   Name Sex   Age  Height  Weight  \\\n",
       "32376    16639   Tommy Loren Burleson   M  20.0   223.0   102.0   \n",
       "207373  104059  Arvydas Romas Sabonis   M  23.0   223.0   122.0   \n",
       "207374  104059  Arvydas Romas Sabonis   M  27.0   223.0   122.0   \n",
       "207375  104059  Arvydas Romas Sabonis   M  31.0   223.0   122.0   \n",
       "\n",
       "                 Team  NOC        Games  Year  Season       City       Sport  \\\n",
       "32376   United States  USA  1972 Summer  1972  Summer     Munich  Basketball   \n",
       "207373   Soviet Union  URS  1988 Summer  1988  Summer      Seoul  Basketball   \n",
       "207374      Lithuania  LTU  1992 Summer  1992  Summer  Barcelona  Basketball   \n",
       "207375      Lithuania  LTU  1996 Summer  1996  Summer    Atlanta  Basketball   \n",
       "\n",
       "                              Event   Medal  \n",
       "32376   Basketball Men's Basketball  Silver  \n",
       "207373  Basketball Men's Basketball    Gold  \n",
       "207374  Basketball Men's Basketball  Bronze  \n",
       "207375  Basketball Men's Basketball  Bronze  "
      ]
     },
     "execution_count": 84,
     "metadata": {},
     "output_type": "execute_result"
    }
   ],
   "source": [
    "df[df['Height'] == 223.0].head()"
   ]
  },
  {
   "cell_type": "code",
   "execution_count": 56,
   "metadata": {},
   "outputs": [
    {
     "data": {
      "text/plain": [
       "136.0"
      ]
     },
     "execution_count": 56,
     "metadata": {},
     "output_type": "execute_result"
    }
   ],
   "source": [
    "df['Height'].min()"
   ]
  },
  {
   "cell_type": "code",
   "execution_count": 88,
   "metadata": {},
   "outputs": [
    {
     "data": {
      "text/html": [
       "<div>\n",
       "<style scoped>\n",
       "    .dataframe tbody tr th:only-of-type {\n",
       "        vertical-align: middle;\n",
       "    }\n",
       "\n",
       "    .dataframe tbody tr th {\n",
       "        vertical-align: top;\n",
       "    }\n",
       "\n",
       "    .dataframe thead th {\n",
       "        text-align: right;\n",
       "    }\n",
       "</style>\n",
       "<table border=\"1\" class=\"dataframe\">\n",
       "  <thead>\n",
       "    <tr style=\"text-align: right;\">\n",
       "      <th></th>\n",
       "      <th>ID</th>\n",
       "      <th>Name</th>\n",
       "      <th>Sex</th>\n",
       "      <th>Age</th>\n",
       "      <th>Height</th>\n",
       "      <th>Weight</th>\n",
       "      <th>Team</th>\n",
       "      <th>NOC</th>\n",
       "      <th>Games</th>\n",
       "      <th>Year</th>\n",
       "      <th>Season</th>\n",
       "      <th>City</th>\n",
       "      <th>Sport</th>\n",
       "      <th>Event</th>\n",
       "      <th>Medal</th>\n",
       "    </tr>\n",
       "  </thead>\n",
       "  <tbody>\n",
       "    <tr>\n",
       "      <th>69216</th>\n",
       "      <td>35292</td>\n",
       "      <td>Mariya Yevgenyevna Filatova (-Kurbatova)</td>\n",
       "      <td>F</td>\n",
       "      <td>14.0</td>\n",
       "      <td>136.0</td>\n",
       "      <td>30.0</td>\n",
       "      <td>Soviet Union</td>\n",
       "      <td>URS</td>\n",
       "      <td>1976 Summer</td>\n",
       "      <td>1976</td>\n",
       "      <td>Summer</td>\n",
       "      <td>Montreal</td>\n",
       "      <td>Gymnastics</td>\n",
       "      <td>Gymnastics Women's Team All-Around</td>\n",
       "      <td>Gold</td>\n",
       "    </tr>\n",
       "    <tr>\n",
       "      <th>69222</th>\n",
       "      <td>35292</td>\n",
       "      <td>Mariya Yevgenyevna Filatova (-Kurbatova)</td>\n",
       "      <td>F</td>\n",
       "      <td>19.0</td>\n",
       "      <td>136.0</td>\n",
       "      <td>30.0</td>\n",
       "      <td>Soviet Union</td>\n",
       "      <td>URS</td>\n",
       "      <td>1980 Summer</td>\n",
       "      <td>1980</td>\n",
       "      <td>Summer</td>\n",
       "      <td>Moskva</td>\n",
       "      <td>Gymnastics</td>\n",
       "      <td>Gymnastics Women's Team All-Around</td>\n",
       "      <td>Gold</td>\n",
       "    </tr>\n",
       "    <tr>\n",
       "      <th>69225</th>\n",
       "      <td>35292</td>\n",
       "      <td>Mariya Yevgenyevna Filatova (-Kurbatova)</td>\n",
       "      <td>F</td>\n",
       "      <td>19.0</td>\n",
       "      <td>136.0</td>\n",
       "      <td>30.0</td>\n",
       "      <td>Soviet Union</td>\n",
       "      <td>URS</td>\n",
       "      <td>1980 Summer</td>\n",
       "      <td>1980</td>\n",
       "      <td>Summer</td>\n",
       "      <td>Moskva</td>\n",
       "      <td>Gymnastics</td>\n",
       "      <td>Gymnastics Women's Uneven Bars</td>\n",
       "      <td>Bronze</td>\n",
       "    </tr>\n",
       "    <tr>\n",
       "      <th>143279</th>\n",
       "      <td>71914</td>\n",
       "      <td>Lu Li</td>\n",
       "      <td>F</td>\n",
       "      <td>15.0</td>\n",
       "      <td>136.0</td>\n",
       "      <td>30.0</td>\n",
       "      <td>China</td>\n",
       "      <td>CHN</td>\n",
       "      <td>1992 Summer</td>\n",
       "      <td>1992</td>\n",
       "      <td>Summer</td>\n",
       "      <td>Barcelona</td>\n",
       "      <td>Gymnastics</td>\n",
       "      <td>Gymnastics Women's Uneven Bars</td>\n",
       "      <td>Gold</td>\n",
       "    </tr>\n",
       "    <tr>\n",
       "      <th>143280</th>\n",
       "      <td>71914</td>\n",
       "      <td>Lu Li</td>\n",
       "      <td>F</td>\n",
       "      <td>15.0</td>\n",
       "      <td>136.0</td>\n",
       "      <td>30.0</td>\n",
       "      <td>China</td>\n",
       "      <td>CHN</td>\n",
       "      <td>1992 Summer</td>\n",
       "      <td>1992</td>\n",
       "      <td>Summer</td>\n",
       "      <td>Barcelona</td>\n",
       "      <td>Gymnastics</td>\n",
       "      <td>Gymnastics Women's Balance Beam</td>\n",
       "      <td>Silver</td>\n",
       "    </tr>\n",
       "  </tbody>\n",
       "</table>\n",
       "</div>"
      ],
      "text/plain": [
       "           ID                                      Name Sex   Age  Height  \\\n",
       "69216   35292  Mariya Yevgenyevna Filatova (-Kurbatova)   F  14.0   136.0   \n",
       "69222   35292  Mariya Yevgenyevna Filatova (-Kurbatova)   F  19.0   136.0   \n",
       "69225   35292  Mariya Yevgenyevna Filatova (-Kurbatova)   F  19.0   136.0   \n",
       "143279  71914                                     Lu Li   F  15.0   136.0   \n",
       "143280  71914                                     Lu Li   F  15.0   136.0   \n",
       "\n",
       "        Weight          Team  NOC        Games  Year  Season       City  \\\n",
       "69216     30.0  Soviet Union  URS  1976 Summer  1976  Summer   Montreal   \n",
       "69222     30.0  Soviet Union  URS  1980 Summer  1980  Summer     Moskva   \n",
       "69225     30.0  Soviet Union  URS  1980 Summer  1980  Summer     Moskva   \n",
       "143279    30.0         China  CHN  1992 Summer  1992  Summer  Barcelona   \n",
       "143280    30.0         China  CHN  1992 Summer  1992  Summer  Barcelona   \n",
       "\n",
       "             Sport                               Event   Medal  \n",
       "69216   Gymnastics  Gymnastics Women's Team All-Around    Gold  \n",
       "69222   Gymnastics  Gymnastics Women's Team All-Around    Gold  \n",
       "69225   Gymnastics      Gymnastics Women's Uneven Bars  Bronze  \n",
       "143279  Gymnastics      Gymnastics Women's Uneven Bars    Gold  \n",
       "143280  Gymnastics     Gymnastics Women's Balance Beam  Silver  "
      ]
     },
     "execution_count": 88,
     "metadata": {},
     "output_type": "execute_result"
    }
   ],
   "source": [
    "df[df['Height'] == 136.0].head()"
   ]
  },
  {
   "cell_type": "code",
   "execution_count": 35,
   "metadata": {},
   "outputs": [
    {
     "data": {
      "text/plain": [
       "70.0     1254\n",
       "75.0     1171\n",
       "68.0      941\n",
       "80.0      930\n",
       "73.0      909\n",
       "         ... \n",
       "100.5       1\n",
       "31.0        1\n",
       "135.5       1\n",
       "154.0       1\n",
       "133.0       1\n",
       "Name: Weight, Length: 183, dtype: int64"
      ]
     },
     "execution_count": 35,
     "metadata": {},
     "output_type": "execute_result"
    }
   ],
   "source": [
    "df['Weight'].value_counts()"
   ]
  },
  {
   "cell_type": "code",
   "execution_count": 36,
   "metadata": {},
   "outputs": [
    {
     "data": {
      "text/plain": [
       "73.75355356018687"
      ]
     },
     "execution_count": 36,
     "metadata": {},
     "output_type": "execute_result"
    }
   ],
   "source": [
    "df.mean(numeric_only=True)['Weight']"
   ]
  },
  {
   "cell_type": "code",
   "execution_count": 70,
   "metadata": {},
   "outputs": [
    {
     "data": {
      "text/plain": [
       "182.0"
      ]
     },
     "execution_count": 70,
     "metadata": {},
     "output_type": "execute_result"
    }
   ],
   "source": [
    "df['Weight'].max()\n"
   ]
  },
  {
   "cell_type": "code",
   "execution_count": 89,
   "metadata": {},
   "outputs": [
    {
     "data": {
      "text/html": [
       "<div>\n",
       "<style scoped>\n",
       "    .dataframe tbody tr th:only-of-type {\n",
       "        vertical-align: middle;\n",
       "    }\n",
       "\n",
       "    .dataframe tbody tr th {\n",
       "        vertical-align: top;\n",
       "    }\n",
       "\n",
       "    .dataframe thead th {\n",
       "        text-align: right;\n",
       "    }\n",
       "</style>\n",
       "<table border=\"1\" class=\"dataframe\">\n",
       "  <thead>\n",
       "    <tr style=\"text-align: right;\">\n",
       "      <th></th>\n",
       "      <th>ID</th>\n",
       "      <th>Name</th>\n",
       "      <th>Sex</th>\n",
       "      <th>Age</th>\n",
       "      <th>Height</th>\n",
       "      <th>Weight</th>\n",
       "      <th>Team</th>\n",
       "      <th>NOC</th>\n",
       "      <th>Games</th>\n",
       "      <th>Year</th>\n",
       "      <th>Season</th>\n",
       "      <th>City</th>\n",
       "      <th>Sport</th>\n",
       "      <th>Event</th>\n",
       "      <th>Medal</th>\n",
       "    </tr>\n",
       "  </thead>\n",
       "  <tbody>\n",
       "    <tr>\n",
       "      <th>237040</th>\n",
       "      <td>118869</td>\n",
       "      <td>Christopher J. \"Chris\" Taylor</td>\n",
       "      <td>M</td>\n",
       "      <td>22.0</td>\n",
       "      <td>196.0</td>\n",
       "      <td>182.0</td>\n",
       "      <td>United States</td>\n",
       "      <td>USA</td>\n",
       "      <td>1972 Summer</td>\n",
       "      <td>1972</td>\n",
       "      <td>Summer</td>\n",
       "      <td>Munich</td>\n",
       "      <td>Wrestling</td>\n",
       "      <td>Wrestling Men's Super-Heavyweight, Freestyle</td>\n",
       "      <td>Bronze</td>\n",
       "    </tr>\n",
       "  </tbody>\n",
       "</table>\n",
       "</div>"
      ],
      "text/plain": [
       "            ID                           Name Sex   Age  Height  Weight  \\\n",
       "237040  118869  Christopher J. \"Chris\" Taylor   M  22.0   196.0   182.0   \n",
       "\n",
       "                 Team  NOC        Games  Year  Season    City      Sport  \\\n",
       "237040  United States  USA  1972 Summer  1972  Summer  Munich  Wrestling   \n",
       "\n",
       "                                               Event   Medal  \n",
       "237040  Wrestling Men's Super-Heavyweight, Freestyle  Bronze  "
      ]
     },
     "execution_count": 89,
     "metadata": {},
     "output_type": "execute_result"
    }
   ],
   "source": [
    "df[df['Weight'] == 182.0].head()"
   ]
  },
  {
   "cell_type": "code",
   "execution_count": 68,
   "metadata": {},
   "outputs": [
    {
     "data": {
      "text/plain": [
       "28.0"
      ]
     },
     "execution_count": 68,
     "metadata": {},
     "output_type": "execute_result"
    }
   ],
   "source": [
    "df['Weight'].min()\n"
   ]
  },
  {
   "cell_type": "code",
   "execution_count": 90,
   "metadata": {},
   "outputs": [
    {
     "data": {
      "text/html": [
       "<div>\n",
       "<style scoped>\n",
       "    .dataframe tbody tr th:only-of-type {\n",
       "        vertical-align: middle;\n",
       "    }\n",
       "\n",
       "    .dataframe tbody tr th {\n",
       "        vertical-align: top;\n",
       "    }\n",
       "\n",
       "    .dataframe thead th {\n",
       "        text-align: right;\n",
       "    }\n",
       "</style>\n",
       "<table border=\"1\" class=\"dataframe\">\n",
       "  <thead>\n",
       "    <tr style=\"text-align: right;\">\n",
       "      <th></th>\n",
       "      <th>ID</th>\n",
       "      <th>Name</th>\n",
       "      <th>Sex</th>\n",
       "      <th>Age</th>\n",
       "      <th>Height</th>\n",
       "      <th>Weight</th>\n",
       "      <th>Team</th>\n",
       "      <th>NOC</th>\n",
       "      <th>Games</th>\n",
       "      <th>Year</th>\n",
       "      <th>Season</th>\n",
       "      <th>City</th>\n",
       "      <th>Sport</th>\n",
       "      <th>Event</th>\n",
       "      <th>Medal</th>\n",
       "    </tr>\n",
       "  </thead>\n",
       "  <tbody>\n",
       "    <tr>\n",
       "      <th>256836</th>\n",
       "      <td>128605</td>\n",
       "      <td>Wang Xin (Ruoxue-)</td>\n",
       "      <td>F</td>\n",
       "      <td>15.0</td>\n",
       "      <td>137.0</td>\n",
       "      <td>28.0</td>\n",
       "      <td>China</td>\n",
       "      <td>CHN</td>\n",
       "      <td>2008 Summer</td>\n",
       "      <td>2008</td>\n",
       "      <td>Summer</td>\n",
       "      <td>Beijing</td>\n",
       "      <td>Diving</td>\n",
       "      <td>Diving Women's Platform</td>\n",
       "      <td>Bronze</td>\n",
       "    </tr>\n",
       "    <tr>\n",
       "      <th>256837</th>\n",
       "      <td>128605</td>\n",
       "      <td>Wang Xin (Ruoxue-)</td>\n",
       "      <td>F</td>\n",
       "      <td>15.0</td>\n",
       "      <td>137.0</td>\n",
       "      <td>28.0</td>\n",
       "      <td>China</td>\n",
       "      <td>CHN</td>\n",
       "      <td>2008 Summer</td>\n",
       "      <td>2008</td>\n",
       "      <td>Summer</td>\n",
       "      <td>Beijing</td>\n",
       "      <td>Diving</td>\n",
       "      <td>Diving Women's Synchronized Platform</td>\n",
       "      <td>Gold</td>\n",
       "    </tr>\n",
       "  </tbody>\n",
       "</table>\n",
       "</div>"
      ],
      "text/plain": [
       "            ID                Name Sex   Age  Height  Weight   Team  NOC  \\\n",
       "256836  128605  Wang Xin (Ruoxue-)   F  15.0   137.0    28.0  China  CHN   \n",
       "256837  128605  Wang Xin (Ruoxue-)   F  15.0   137.0    28.0  China  CHN   \n",
       "\n",
       "              Games  Year  Season     City   Sport  \\\n",
       "256836  2008 Summer  2008  Summer  Beijing  Diving   \n",
       "256837  2008 Summer  2008  Summer  Beijing  Diving   \n",
       "\n",
       "                                       Event   Medal  \n",
       "256836               Diving Women's Platform  Bronze  \n",
       "256837  Diving Women's Synchronized Platform    Gold  "
      ]
     },
     "execution_count": 90,
     "metadata": {},
     "output_type": "execute_result"
    }
   ],
   "source": [
    "df[df['Weight'] == 28.0].head()"
   ]
  },
  {
   "attachments": {},
   "cell_type": "markdown",
   "metadata": {},
   "source": [
    "# Aukso medaliu analize"
   ]
  },
  {
   "cell_type": "code",
   "execution_count": 133,
   "metadata": {},
   "outputs": [],
   "source": [
    "goldMedals = df[(df.Medal == 'Gold')]"
   ]
  },
  {
   "cell_type": "code",
   "execution_count": 134,
   "metadata": {},
   "outputs": [
    {
     "data": {
      "text/html": [
       "<div>\n",
       "<style scoped>\n",
       "    .dataframe tbody tr th:only-of-type {\n",
       "        vertical-align: middle;\n",
       "    }\n",
       "\n",
       "    .dataframe tbody tr th {\n",
       "        vertical-align: top;\n",
       "    }\n",
       "\n",
       "    .dataframe thead th {\n",
       "        text-align: right;\n",
       "    }\n",
       "</style>\n",
       "<table border=\"1\" class=\"dataframe\">\n",
       "  <thead>\n",
       "    <tr style=\"text-align: right;\">\n",
       "      <th></th>\n",
       "      <th>ID</th>\n",
       "      <th>Name</th>\n",
       "      <th>Gender</th>\n",
       "      <th>Age</th>\n",
       "      <th>Height</th>\n",
       "      <th>Weight</th>\n",
       "      <th>Team</th>\n",
       "      <th>NOC</th>\n",
       "      <th>Games</th>\n",
       "      <th>Year</th>\n",
       "      <th>Season</th>\n",
       "      <th>City</th>\n",
       "      <th>Sport</th>\n",
       "      <th>Event</th>\n",
       "      <th>Medal</th>\n",
       "    </tr>\n",
       "  </thead>\n",
       "  <tbody>\n",
       "    <tr>\n",
       "      <th>30176</th>\n",
       "      <td>15580</td>\n",
       "      <td>Ronald James \"Ron\" Brown</td>\n",
       "      <td>M</td>\n",
       "      <td>23.0</td>\n",
       "      <td>180.0</td>\n",
       "      <td>84.0</td>\n",
       "      <td>United States</td>\n",
       "      <td>USA</td>\n",
       "      <td>1984 Summer</td>\n",
       "      <td>1984</td>\n",
       "      <td>Summer</td>\n",
       "      <td>Los Angeles</td>\n",
       "      <td>Athletics</td>\n",
       "      <td>Athletics Men's 4 x 100 metres Relay</td>\n",
       "      <td>Gold</td>\n",
       "    </tr>\n",
       "    <tr>\n",
       "      <th>142360</th>\n",
       "      <td>71423</td>\n",
       "      <td>Marc Lpez i Tarrs</td>\n",
       "      <td>M</td>\n",
       "      <td>34.0</td>\n",
       "      <td>175.0</td>\n",
       "      <td>71.0</td>\n",
       "      <td>Spain-2</td>\n",
       "      <td>ESP</td>\n",
       "      <td>2016 Summer</td>\n",
       "      <td>2016</td>\n",
       "      <td>Summer</td>\n",
       "      <td>Rio de Janeiro</td>\n",
       "      <td>Tennis</td>\n",
       "      <td>Tennis Men's Doubles</td>\n",
       "      <td>Gold</td>\n",
       "    </tr>\n",
       "    <tr>\n",
       "      <th>191945</th>\n",
       "      <td>96376</td>\n",
       "      <td>Yelena Aleksandrovna Posevina</td>\n",
       "      <td>F</td>\n",
       "      <td>18.0</td>\n",
       "      <td>176.0</td>\n",
       "      <td>56.0</td>\n",
       "      <td>Russia</td>\n",
       "      <td>RUS</td>\n",
       "      <td>2004 Summer</td>\n",
       "      <td>2004</td>\n",
       "      <td>Summer</td>\n",
       "      <td>Athina</td>\n",
       "      <td>Rhythmic Gymnastics</td>\n",
       "      <td>Rhythmic Gymnastics Women's Group</td>\n",
       "      <td>Gold</td>\n",
       "    </tr>\n",
       "  </tbody>\n",
       "</table>\n",
       "</div>"
      ],
      "text/plain": [
       "           ID                           Name Gender   Age  Height  Weight  \\\n",
       "30176   15580       Ronald James \"Ron\" Brown      M  23.0   180.0    84.0   \n",
       "142360  71423              Marc Lpez i Tarrs      M  34.0   175.0    71.0   \n",
       "191945  96376  Yelena Aleksandrovna Posevina      F  18.0   176.0    56.0   \n",
       "\n",
       "                 Team  NOC        Games  Year  Season            City  \\\n",
       "30176   United States  USA  1984 Summer  1984  Summer     Los Angeles   \n",
       "142360        Spain-2  ESP  2016 Summer  2016  Summer  Rio de Janeiro   \n",
       "191945         Russia  RUS  2004 Summer  2004  Summer          Athina   \n",
       "\n",
       "                      Sport                                 Event Medal  \n",
       "30176             Athletics  Athletics Men's 4 x 100 metres Relay  Gold  \n",
       "142360               Tennis                  Tennis Men's Doubles  Gold  \n",
       "191945  Rhythmic Gymnastics     Rhythmic Gymnastics Women's Group  Gold  "
      ]
     },
     "execution_count": 134,
     "metadata": {},
     "output_type": "execute_result"
    }
   ],
   "source": [
    "goldMedals.sample(3)"
   ]
  },
  {
   "cell_type": "code",
   "execution_count": 135,
   "metadata": {},
   "outputs": [
    {
     "name": "stdout",
     "output_type": "stream",
     "text": [
      "<class 'pandas.core.frame.DataFrame'>\n",
      "Int64Index: 10167 entries, 42 to 271076\n",
      "Data columns (total 15 columns):\n",
      " #   Column  Non-Null Count  Dtype  \n",
      "---  ------  --------------  -----  \n",
      " 0   ID      10167 non-null  int64  \n",
      " 1   Name    10167 non-null  object \n",
      " 2   Gender  10167 non-null  object \n",
      " 3   Age     10167 non-null  float64\n",
      " 4   Height  10167 non-null  float64\n",
      " 5   Weight  10167 non-null  float64\n",
      " 6   Team    10167 non-null  object \n",
      " 7   NOC     10167 non-null  object \n",
      " 8   Games   10167 non-null  object \n",
      " 9   Year    10167 non-null  int64  \n",
      " 10  Season  10167 non-null  object \n",
      " 11  City    10167 non-null  object \n",
      " 12  Sport   10167 non-null  object \n",
      " 13  Event   10167 non-null  object \n",
      " 14  Medal   10167 non-null  object \n",
      "dtypes: float64(3), int64(2), object(10)\n",
      "memory usage: 1.2+ MB\n"
     ]
    }
   ],
   "source": [
    "goldMedals.info()"
   ]
  },
  {
   "cell_type": "code",
   "execution_count": 136,
   "metadata": {},
   "outputs": [
    {
     "data": {
      "text/html": [
       "<div>\n",
       "<style scoped>\n",
       "    .dataframe tbody tr th:only-of-type {\n",
       "        vertical-align: middle;\n",
       "    }\n",
       "\n",
       "    .dataframe tbody tr th {\n",
       "        vertical-align: top;\n",
       "    }\n",
       "\n",
       "    .dataframe thead th {\n",
       "        text-align: right;\n",
       "    }\n",
       "</style>\n",
       "<table border=\"1\" class=\"dataframe\">\n",
       "  <thead>\n",
       "    <tr style=\"text-align: right;\">\n",
       "      <th></th>\n",
       "      <th>ID</th>\n",
       "      <th>Age</th>\n",
       "      <th>Height</th>\n",
       "      <th>Weight</th>\n",
       "      <th>Year</th>\n",
       "    </tr>\n",
       "  </thead>\n",
       "  <tbody>\n",
       "    <tr>\n",
       "      <th>count</th>\n",
       "      <td>10167.000000</td>\n",
       "      <td>10167.000000</td>\n",
       "      <td>10167.000000</td>\n",
       "      <td>10167.000000</td>\n",
       "      <td>10167.000000</td>\n",
       "    </tr>\n",
       "    <tr>\n",
       "      <th>mean</th>\n",
       "      <td>70278.370906</td>\n",
       "      <td>25.330678</td>\n",
       "      <td>177.997246</td>\n",
       "      <td>74.134110</td>\n",
       "      <td>1986.836235</td>\n",
       "    </tr>\n",
       "    <tr>\n",
       "      <th>std</th>\n",
       "      <td>39096.901002</td>\n",
       "      <td>5.020578</td>\n",
       "      <td>11.107924</td>\n",
       "      <td>15.175849</td>\n",
       "      <td>23.971158</td>\n",
       "    </tr>\n",
       "    <tr>\n",
       "      <th>min</th>\n",
       "      <td>17.000000</td>\n",
       "      <td>13.000000</td>\n",
       "      <td>136.000000</td>\n",
       "      <td>28.000000</td>\n",
       "      <td>1896.000000</td>\n",
       "    </tr>\n",
       "    <tr>\n",
       "      <th>25%</th>\n",
       "      <td>36963.000000</td>\n",
       "      <td>22.000000</td>\n",
       "      <td>170.000000</td>\n",
       "      <td>63.000000</td>\n",
       "      <td>1972.000000</td>\n",
       "    </tr>\n",
       "    <tr>\n",
       "      <th>50%</th>\n",
       "      <td>69800.000000</td>\n",
       "      <td>25.000000</td>\n",
       "      <td>178.000000</td>\n",
       "      <td>73.000000</td>\n",
       "      <td>1992.000000</td>\n",
       "    </tr>\n",
       "    <tr>\n",
       "      <th>75%</th>\n",
       "      <td>104812.000000</td>\n",
       "      <td>28.000000</td>\n",
       "      <td>185.000000</td>\n",
       "      <td>83.000000</td>\n",
       "      <td>2004.000000</td>\n",
       "    </tr>\n",
       "    <tr>\n",
       "      <th>max</th>\n",
       "      <td>135553.000000</td>\n",
       "      <td>59.000000</td>\n",
       "      <td>223.000000</td>\n",
       "      <td>170.000000</td>\n",
       "      <td>2016.000000</td>\n",
       "    </tr>\n",
       "  </tbody>\n",
       "</table>\n",
       "</div>"
      ],
      "text/plain": [
       "                  ID           Age        Height        Weight          Year\n",
       "count   10167.000000  10167.000000  10167.000000  10167.000000  10167.000000\n",
       "mean    70278.370906     25.330678    177.997246     74.134110   1986.836235\n",
       "std     39096.901002      5.020578     11.107924     15.175849     23.971158\n",
       "min        17.000000     13.000000    136.000000     28.000000   1896.000000\n",
       "25%     36963.000000     22.000000    170.000000     63.000000   1972.000000\n",
       "50%     69800.000000     25.000000    178.000000     73.000000   1992.000000\n",
       "75%    104812.000000     28.000000    185.000000     83.000000   2004.000000\n",
       "max    135553.000000     59.000000    223.000000    170.000000   2016.000000"
      ]
     },
     "execution_count": 136,
     "metadata": {},
     "output_type": "execute_result"
    }
   ],
   "source": [
    "goldMedals.describe()"
   ]
  },
  {
   "cell_type": "code",
   "execution_count": 115,
   "metadata": {},
   "outputs": [
    {
     "data": {
      "text/plain": [
       "344"
      ]
     },
     "execution_count": 115,
     "metadata": {},
     "output_type": "execute_result"
    }
   ],
   "source": [
    "goldMedals['ID'][goldMedals['Age']<18].count() # Jaunesni nei 18 metu"
   ]
  },
  {
   "cell_type": "code",
   "execution_count": 116,
   "metadata": {},
   "outputs": [
    {
     "data": {
      "text/plain": [
       "14"
      ]
     },
     "execution_count": 116,
     "metadata": {},
     "output_type": "execute_result"
    }
   ],
   "source": [
    "goldMedals['ID'][goldMedals['Age'] > 50].count()# Vyresni nei 50 metu"
   ]
  },
  {
   "cell_type": "code",
   "execution_count": 119,
   "metadata": {},
   "outputs": [
    {
     "data": {
      "text/html": [
       "<div>\n",
       "<style scoped>\n",
       "    .dataframe tbody tr th:only-of-type {\n",
       "        vertical-align: middle;\n",
       "    }\n",
       "\n",
       "    .dataframe tbody tr th {\n",
       "        vertical-align: top;\n",
       "    }\n",
       "\n",
       "    .dataframe thead th {\n",
       "        text-align: right;\n",
       "    }\n",
       "</style>\n",
       "<table border=\"1\" class=\"dataframe\">\n",
       "  <thead>\n",
       "    <tr style=\"text-align: right;\">\n",
       "      <th></th>\n",
       "      <th>index</th>\n",
       "      <th>Medal</th>\n",
       "    </tr>\n",
       "  </thead>\n",
       "  <tbody>\n",
       "    <tr>\n",
       "      <th>0</th>\n",
       "      <td>USA</td>\n",
       "      <td>2115</td>\n",
       "    </tr>\n",
       "    <tr>\n",
       "      <th>1</th>\n",
       "      <td>URS</td>\n",
       "      <td>982</td>\n",
       "    </tr>\n",
       "    <tr>\n",
       "      <th>2</th>\n",
       "      <td>GER</td>\n",
       "      <td>547</td>\n",
       "    </tr>\n",
       "    <tr>\n",
       "      <th>3</th>\n",
       "      <td>GDR</td>\n",
       "      <td>396</td>\n",
       "    </tr>\n",
       "    <tr>\n",
       "      <th>4</th>\n",
       "      <td>RUS</td>\n",
       "      <td>379</td>\n",
       "    </tr>\n",
       "    <tr>\n",
       "      <th>5</th>\n",
       "      <td>CAN</td>\n",
       "      <td>362</td>\n",
       "    </tr>\n",
       "    <tr>\n",
       "      <th>6</th>\n",
       "      <td>CHN</td>\n",
       "      <td>350</td>\n",
       "    </tr>\n",
       "    <tr>\n",
       "      <th>7</th>\n",
       "      <td>GBR</td>\n",
       "      <td>330</td>\n",
       "    </tr>\n",
       "    <tr>\n",
       "      <th>8</th>\n",
       "      <td>AUS</td>\n",
       "      <td>319</td>\n",
       "    </tr>\n",
       "    <tr>\n",
       "      <th>9</th>\n",
       "      <td>ITA</td>\n",
       "      <td>315</td>\n",
       "    </tr>\n",
       "    <tr>\n",
       "      <th>10</th>\n",
       "      <td>HUN</td>\n",
       "      <td>289</td>\n",
       "    </tr>\n",
       "    <tr>\n",
       "      <th>11</th>\n",
       "      <td>FRA</td>\n",
       "      <td>285</td>\n",
       "    </tr>\n",
       "    <tr>\n",
       "      <th>12</th>\n",
       "      <td>JPN</td>\n",
       "      <td>226</td>\n",
       "    </tr>\n",
       "    <tr>\n",
       "      <th>13</th>\n",
       "      <td>NED</td>\n",
       "      <td>218</td>\n",
       "    </tr>\n",
       "    <tr>\n",
       "      <th>14</th>\n",
       "      <td>SWE</td>\n",
       "      <td>197</td>\n",
       "    </tr>\n",
       "  </tbody>\n",
       "</table>\n",
       "</div>"
      ],
      "text/plain": [
       "   index  Medal\n",
       "0    USA   2115\n",
       "1    URS    982\n",
       "2    GER    547\n",
       "3    GDR    396\n",
       "4    RUS    379\n",
       "5    CAN    362\n",
       "6    CHN    350\n",
       "7    GBR    330\n",
       "8    AUS    319\n",
       "9    ITA    315\n",
       "10   HUN    289\n",
       "11   FRA    285\n",
       "12   JPN    226\n",
       "13   NED    218\n",
       "14   SWE    197"
      ]
     },
     "execution_count": 119,
     "metadata": {},
     "output_type": "execute_result"
    }
   ],
   "source": [
    "goldMedals.NOC.value_counts().reset_index(name='Medal').head(15)"
   ]
  },
  {
   "cell_type": "code",
   "execution_count": 151,
   "metadata": {},
   "outputs": [],
   "source": [
    "gold_pagal_kg = goldMedals.loc[goldMedals['Weight'] == 68]"
   ]
  },
  {
   "cell_type": "code",
   "execution_count": 152,
   "metadata": {},
   "outputs": [
    {
     "data": {
      "text/plain": [
       "Athletics                    44\n",
       "Swimming                     38\n",
       "Football                     18\n",
       "Sailing                      14\n",
       "Cycling                      12\n",
       "Gymnastics                   12\n",
       "Wrestling                    12\n",
       "Cross Country Skiing         11\n",
       "Basketball                   11\n",
       "Nordic Combined              10\n",
       "Hockey                       10\n",
       "Equestrianism                10\n",
       "Canoeing                      9\n",
       "Alpine Skiing                 8\n",
       "Biathlon                      7\n",
       "Fencing                       7\n",
       "Rowing                        6\n",
       "Volleyball                    5\n",
       "Shooting                      5\n",
       "Ice Hockey                    4\n",
       "Water Polo                    4\n",
       "Short Track Speed Skating     4\n",
       "Taekwondo                     4\n",
       "Handball                      4\n",
       "Modern Pentathlon             3\n",
       "Curling                       3\n",
       "Weightlifting                 3\n",
       "Badminton                     2\n",
       "Snowboarding                  2\n",
       "Softball                      1\n",
       "Baseball                      1\n",
       "Speed Skating                 1\n",
       "Judo                          1\n",
       "Figure Skating                1\n",
       "Ski Jumping                   1\n",
       "Luge                          1\n",
       "Archery                       1\n",
       "Name: Sport, dtype: int64"
      ]
     },
     "execution_count": 152,
     "metadata": {},
     "output_type": "execute_result"
    }
   ],
   "source": [
    "gold_pagal_kg ['Sport'].value_counts()"
   ]
  },
  {
   "cell_type": "code",
   "execution_count": 144,
   "metadata": {},
   "outputs": [],
   "source": [
    "gold_pagal_cm = goldMedals.loc[goldMedals['Height'] == 176]"
   ]
  },
  {
   "cell_type": "code",
   "execution_count": 146,
   "metadata": {},
   "outputs": [
    {
     "data": {
      "text/plain": [
       "Athletics                    40\n",
       "Canoeing                     22\n",
       "Fencing                      22\n",
       "Football                     22\n",
       "Ice Hockey                   19\n",
       "Swimming                     18\n",
       "Hockey                       16\n",
       "Handball                     12\n",
       "Rowing                       12\n",
       "Equestrianism                11\n",
       "Shooting                     11\n",
       "Cycling                      10\n",
       "Sailing                      10\n",
       "Rhythmic Gymnastics           9\n",
       "Biathlon                      8\n",
       "Wrestling                     7\n",
       "Cross Country Skiing          7\n",
       "Volleyball                    6\n",
       "Alpine Skiing                 5\n",
       "Weightlifting                 4\n",
       "Baseball                      4\n",
       "Boxing                        4\n",
       "Modern Pentathlon             3\n",
       "Tennis                        3\n",
       "Water Polo                    3\n",
       "Synchronized Swimming         3\n",
       "Table Tennis                  3\n",
       "Speed Skating                 3\n",
       "Short Track Speed Skating     2\n",
       "Bobsleigh                     2\n",
       "Ski Jumping                   2\n",
       "Curling                       1\n",
       "Art Competitions              1\n",
       "Freestyle Skiing              1\n",
       "Nordic Combined               1\n",
       "Luge                          1\n",
       "Gymnastics                    1\n",
       "Taekwondo                     1\n",
       "Figure Skating                1\n",
       "Badminton                     1\n",
       "Name: Sport, dtype: int64"
      ]
     },
     "execution_count": 146,
     "metadata": {},
     "output_type": "execute_result"
    }
   ],
   "source": [
    "gold_pagal_cm ['Sport'].value_counts()"
   ]
  },
  {
   "cell_type": "code",
   "execution_count": null,
   "metadata": {},
   "outputs": [],
   "source": [
    "# df[ df['Gender'] == 'F' ].groupby('Sport').sum()[ ['Medal'] ]"
   ]
  }
 ],
 "metadata": {
  "kernelspec": {
   "display_name": "Python 3",
   "language": "python",
   "name": "python3"
  },
  "language_info": {
   "codemirror_mode": {
    "name": "ipython",
    "version": 3
   },
   "file_extension": ".py",
   "mimetype": "text/x-python",
   "name": "python",
   "nbconvert_exporter": "python",
   "pygments_lexer": "ipython3",
   "version": "3.11.1"
  },
  "orig_nbformat": 4,
  "vscode": {
   "interpreter": {
    "hash": "a1127b4b91826d1819a11384393808cd0fa98ab5b681d4aa12f717b76a806d02"
   }
  }
 },
 "nbformat": 4,
 "nbformat_minor": 2
}
