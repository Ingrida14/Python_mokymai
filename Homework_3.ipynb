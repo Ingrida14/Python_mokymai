{
 "cells": [
  {
   "attachments": {},
   "cell_type": "markdown",
   "metadata": {},
   "source": [
    "# Namų darbai 3"
   ]
  },
  {
   "cell_type": "code",
   "execution_count": 5,
   "metadata": {},
   "outputs": [
    {
     "name": "stdout",
     "output_type": "stream",
     "text": [
      "{1, 2, 3, 4, 5, 6, 7, 8, 9, 15}\n",
      "{3, 8, 9, 11, 15}\n",
      "{8, 9, 3, 15}\n"
     ]
    }
   ],
   "source": [
    "# 1. Rasti pasikartojančius elementus tarp dviejų list'u\n",
    "a = [1,2,3,4,5,6,7,8,9,15]\n",
    "b = [3,8,9,11,15]\n",
    "a = set( list(a) )\n",
    "print (a)\n",
    "b = set( list(b) )\n",
    "print (b)\n",
    "\n",
    "print(a.intersection(b) )\n",
    "\n",
    "\n",
    "\n"
   ]
  },
  {
   "cell_type": "code",
   "execution_count": 71,
   "metadata": {},
   "outputs": [],
   "source": [
    "# 2. Išfiltruoti unikalius teigiamus numerius iš sąrašo\n",
    "x = [1, 5, 1, 2, 8, -9, 10, 1, -8, -900, 14, 5, -8, 2, 1, -20, 900, 800, -6, -8, 12, 1]\n"
   ]
  },
  {
   "cell_type": "code",
   "execution_count": 72,
   "metadata": {},
   "outputs": [
    {
     "name": "stdout",
     "output_type": "stream",
     "text": [
      "{800, 1, 2, 900, 5, 8, 10, -20, 12, 14, -9, -8, -6, -900}\n"
     ]
    },
    {
     "data": {
      "text/plain": [
       "[800, 1, 2, 900, 5, 8, 10, 12, 14]"
      ]
     },
     "execution_count": 72,
     "metadata": {},
     "output_type": "execute_result"
    }
   ],
   "source": [
    "x = set(list(x) )\n",
    "print (x)\n",
    "list ( filter(lambda x: x >= 1, x) )\n",
    "\n",
    "\n"
   ]
  },
  {
   "cell_type": "code",
   "execution_count": 64,
   "metadata": {},
   "outputs": [
    {
     "name": "stdout",
     "output_type": "stream",
     "text": [
      "{'cost_price': 32.67, 'sell_price': 45.0, 'inventory': 1212}\n"
     ]
    }
   ],
   "source": [
    "# 3. Paskaičiuoti pelną pardavus visas prekes. Informacija apie kainą ir kiekius yra pateikiama kaip dictionary, atsakymą suapvalinti iki 2 skaičių po kablelio.\n",
    "x = { \"cost_price\": 32.67,\n",
    "\"sell_price\": 45.00,\n",
    "\"inventory\": 1212 }\n",
    "\n",
    "print (x)"
   ]
  },
  {
   "cell_type": "code",
   "execution_count": 69,
   "metadata": {},
   "outputs": [],
   "source": [
    "def Sudeti_skaiciai(num_1=32.67, num_2=45, num_3=1212):\n",
    "    print ('Pelnas pardavus visas prekes')\n",
    "    return ( (num_2 * num_3) - (num_1 * num_3) )\n",
    "\n"
   ]
  },
  {
   "cell_type": "code",
   "execution_count": 70,
   "metadata": {},
   "outputs": [
    {
     "name": "stdout",
     "output_type": "stream",
     "text": [
      "Pelnas pardavus visas prekes\n",
      "14943.96\n"
     ]
    }
   ],
   "source": [
    "ats = Sudeti_skaiciai()\n",
    "print (ats)"
   ]
  },
  {
   "cell_type": "code",
   "execution_count": null,
   "metadata": {},
   "outputs": [],
   "source": [
    "# 4. Leiskite įvesti 10 žodžių, programa turi atsakyti į tokius klausimus:\n",
    "# Kiek žodžių yra ilgesnių nei 10 simbolių\n",
    "# Kuris žodis yra ilgiausias ir trumpiausias\n",
    "# Ar nors vienas žodis yra palindromas, jei taip, koks arba kokie tai žodžiai\n",
    "# Palindromas - atvirkščiai skaitant žodį, gaunasi tas pats žodis.\n",
    "# savas -> savas"
   ]
  },
  {
   "cell_type": "code",
   "execution_count": 130,
   "metadata": {},
   "outputs": [],
   "source": [
    "zodziai = ['lapas', 'kompiuteris', 'kosmosas', 'saule', 'krepsinis', 'karaliaucius', 'braske', 'saulegrazos', 'koncertas', 'stalas']"
   ]
  },
  {
   "cell_type": "code",
   "execution_count": 131,
   "metadata": {},
   "outputs": [
    {
     "data": {
      "text/plain": [
       "['lapas',\n",
       " 'saule',\n",
       " 'braske',\n",
       " 'stalas',\n",
       " 'kosmosas',\n",
       " 'krepsinis',\n",
       " 'koncertas',\n",
       " 'kompiuteris',\n",
       " 'saulegrazos',\n",
       " 'karaliaucius']"
      ]
     },
     "execution_count": 131,
     "metadata": {},
     "output_type": "execute_result"
    }
   ],
   "source": [
    "sorted(zodziai, key=lambda x: len(x) )"
   ]
  },
  {
   "cell_type": "code",
   "execution_count": 76,
   "metadata": {},
   "outputs": [],
   "source": [
    "# 5. Turėdami list’ą, gaukite didžiausią šalia esančių skaičių sandaugą\n",
    "def Skaiciai(num_1=3, num_2=6, num_3=-2, num_4=-5, num_5=7, num_6=3):\n",
    "    print ('Sudauginti gretimi skaiciai')\n",
    "    return ( (num_1 * num_2), (num_2 * num_3), (num_3 * num_4), (num_4 * num_5), (num_5 * num_6) )\n"
   ]
  },
  {
   "cell_type": "code",
   "execution_count": 79,
   "metadata": {},
   "outputs": [
    {
     "name": "stdout",
     "output_type": "stream",
     "text": [
      "Sudauginti gretimi skaiciai\n",
      "(18, -12, 10, -35, 21)\n",
      "Teisingas atsakymas\n",
      "21\n"
     ]
    }
   ],
   "source": [
    "ats = Skaiciai()\n",
    "print (ats)\n",
    "\n",
    "print ('Teisingas atsakymas')\n",
    "print( ats[-1] )"
   ]
  }
 ],
 "metadata": {
  "kernelspec": {
   "display_name": "Python 3",
   "language": "python",
   "name": "python3"
  },
  "language_info": {
   "codemirror_mode": {
    "name": "ipython",
    "version": 3
   },
   "file_extension": ".py",
   "mimetype": "text/x-python",
   "name": "python",
   "nbconvert_exporter": "python",
   "pygments_lexer": "ipython3",
   "version": "3.11.1"
  },
  "orig_nbformat": 4,
  "vscode": {
   "interpreter": {
    "hash": "a1127b4b91826d1819a11384393808cd0fa98ab5b681d4aa12f717b76a806d02"
   }
  }
 },
 "nbformat": 4,
 "nbformat_minor": 2
}
