{
 "cells": [
  {
   "attachments": {},
   "cell_type": "markdown",
   "metadata": {},
   "source": [
    "# Namų darbai 3"
   ]
  },
  {
   "cell_type": "code",
   "execution_count": 1,
   "metadata": {},
   "outputs": [
    {
     "name": "stdout",
     "output_type": "stream",
     "text": [
      "{1, 2, 3, 4, 5, 6, 7, 8, 9, 15}\n",
      "{3, 8, 9, 11, 15}\n",
      "{8, 9, 3, 15}\n",
      "[8, 9, 3, 15]\n"
     ]
    }
   ],
   "source": [
    "# 1. Rasti pasikartojančius elementus tarp dviejų list'u\n",
    "a = [1,2,3,4,5,6,7,8,9,15]\n",
    "b = [3,8,9,11,15]\n",
    "a = set( list(a) )\n",
    "print (a)\n",
    "b = set( list(b) )\n",
    "print (b)\n",
    "\n",
    "print(a.intersection(b) )\n",
    "c = list(a.intersection(b) )\n",
    "print (c)\n",
    "\n",
    "\n",
    "\n"
   ]
  },
  {
   "cell_type": "code",
   "execution_count": 71,
   "metadata": {},
   "outputs": [],
   "source": [
    "# 2. Išfiltruoti unikalius teigiamus numerius iš sąrašo\n",
    "x = [1, 5, 1, 2, 8, -9, 10, 1, -8, -900, 14, 5, -8, 2, 1, -20, 900, 800, -6, -8, 12, 1]\n"
   ]
  },
  {
   "cell_type": "code",
   "execution_count": 72,
   "metadata": {},
   "outputs": [
    {
     "name": "stdout",
     "output_type": "stream",
     "text": [
      "{800, 1, 2, 900, 5, 8, 10, -20, 12, 14, -9, -8, -6, -900}\n"
     ]
    },
    {
     "data": {
      "text/plain": [
       "[800, 1, 2, 900, 5, 8, 10, 12, 14]"
      ]
     },
     "execution_count": 72,
     "metadata": {},
     "output_type": "execute_result"
    }
   ],
   "source": [
    "x = set(list(x) )\n",
    "print (x)\n",
    "list ( filter(lambda x: x >= 1, x) )\n",
    "\n",
    "\n"
   ]
  },
  {
   "cell_type": "code",
   "execution_count": 64,
   "metadata": {},
   "outputs": [
    {
     "name": "stdout",
     "output_type": "stream",
     "text": [
      "{'cost_price': 32.67, 'sell_price': 45.0, 'inventory': 1212}\n"
     ]
    }
   ],
   "source": [
    "# 3. Paskaičiuoti pelną pardavus visas prekes. Informacija apie kainą ir kiekius yra pateikiama kaip dictionary, atsakymą suapvalinti iki 2 skaičių po kablelio.\n",
    "x = { \"cost_price\": 32.67,\n",
    "\"sell_price\": 45.00,\n",
    "\"inventory\": 1212 }\n",
    "\n",
    "print (x)"
   ]
  },
  {
   "cell_type": "code",
   "execution_count": 69,
   "metadata": {},
   "outputs": [],
   "source": [
    "def Sudeti_skaiciai(num_1=32.67, num_2=45, num_3=1212):\n",
    "    print ('Pelnas pardavus visas prekes')\n",
    "    return ( (num_2 * num_3) - (num_1 * num_3) )\n",
    "\n"
   ]
  },
  {
   "cell_type": "code",
   "execution_count": 70,
   "metadata": {},
   "outputs": [
    {
     "name": "stdout",
     "output_type": "stream",
     "text": [
      "Pelnas pardavus visas prekes\n",
      "14943.96\n"
     ]
    }
   ],
   "source": [
    "ats = Sudeti_skaiciai()\n",
    "print (ats)"
   ]
  },
  {
   "cell_type": "code",
   "execution_count": null,
   "metadata": {},
   "outputs": [],
   "source": [
    "# 4. Leiskite įvesti 10 žodžių, programa turi atsakyti į tokius klausimus:\n",
    "# Kiek žodžių yra ilgesnių nei 10 simbolių\n",
    "# Kuris žodis yra ilgiausias ir trumpiausias\n",
    "# Ar nors vienas žodis yra palindromas, jei taip, koks arba kokie tai žodžiai\n",
    "# Palindromas - atvirkščiai skaitant žodį, gaunasi tas pats žodis.\n",
    "# savas -> savas"
   ]
  },
  {
   "cell_type": "code",
   "execution_count": 3,
   "metadata": {},
   "outputs": [
    {
     "name": "stdout",
     "output_type": "stream",
     "text": [
      "['kompiuteris', 'karaliaucius', 'saulegrazos']\n",
      "3\n",
      "ilgiausias zodis: karaliaucius\n",
      "trumpiausiai zodis: savas\n",
      "['savas']\n",
      "['polindromas', 'polindromas', 'polindromas', 'polindromas', 'polindromas', 'polindromas', 'polindromas', 'polindromas', 'polindromas', 'polindromas']\n"
     ]
    }
   ],
   "source": [
    "zodziai = ['savas', 'kompiuteris', 'kosmosas', 'saule', 'krepsinis', 'karaliaucius', 'braske', 'saulegrazos', 'koncertas', 'stalas']\n",
    "\n",
    "ilgi_zodziai = [zodis for zodis in zodziai if len(zodis) > 10 ]\n",
    "print (ilgi_zodziai)\n",
    "print (len(ilgi_zodziai) )\n",
    "ilgiausias_zodis = max (zodziai , key=lambda zodis: len(zodis) )\n",
    "print('ilgiausias zodis:', ilgiausias_zodis)\n",
    "trumpiausias_zodis = min (zodziai , key=lambda zodis: len(zodis) )\n",
    "print('trumpiausiai zodis:', trumpiausias_zodis)\n",
    "\n",
    "polindromai = [zodis for zodis in zodziai if zodis == zodis[::-1] ]\n",
    "print (polindromai)\n",
    "polindromai = [ 'polindromas' for zodis in zodziai if zodis[::-1] ]\n",
    "print (polindromai)"
   ]
  },
  {
   "cell_type": "code",
   "execution_count": 76,
   "metadata": {},
   "outputs": [],
   "source": [
    "# 5. Turėdami list’ą, gaukite didžiausią šalia esančių skaičių sandaugą\n",
    "my_list = [3, 6, -2, -5, 7, 3]\n",
    "def Skaiciai(num_1=3, num_2=6, num_3=-2, num_4=-5, num_5=7, num_6=3):\n",
    "    print ('Sudauginti gretimi skaiciai')\n",
    "    return ( (num_1 * num_2), (num_2 * num_3), (num_3 * num_4), (num_4 * num_5), (num_5 * num_6) )\n"
   ]
  },
  {
   "cell_type": "code",
   "execution_count": 79,
   "metadata": {},
   "outputs": [
    {
     "name": "stdout",
     "output_type": "stream",
     "text": [
      "Sudauginti gretimi skaiciai\n",
      "(18, -12, 10, -35, 21)\n",
      "Teisingas atsakymas\n",
      "21\n"
     ]
    }
   ],
   "source": [
    "ats = Skaiciai()\n",
    "print (ats)\n",
    "\n",
    "print ('Teisingas atsakymas')\n",
    "print( ats[-1] )"
   ]
  },
  {
   "cell_type": "code",
   "execution_count": 5,
   "metadata": {},
   "outputs": [
    {
     "name": "stdout",
     "output_type": "stream",
     "text": [
      "po indeksu0 yra skaicius 3, o kaimynas su indeksu 1 yra 6\n",
      "po indeksu1 yra skaicius 6, o kaimynas su indeksu 2 yra -2\n",
      "po indeksu2 yra skaicius -2, o kaimynas su indeksu 3 yra -5\n",
      "po indeksu3 yra skaicius -5, o kaimynas su indeksu 4 yra 7\n",
      "po indeksu4 yra skaicius 7, o kaimynas su indeksu 5 yra 3\n",
      "[18, -12, 10, -35, 21]\n",
      "21\n"
     ]
    }
   ],
   "source": [
    "my_list = [3, 6, -2, -5, 7, 3]\n",
    "\n",
    "suma=[]\n",
    "for idx in range(0, len(my_list) -1 ):\n",
    "    print(f'po indeksu{idx} yra skaicius {my_list[idx]}, o kaimynas su indeksu {idx+1} yra {my_list[idx+1]}' )\n",
    "    suma.append( my_list[idx] * my_list[idx+1] )\n",
    "print (suma)\n",
    "print (max(suma))"
   ]
  },
  {
   "cell_type": "code",
   "execution_count": 10,
   "metadata": {},
   "outputs": [
    {
     "name": "stdout",
     "output_type": "stream",
     "text": [
      "[3, 6, -2, -5, 7]\n",
      "[6, -2, -5, 7, 3]\n",
      "sk_1: 3, sk_2: 6\n",
      "sk_1: 6, sk_2: -2\n",
      "sk_1: -2, sk_2: -5\n",
      "sk_1: -5, sk_2: 7\n",
      "sk_1: 7, sk_2: 3\n",
      "21\n"
     ]
    }
   ],
   "source": [
    "my_list = [3, 6, -2, -5, 7, 3]\n",
    "\n",
    "print (my_list[:-1] )\n",
    "print (my_list[1:] )\n",
    "\n",
    "sandauga = my_list[0] * my_list[1]\n",
    "\n",
    "for skaicius_1, skaicius_2 in zip( my_list[:-1], my_list[1:] ):\n",
    "    print(f'sk_1: {skaicius_1}, sk_2: {skaicius_2}')\n",
    "    if sandauga < skaicius_1 * skaicius_2:\n",
    "        sandauga = skaicius_1 * skaicius_2\n",
    "\n",
    "print (sandauga)"
   ]
  },
  {
   "attachments": {},
   "cell_type": "markdown",
   "metadata": {},
   "source": [
    "# Namu darbai 4"
   ]
  },
  {
   "cell_type": "code",
   "execution_count": 30,
   "metadata": {},
   "outputs": [],
   "source": [
    "# 1. (Pabaigti) Parašykite funkciją, kuri priima du list tipo kintamuosius, iš pirmojo filtro išimam visas reikšmes \n",
    "# didesnes nei 10, antrame palieka tik reikšmes kurių reikšmės susideda bent iš dviejų skaitmenų, pirmojo listo \n",
    "# reikšmes sudėkite, antrojo taip pat sudėkite, grąžinkite sandaugą iš dviejų modifikuotų listų.\n",
    "\n",
    "def functionExcersice(list_1: list,list_2: list):\n",
    "    list_1 = list( filter(lambda x: x <= 10, list_1) )\n",
    "    # print (list_1)\n",
    "    list_2 = list(filter(lambda x: abs(x) >= 10 , list_2) )\n",
    "    # print (list_2)\n",
    "    sum_1 = sum(list_1)\n",
    "    sum_2 = sum(list_2)\n",
    "    # print (sum_1)\n",
    "    # print (sum_2)\n",
    "\n",
    "    return sum_1 * sum_2\n",
    "\n",
    "\n"
   ]
  },
  {
   "cell_type": "code",
   "execution_count": 31,
   "metadata": {},
   "outputs": [
    {
     "data": {
      "text/plain": [
       "26214"
      ]
     },
     "execution_count": 31,
     "metadata": {},
     "output_type": "execute_result"
    }
   ],
   "source": [
    "functionExcersice([10,9,6,16,15,55,2,7], [20,642,33,76,9,7,2])"
   ]
  },
  {
   "cell_type": "code",
   "execution_count": 32,
   "metadata": {},
   "outputs": [
    {
     "name": "stdout",
     "output_type": "stream",
     "text": [
      "list_3[idx] yra 17, o list_3[idx + 1] yra 18\n",
      "Anomalijos tarp skaiciu 17 ir 18 nera\n",
      "list_3[idx] yra 18, o list_3[idx + 1] yra 19\n",
      "Anomalijos tarp skaiciu 18 ir 19 nera\n",
      "list_3[idx] yra 19, o list_3[idx + 1] yra 21\n",
      "Anomalija tarp skaiciu 19 ir 21. Skirtumas yra 2\n"
     ]
    }
   ],
   "source": [
    "# 2. Parašykite funkciją, kuri priims listą ir patikrins ar listo narys n+1 yra 1 didesnis nei n, jeigu visi listo nariai einantys \n",
    "# vienas po kito yra didesni per 1, vadinasi anomalijos nėra, jei nors 1 narys neatitinka sekos, vadinasi yra anomalija\n",
    "\n",
    "list_3 = [17,18,19,21]\n",
    "\n",
    "for idx in range(0, len(list_3) -1 ):\n",
    "    print(f'list_3[idx] yra {list_3[idx] }, o list_3[idx + 1] yra {list_3[idx + 1]}')\n",
    "    if list_3[idx] + 1 == list_3[idx + 1]:\n",
    "        print(f'Anomalijos tarp skaiciu {list_3[idx]} ir {list_3[idx + 1]} nera')\n",
    "    else:\n",
    "        print(f'Anomalija tarp skaiciu {list_3[idx]} ir {list_3[idx + 1]}. Skirtumas yra {list_3[idx + 1] - list_3[idx]}')\n",
    "\n"
   ]
  },
  {
   "cell_type": "code",
   "execution_count": 1,
   "metadata": {},
   "outputs": [
    {
     "name": "stdout",
     "output_type": "stream",
     "text": [
      "letters: 8, numbers: 4, spaces: 6, specials: 8\n"
     ]
    }
   ],
   "source": [
    "# 3. Parašykite funkciją, kuri priims string tipo kintamąjį, gražinkite kiek tame stringę yra raidžių, skaičių ir skyrybos \n",
    "# (specialių) ženklų, tarpų.\n",
    "\n",
    "def symbol_extract(text: str):\n",
    "    numbers = 0\n",
    "    letters = 0\n",
    "    spaces = 0\n",
    "    specials = 0\n",
    "    for symbol in text:\n",
    "        if symbol.isalpha():\n",
    "            letters += 1\n",
    "        elif symbol.isdigit():\n",
    "            numbers += 1\n",
    "        elif symbol.isspace():\n",
    "            spaces += 1\n",
    "        else:\n",
    "            specials += 1\n",
    "    print (f'letters: {letters}, numbers: {numbers}, spaces: {spaces}, specials: {specials}')\n",
    "\n",
    "symbol_extract(' This is me 1245  £$%&*^££')"
   ]
  },
  {
   "cell_type": "code",
   "execution_count": 2,
   "metadata": {},
   "outputs": [
    {
     "name": "stdout",
     "output_type": "stream",
     "text": [
      "[4, 5, 6, 7, 8, 9, 10, 11, 12, 13, 14, 15, 16, 17, 18, 19, 20, 21, 22, 23, 24, 25, 26, 27, 28, 29]\n",
      "[4, 9, 14, 19, 24, 29]\n"
     ]
    }
   ],
   "source": [
    "# 4. Parašykite funkciją, kuri priima tris skaičius, jie reikš nuo, iki ir žingsnis. Funkcija turi grąžinti listą skaičių tokių, kokius\n",
    "# padavėte funkcijai.\n",
    "\n",
    "def my_range(start, end, stop=1):\n",
    "    return list( range(start, end, stop) )\n",
    "\n",
    "print (my_range(4, 30) )\n",
    "print (my_range(4, 30, 5) )"
   ]
  },
  {
   "cell_type": "code",
   "execution_count": 3,
   "metadata": {},
   "outputs": [
    {
     "name": "stdout",
     "output_type": "stream",
     "text": [
      "41\n"
     ]
    }
   ],
   "source": [
    "# 5.  Parašyti funkciją, kuri priima vieną list tipo kintamąjį, funkcija grąžina skirtumą tarp didžiausio skaičiaus ir \n",
    "# mažiausio skaičiaus.\n",
    "\n",
    "def list_minmax_diff(my_list):\n",
    "    return max(my_list) - min(my_list)\n",
    "\n",
    "print( list_minmax_diff( [1, 4, 10 ,36,-5] ) )"
   ]
  }
 ],
 "metadata": {
  "kernelspec": {
   "display_name": "Python 3",
   "language": "python",
   "name": "python3"
  },
  "language_info": {
   "codemirror_mode": {
    "name": "ipython",
    "version": 3
   },
   "file_extension": ".py",
   "mimetype": "text/x-python",
   "name": "python",
   "nbconvert_exporter": "python",
   "pygments_lexer": "ipython3",
   "version": "3.11.1"
  },
  "orig_nbformat": 4,
  "vscode": {
   "interpreter": {
    "hash": "a1127b4b91826d1819a11384393808cd0fa98ab5b681d4aa12f717b76a806d02"
   }
  }
 },
 "nbformat": 4,
 "nbformat_minor": 2
}
