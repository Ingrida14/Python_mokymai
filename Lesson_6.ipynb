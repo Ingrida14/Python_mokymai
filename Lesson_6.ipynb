{
 "cells": [
  {
   "attachments": {},
   "cell_type": "markdown",
   "metadata": {},
   "source": [
    "# Klaidu valdymas ir ju taisymas"
   ]
  },
  {
   "cell_type": "code",
   "execution_count": 1,
   "metadata": {},
   "outputs": [
    {
     "ename": "SyntaxError",
     "evalue": "unterminated string literal (detected at line 1) (3927990536.py, line 1)",
     "output_type": "error",
     "traceback": [
      "\u001b[1;36m  Cell \u001b[1;32mIn[1], line 1\u001b[1;36m\u001b[0m\n\u001b[1;33m    'fdfdfddfds\u001b[0m\n\u001b[1;37m    ^\u001b[0m\n\u001b[1;31mSyntaxError\u001b[0m\u001b[1;31m:\u001b[0m unterminated string literal (detected at line 1)\n"
     ]
    }
   ],
   "source": [
    "'fdfdfddfds"
   ]
  },
  {
   "cell_type": "code",
   "execution_count": 2,
   "metadata": {},
   "outputs": [],
   "source": [
    "import math "
   ]
  },
  {
   "cell_type": "code",
   "execution_count": 3,
   "metadata": {},
   "outputs": [
    {
     "ename": "ModuleNotFoundError",
     "evalue": "No module named 'math4'",
     "output_type": "error",
     "traceback": [
      "\u001b[1;31m---------------------------------------------------------------------------\u001b[0m",
      "\u001b[1;31mModuleNotFoundError\u001b[0m                       Traceback (most recent call last)",
      "Cell \u001b[1;32mIn[3], line 1\u001b[0m\n\u001b[1;32m----> 1\u001b[0m \u001b[39mimport\u001b[39;00m \u001b[39mmath4\u001b[39;00m\n",
      "\u001b[1;31mModuleNotFoundError\u001b[0m: No module named 'math4'"
     ]
    }
   ],
   "source": [
    "import math4"
   ]
  },
  {
   "cell_type": "code",
   "execution_count": 6,
   "metadata": {},
   "outputs": [
    {
     "ename": "IndexError",
     "evalue": "list index out of range",
     "output_type": "error",
     "traceback": [
      "\u001b[1;31m---------------------------------------------------------------------------\u001b[0m",
      "\u001b[1;31mIndexError\u001b[0m                                Traceback (most recent call last)",
      "Cell \u001b[1;32mIn[6], line 2\u001b[0m\n\u001b[0;32m      1\u001b[0m my_list \u001b[39m=\u001b[39m [\u001b[39m1\u001b[39m,\u001b[39m2\u001b[39m,\u001b[39m3\u001b[39m]\n\u001b[1;32m----> 2\u001b[0m my_list[\u001b[39m4\u001b[39;49m]\n",
      "\u001b[1;31mIndexError\u001b[0m: list index out of range"
     ]
    }
   ],
   "source": [
    "my_list = [1,2,3]\n",
    "my_list[4]"
   ]
  },
  {
   "cell_type": "code",
   "execution_count": 7,
   "metadata": {},
   "outputs": [
    {
     "ename": "ImportError",
     "evalue": "cannot import name 'cube' from 'math' (unknown location)",
     "output_type": "error",
     "traceback": [
      "\u001b[1;31m---------------------------------------------------------------------------\u001b[0m",
      "\u001b[1;31mImportError\u001b[0m                               Traceback (most recent call last)",
      "Cell \u001b[1;32mIn[7], line 2\u001b[0m\n\u001b[0;32m      1\u001b[0m \u001b[39mimport\u001b[39;00m \u001b[39mmath\u001b[39;00m\n\u001b[1;32m----> 2\u001b[0m \u001b[39mfrom\u001b[39;00m \u001b[39mmath\u001b[39;00m \u001b[39mimport\u001b[39;00m radians, cube\n",
      "\u001b[1;31mImportError\u001b[0m: cannot import name 'cube' from 'math' (unknown location)"
     ]
    }
   ],
   "source": [
    "import math\n",
    "from math import radians, cube"
   ]
  },
  {
   "cell_type": "code",
   "execution_count": 8,
   "metadata": {},
   "outputs": [
    {
     "ename": "NameError",
     "evalue": "name 'name' is not defined",
     "output_type": "error",
     "traceback": [
      "\u001b[1;31m---------------------------------------------------------------------------\u001b[0m",
      "\u001b[1;31mNameError\u001b[0m                                 Traceback (most recent call last)",
      "Cell \u001b[1;32mIn[8], line 1\u001b[0m\n\u001b[1;32m----> 1\u001b[0m \u001b[39mprint\u001b[39m (name)\n\u001b[0;32m      2\u001b[0m name \u001b[39m=\u001b[39m \u001b[39m'\u001b[39m\u001b[39mDarius\u001b[39m\u001b[39m'\u001b[39m\n",
      "\u001b[1;31mNameError\u001b[0m: name 'name' is not defined"
     ]
    }
   ],
   "source": [
    "print (name)\n",
    "name = 'Darius'"
   ]
  },
  {
   "attachments": {},
   "cell_type": "markdown",
   "metadata": {},
   "source": [
    "# Klaidu sukelimas"
   ]
  },
  {
   "cell_type": "code",
   "execution_count": 1,
   "metadata": {},
   "outputs": [],
   "source": [
    "\n",
    "def add_numbers(a, b):\n",
    "    if not isinstance(a, int):\n",
    "        raise ValueError(f\"kintamojo 'a' verte nera skaicius. Pateikite skaiciu\")\n",
    "    if not isinstance(b, int):\n",
    "        raise ValueError(f\"kintamojo 'b' verte nera skaicius. Pateikite skaiciu\")\n",
    "    return a + b"
   ]
  },
  {
   "cell_type": "code",
   "execution_count": 2,
   "metadata": {},
   "outputs": [
    {
     "data": {
      "text/plain": [
       "9"
      ]
     },
     "execution_count": 2,
     "metadata": {},
     "output_type": "execute_result"
    }
   ],
   "source": [
    "add_numbers(5,4)"
   ]
  },
  {
   "cell_type": "code",
   "execution_count": 3,
   "metadata": {},
   "outputs": [
    {
     "ename": "ValueError",
     "evalue": "kintamojo 'b' verte nera skaicius. Pateikite skaiciu",
     "output_type": "error",
     "traceback": [
      "\u001b[1;31m---------------------------------------------------------------------------\u001b[0m",
      "\u001b[1;31mValueError\u001b[0m                                Traceback (most recent call last)",
      "Cell \u001b[1;32mIn[3], line 1\u001b[0m\n\u001b[1;32m----> 1\u001b[0m add_numbers(\u001b[39m5\u001b[39;49m,\u001b[39m'\u001b[39;49m\u001b[39m4\u001b[39;49m\u001b[39m'\u001b[39;49m)\n",
      "Cell \u001b[1;32mIn[1], line 5\u001b[0m, in \u001b[0;36madd_numbers\u001b[1;34m(a, b)\u001b[0m\n\u001b[0;32m      3\u001b[0m     \u001b[39mraise\u001b[39;00m \u001b[39mValueError\u001b[39;00m(\u001b[39mf\u001b[39m\u001b[39m\"\u001b[39m\u001b[39mkintamojo \u001b[39m\u001b[39m'\u001b[39m\u001b[39ma\u001b[39m\u001b[39m'\u001b[39m\u001b[39m verte nera skaicius. Pateikite skaiciu\u001b[39m\u001b[39m\"\u001b[39m)\n\u001b[0;32m      4\u001b[0m \u001b[39mif\u001b[39;00m \u001b[39mnot\u001b[39;00m \u001b[39misinstance\u001b[39m(b, \u001b[39mint\u001b[39m):\n\u001b[1;32m----> 5\u001b[0m     \u001b[39mraise\u001b[39;00m \u001b[39mValueError\u001b[39;00m(\u001b[39mf\u001b[39m\u001b[39m\"\u001b[39m\u001b[39mkintamojo \u001b[39m\u001b[39m'\u001b[39m\u001b[39mb\u001b[39m\u001b[39m'\u001b[39m\u001b[39m verte nera skaicius. Pateikite skaiciu\u001b[39m\u001b[39m\"\u001b[39m)\n\u001b[0;32m      6\u001b[0m \u001b[39mreturn\u001b[39;00m a \u001b[39m+\u001b[39m b\n",
      "\u001b[1;31mValueError\u001b[0m: kintamojo 'b' verte nera skaicius. Pateikite skaiciu"
     ]
    }
   ],
   "source": [
    "add_numbers(5,'4')"
   ]
  },
  {
   "attachments": {},
   "cell_type": "markdown",
   "metadata": {},
   "source": [
    "# Klaidu isvengimas (try/except)"
   ]
  },
  {
   "cell_type": "code",
   "execution_count": 1,
   "metadata": {},
   "outputs": [
    {
     "ename": "NameError",
     "evalue": "name 'name' is not defined",
     "output_type": "error",
     "traceback": [
      "\u001b[1;31m---------------------------------------------------------------------------\u001b[0m",
      "\u001b[1;31mNameError\u001b[0m                                 Traceback (most recent call last)",
      "Cell \u001b[1;32mIn[1], line 1\u001b[0m\n\u001b[1;32m----> 1\u001b[0m \u001b[39mprint\u001b[39m(name)\n\u001b[0;32m      2\u001b[0m \u001b[39mprint\u001b[39m (\u001b[39m'\u001b[39m\u001b[39mkodo pabaiga\u001b[39m\u001b[39m'\u001b[39m)\n",
      "\u001b[1;31mNameError\u001b[0m: name 'name' is not defined"
     ]
    }
   ],
   "source": [
    "print(name)\n",
    "print ('kodo pabaiga')"
   ]
  },
  {
   "cell_type": "code",
   "execution_count": 2,
   "metadata": {},
   "outputs": [
    {
     "name": "stdout",
     "output_type": "stream",
     "text": [
      "Kodo pradzia\n",
      "ivyko klaida\n",
      "kodo pabaiga\n"
     ]
    }
   ],
   "source": [
    "try:\n",
    "    print ('Kodo pradzia')\n",
    "    print(name)\n",
    "    print('try pabaiga')\n",
    "except:\n",
    "    print('ivyko klaida')\n",
    "print ('kodo pabaiga')"
   ]
  },
  {
   "cell_type": "code",
   "execution_count": 3,
   "metadata": {},
   "outputs": [
    {
     "name": "stdout",
     "output_type": "stream",
     "text": [
      "Kodo pradzia\n",
      "kodo pabaiga\n"
     ]
    }
   ],
   "source": [
    "try:\n",
    "    print ('Kodo pradzia')\n",
    "except:\n",
    "    print('ivyko klaida') # klaidos nebuvo,praleidom\n",
    "print ('kodo pabaiga')"
   ]
  },
  {
   "cell_type": "code",
   "execution_count": 6,
   "metadata": {},
   "outputs": [
    {
     "name": "stdout",
     "output_type": "stream",
     "text": [
      "Kodo pradzia\n",
      "ivyko klaida\n",
      "kodo pabaiga\n"
     ]
    }
   ],
   "source": [
    "try:\n",
    "    print ('Kodo pradzia')\n",
    "    # 5/0\n",
    "    print(name)\n",
    "    # print('try pabaiga')\n",
    "except: # NENAUDOTI except be klaidos tipo\n",
    "    print('ivyko klaida')\n",
    "print ('kodo pabaiga')"
   ]
  },
  {
   "cell_type": "code",
   "execution_count": 7,
   "metadata": {},
   "outputs": [
    {
     "name": "stdout",
     "output_type": "stream",
     "text": [
      "Kodo pradzia\n",
      "name 'name' is not defined\n",
      "kodo pabaiga\n"
     ]
    }
   ],
   "source": [
    "try:\n",
    "    print ('Kodo pradzia')\n",
    "    # 5/0\n",
    "    print(name)\n",
    "    # print('try pabaiga')\n",
    "except NameError as o: # NENAUDOTI except be klaidos tipo\n",
    "    print(o)\n",
    "print ('kodo pabaiga')"
   ]
  },
  {
   "cell_type": "code",
   "execution_count": 8,
   "metadata": {},
   "outputs": [
    {
     "name": "stdout",
     "output_type": "stream",
     "text": [
      "Kodo pradzia\n"
     ]
    },
    {
     "ename": "ZeroDivisionError",
     "evalue": "division by zero",
     "output_type": "error",
     "traceback": [
      "\u001b[1;31m---------------------------------------------------------------------------\u001b[0m",
      "\u001b[1;31mZeroDivisionError\u001b[0m                         Traceback (most recent call last)",
      "Cell \u001b[1;32mIn[8], line 3\u001b[0m\n\u001b[0;32m      1\u001b[0m \u001b[39mtry\u001b[39;00m:\n\u001b[0;32m      2\u001b[0m     \u001b[39mprint\u001b[39m (\u001b[39m'\u001b[39m\u001b[39mKodo pradzia\u001b[39m\u001b[39m'\u001b[39m)\n\u001b[1;32m----> 3\u001b[0m     \u001b[39m5\u001b[39;49m\u001b[39m/\u001b[39;49m\u001b[39m0\u001b[39;49m\n\u001b[0;32m      4\u001b[0m     \u001b[39mprint\u001b[39m(name)\n\u001b[0;32m      5\u001b[0m     \u001b[39m# print('try pabaiga')\u001b[39;00m\n",
      "\u001b[1;31mZeroDivisionError\u001b[0m: division by zero"
     ]
    }
   ],
   "source": [
    "try:\n",
    "    print ('Kodo pradzia')\n",
    "    5/0\n",
    "    print(name)\n",
    "    # print('try pabaiga')\n",
    "except NameError as o: # NENAUDOTI except be klaidos tipo\n",
    "    print(o)\n",
    "print ('kodo pabaiga')"
   ]
  },
  {
   "cell_type": "code",
   "execution_count": 10,
   "metadata": {},
   "outputs": [
    {
     "name": "stdout",
     "output_type": "stream",
     "text": [
      "Kodo pradzia\n",
      "Bandete dalinti is 0\n",
      "division by zero\n",
      "kodo pabaiga\n"
     ]
    }
   ],
   "source": [
    "try:\n",
    "    print ('Kodo pradzia')\n",
    "    5/0\n",
    "    print(name)\n",
    "    # print('try pabaiga')\n",
    "except NameError as o: # NENAUDOTI except be klaidos tipo\n",
    "    print(o)\n",
    "except ZeroDivisionError as o:\n",
    "    print ('Bandete dalinti is 0')\n",
    "    print (o)\n",
    "\n",
    "print ('kodo pabaiga')"
   ]
  },
  {
   "cell_type": "code",
   "execution_count": 14,
   "metadata": {},
   "outputs": [
    {
     "name": "stdout",
     "output_type": "stream",
     "text": [
      "Kodo pradzia\n",
      "name 'my_list' is not defined\n",
      "Visada bus atspausdintas\n"
     ]
    }
   ],
   "source": [
    "try:\n",
    "    print ('Kodo pradzia')\n",
    "    # 5/0\n",
    "    # print(name)\n",
    "    my_list[56]\n",
    "    print('try pabaiga')\n",
    "except NameError as o: # NENAUDOTI except be klaidos tipo\n",
    "    print(o)\n",
    "except ZeroDivisionError as o:\n",
    "    print ('Bandete dalinti is 0')\n",
    "    print (o)\n",
    "finally:\n",
    "    print ('Visada bus atspausdintas') # atspausdins net jei ivyko klaida\n",
    "\n"
   ]
  },
  {
   "attachments": {},
   "cell_type": "markdown",
   "metadata": {},
   "source": [
    "# daznu atveju galima apsieiti be try/except"
   ]
  },
  {
   "cell_type": "code",
   "execution_count": 15,
   "metadata": {},
   "outputs": [
    {
     "name": "stdout",
     "output_type": "stream",
     "text": [
      "None\n"
     ]
    }
   ],
   "source": [
    "b = 6\n",
    "c = 0\n",
    "\n",
    "if c == 0:\n",
    "    v = None\n",
    "else:\n",
    "    v = b / c\n",
    "print (v)"
   ]
  },
  {
   "cell_type": "code",
   "execution_count": 17,
   "metadata": {},
   "outputs": [
    {
     "ename": "ValueError",
     "evalue": "invalid literal for int() with base 10: '5.1'",
     "output_type": "error",
     "traceback": [
      "\u001b[1;31m---------------------------------------------------------------------------\u001b[0m",
      "\u001b[1;31mValueError\u001b[0m                                Traceback (most recent call last)",
      "Cell \u001b[1;32mIn[17], line 7\u001b[0m\n\u001b[0;32m      4\u001b[0m     \u001b[39mreturn\u001b[39;00m a \u001b[39m+\u001b[39m b\n\u001b[0;32m      6\u001b[0m add_2(\u001b[39m'\u001b[39m\u001b[39m5\u001b[39m\u001b[39m'\u001b[39m, \u001b[39m4\u001b[39m)\n\u001b[1;32m----> 7\u001b[0m add_2(\u001b[39m'\u001b[39;49m\u001b[39m5.1\u001b[39;49m\u001b[39m'\u001b[39;49m, \u001b[39m4\u001b[39;49m)\n",
      "Cell \u001b[1;32mIn[17], line 3\u001b[0m, in \u001b[0;36madd_2\u001b[1;34m(a, b)\u001b[0m\n\u001b[0;32m      1\u001b[0m \u001b[39mdef\u001b[39;00m \u001b[39madd_2\u001b[39m(a,b):\n\u001b[0;32m      2\u001b[0m     \u001b[39mif\u001b[39;00m \u001b[39mnot\u001b[39;00m \u001b[39misinstance\u001b[39m( a, \u001b[39mint\u001b[39m):\n\u001b[1;32m----> 3\u001b[0m         a \u001b[39m=\u001b[39m \u001b[39mint\u001b[39;49m(a)\n\u001b[0;32m      4\u001b[0m     \u001b[39mreturn\u001b[39;00m a \u001b[39m+\u001b[39m b\n",
      "\u001b[1;31mValueError\u001b[0m: invalid literal for int() with base 10: '5.1'"
     ]
    }
   ],
   "source": [
    "def add_2(a,b):\n",
    "    if not isinstance( a, int):\n",
    "        a = int(a)\n",
    "    return a + b\n",
    "\n",
    "add_2('5', 4)\n",
    "add_2('5.1', 4)"
   ]
  },
  {
   "attachments": {},
   "cell_type": "markdown",
   "metadata": {},
   "source": [
    " # OS biblioteka"
   ]
  },
  {
   "cell_type": "code",
   "execution_count": 18,
   "metadata": {},
   "outputs": [],
   "source": [
    "import os"
   ]
  },
  {
   "cell_type": "code",
   "execution_count": 19,
   "metadata": {},
   "outputs": [
    {
     "data": {
      "text/plain": [
       "'c:\\\\Users\\\\Ingrida\\\\Documents\\\\Python_mokymai'"
      ]
     },
     "execution_count": 19,
     "metadata": {},
     "output_type": "execute_result"
    }
   ],
   "source": [
    "os.getcwd() # get current working directory"
   ]
  },
  {
   "cell_type": "code",
   "execution_count": 20,
   "metadata": {},
   "outputs": [],
   "source": [
    "os.chdir(\"../\")"
   ]
  },
  {
   "cell_type": "code",
   "execution_count": 21,
   "metadata": {},
   "outputs": [
    {
     "data": {
      "text/plain": [
       "'c:\\\\Users\\\\Ingrida\\\\Documents'"
      ]
     },
     "execution_count": 21,
     "metadata": {},
     "output_type": "execute_result"
    }
   ],
   "source": [
    "os.getcwd()"
   ]
  },
  {
   "cell_type": "code",
   "execution_count": 22,
   "metadata": {},
   "outputs": [
    {
     "data": {
      "text/plain": [
       "['1 PAMOKA.sql',\n",
       " '2 PAMOKA.sql',\n",
       " '3 PAMOKA.sql',\n",
       " '4 PAMOKA.sql',\n",
       " '5 PAMOKA.sql',\n",
       " '6 PAMOKA.sql',\n",
       " '7 PAMOKA.sql',\n",
       " 'ast_sci_data_tables_sample.pdf',\n",
       " 'ATSISKAITYMAS.sql',\n",
       " 'cAlgo',\n",
       " 'cTrader',\n",
       " 'Custom Office Templates',\n",
       " 'desktop.ini',\n",
       " 'Doc',\n",
       " 'Document(1).docx',\n",
       " 'Egzaminas.sql',\n",
       " 'Employee_monthly_salary.csv',\n",
       " 'Kaledos.pbix',\n",
       " 'Lenteliu redagavimas,vizualizacinis pateikimas(Speed-Olimpiada).pbix',\n",
       " 'migration_population.csv',\n",
       " 'My Bluetooth',\n",
       " 'My Music',\n",
       " 'My Pictures',\n",
       " 'My Videos',\n",
       " 'NAMU DARBAI 5 APMOKA.sql',\n",
       " 'Olimpiada.pbix',\n",
       " 'OneNote Notebooks',\n",
       " 'Power BI Desktop',\n",
       " 'Python',\n",
       " 'Python Scripts',\n",
       " 'Python_mokymai',\n",
       " 'Uzduotys 1.sql',\n",
       " 'WHO-COVID-19-global-data.csv',\n",
       " 'Zoom']"
      ]
     },
     "execution_count": 22,
     "metadata": {},
     "output_type": "execute_result"
    }
   ],
   "source": [
    "os.listdir()"
   ]
  },
  {
   "cell_type": "code",
   "execution_count": 23,
   "metadata": {},
   "outputs": [],
   "source": [
    "os.chdir(\"c:\\\\Users\\\\Ingrida\\\\Documents\\\\Python_mokymai\")"
   ]
  },
  {
   "cell_type": "code",
   "execution_count": 24,
   "metadata": {},
   "outputs": [
    {
     "data": {
      "text/plain": [
       "'c:\\\\Users\\\\Ingrida\\\\Documents\\\\Python_mokymai'"
      ]
     },
     "execution_count": 24,
     "metadata": {},
     "output_type": "execute_result"
    }
   ],
   "source": [
    "os.getcwd()"
   ]
  },
  {
   "cell_type": "code",
   "execution_count": 25,
   "metadata": {},
   "outputs": [
    {
     "data": {
      "text/plain": [
       "['.git',\n",
       " '.gitignore',\n",
       " 'Homework_1_&_2.ipynb',\n",
       " 'Homework_3_&_4.ipynb',\n",
       " 'Lesson_1.ipynb',\n",
       " 'Lesson_2.ipynb',\n",
       " 'Lesson_3.ipynb',\n",
       " 'Lesson_4.ipynb',\n",
       " 'Lesson_5.ipynb',\n",
       " 'Lesson_6.ipynb',\n",
       " 'README.md']"
      ]
     },
     "execution_count": 25,
     "metadata": {},
     "output_type": "execute_result"
    }
   ],
   "source": [
    "os.listdir()"
   ]
  },
  {
   "cell_type": "code",
   "execution_count": 27,
   "metadata": {},
   "outputs": [
    {
     "data": {
      "text/plain": [
       "['.git',\n",
       " '.gitignore',\n",
       " 'Homework_1_&_2.ipynb',\n",
       " 'Homework_3_&_4.ipynb',\n",
       " 'Lesson_1.ipynb',\n",
       " 'Lesson_2.ipynb',\n",
       " 'Lesson_3.ipynb',\n",
       " 'Lesson_4.ipynb',\n",
       " 'Lesson_5.ipynb',\n",
       " 'Lesson_6.ipynb',\n",
       " 'README.md']"
      ]
     },
     "execution_count": 27,
     "metadata": {},
     "output_type": "execute_result"
    }
   ],
   "source": [
    "# os.listdir(\"c:\\\\Users\\\\Ingrida\\\\Documents\\\\python_mokymai\") # tas pats rezultatas\n",
    "os.listdir(\"c:/Users/Ingrida/Documents/python_mokymai\")"
   ]
  },
  {
   "cell_type": "code",
   "execution_count": 28,
   "metadata": {},
   "outputs": [],
   "source": [
    "# os.mkdir() # sukuria tik viena aplanka\n",
    "os.makedirs('test1/test2/test3') # gali sukurti daugiau nei viena aplanka"
   ]
  },
  {
   "cell_type": "code",
   "execution_count": 30,
   "metadata": {},
   "outputs": [
    {
     "ename": "FileExistsError",
     "evalue": "[WinError 183] Cannot create a file when that file already exists: 'test1/test2/test3'",
     "output_type": "error",
     "traceback": [
      "\u001b[1;31m---------------------------------------------------------------------------\u001b[0m",
      "\u001b[1;31mFileExistsError\u001b[0m                           Traceback (most recent call last)",
      "Cell \u001b[1;32mIn[30], line 2\u001b[0m\n\u001b[0;32m      1\u001b[0m os\u001b[39m.\u001b[39mmakedirs(\u001b[39m'\u001b[39m\u001b[39mtest1/test2/test3\u001b[39m\u001b[39m'\u001b[39m)\n\u001b[1;32m----> 2\u001b[0m os\u001b[39m.\u001b[39;49mmakedirs(\u001b[39m'\u001b[39;49m\u001b[39mtest1/test2/test3\u001b[39;49m\u001b[39m'\u001b[39;49m)\n",
      "File \u001b[1;32m<frozen os>:225\u001b[0m, in \u001b[0;36mmakedirs\u001b[1;34m(name, mode, exist_ok)\u001b[0m\n",
      "\u001b[1;31mFileExistsError\u001b[0m: [WinError 183] Cannot create a file when that file already exists: 'test1/test2/test3'"
     ]
    }
   ],
   "source": [
    "os.makedirs('test1/test2/test3')\n",
    "os.makedirs('test1/test2/test3')"
   ]
  },
  {
   "cell_type": "code",
   "execution_count": 31,
   "metadata": {},
   "outputs": [],
   "source": [
    "os.makedirs('test1/test2/test3', exist_ok=True)\n",
    "os.makedirs('test1/test2/test3', exist_ok=True)"
   ]
  },
  {
   "cell_type": "code",
   "execution_count": 29,
   "metadata": {},
   "outputs": [],
   "source": [
    "os.removedirs('test1/test2/test3/') # istrina tik tuscius aplankalus"
   ]
  },
  {
   "attachments": {},
   "cell_type": "markdown",
   "metadata": {},
   "source": [
    "# Dokumentu skaitymas ir rasymas"
   ]
  },
  {
   "cell_type": "code",
   "execution_count": 39,
   "metadata": {},
   "outputs": [
    {
     "name": "stdout",
     "output_type": "stream",
     "text": [
      "\n"
     ]
    }
   ],
   "source": [
    "with open('tekstas.txt', mode='r') as fr:\n",
    "    text = fr.read()\n",
    "\n",
    "print(text)\n"
   ]
  },
  {
   "cell_type": "code",
   "execution_count": 40,
   "metadata": {},
   "outputs": [],
   "source": [
    "out_text = \"hello from Python\\n\"\n",
    "out_text_2 = 'second line'\n",
    "\n",
    "with open('tekstas_output.txt', mode='w') as fw:\n",
    "    fw.write(out_text)\n",
    "    fw.write(out_text_2)\n",
    "\n"
   ]
  },
  {
   "attachments": {},
   "cell_type": "markdown",
   "metadata": {},
   "source": [
    "# JSON"
   ]
  },
  {
   "cell_type": "code",
   "execution_count": 41,
   "metadata": {},
   "outputs": [],
   "source": [
    "my_dict = {\n",
    "    'names': 'Darius',\n",
    "    'hobbies': ['tennis', 'bicycle']\n",
    "}"
   ]
  },
  {
   "cell_type": "code",
   "execution_count": 42,
   "metadata": {},
   "outputs": [],
   "source": [
    "import json\n",
    "\n",
    "with open('person.json', 'w') as fw:\n",
    "    json.dump( my_dict, fw)"
   ]
  },
  {
   "cell_type": "code",
   "execution_count": 43,
   "metadata": {},
   "outputs": [
    {
     "name": "stdout",
     "output_type": "stream",
     "text": [
      "{'names': 'Darius', 'hobbies': ['tennis', 'bicycle']}\n",
      "<class 'dict'>\n"
     ]
    }
   ],
   "source": [
    "with open('person.json', 'r') as any_variable_name: # bet koks pavadinimas\n",
    "    loaded_dict = json.load(any_variable_name)\n",
    "\n",
    "print(loaded_dict)\n",
    "print(type(loaded_dict))"
   ]
  }
 ],
 "metadata": {
  "kernelspec": {
   "display_name": "Python 3",
   "language": "python",
   "name": "python3"
  },
  "language_info": {
   "codemirror_mode": {
    "name": "ipython",
    "version": 3
   },
   "file_extension": ".py",
   "mimetype": "text/x-python",
   "name": "python",
   "nbconvert_exporter": "python",
   "pygments_lexer": "ipython3",
   "version": "3.11.1"
  },
  "orig_nbformat": 4,
  "vscode": {
   "interpreter": {
    "hash": "a1127b4b91826d1819a11384393808cd0fa98ab5b681d4aa12f717b76a806d02"
   }
  }
 },
 "nbformat": 4,
 "nbformat_minor": 2
}
